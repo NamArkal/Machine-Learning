{
 "cells": [
  {
   "cell_type": "markdown",
   "metadata": {},
   "source": [
    "# Multiclass Classification\n",
    "\n",
    "While binary classifiers are used to distinguish between two classes (e.g. detect if a transaction is a fraudulent one, classify an email into either spam or non-spam and etc.), multiclass classifiers distinguish between more than two classes. \n",
    "\n",
    "There are various ways that we can use to perform multiclass classification by leveraging any binary classifiers. In this exercise, you will implement two such strategies for multiclass classification: _One-versus-all_ strategy and _One-versus-one_ strategy.\n",
    "\n",
    "- **One-versus-all (OvA)**: In this strategy, we train a single binary classifier per class, with the samples of that class as positive samples and all other samples as negatives. During inference, we get the prediction from each classifier and select the class with the highest score. This strategy is also called the one-versus-the-rest strtegey. \n",
    "\n",
    "- **One-versus-one (OvO)**: In this strategy, we train a binary classifier for every pair of classes. If there are N classes in the problem, you need to train N * (N-1) / 2 classifiers. During inference, we have to run through all N * (N-1) / 2 classifiers and ses which class wins the most votes. The main advantage of OvO strategy is that each binary classifier only needs to be train on the part of the training dataset for the two classes that it needs to separate. "
   ]
  },
  {
   "cell_type": "code",
   "execution_count": 1,
   "metadata": {},
   "outputs": [],
   "source": [
    "# import packages\n",
    "%matplotlib inline\n",
    "import numpy as np\n",
    "import matplotlib.pyplot as plt\n",
    "import pandas as pd\n",
    "from sklearn import datasets\n",
    "from sklearn.linear_model import LogisticRegression\n",
    "\n",
    "# make this notebook's output stable across runs\n",
    "np.random.seed(0)"
   ]
  },
  {
   "cell_type": "markdown",
   "metadata": {},
   "source": [
    "## Avila Dataset\n",
    "\n",
    "In this lab assignment, we use the [Avila](https://archive.ics.uci.edu/ml/datasets/Avila) data set has been extracted from 800 images of the the \"Avila Bible\", a giant Latin copy of the whole Bible produced during the XII century between Italy and Spain.  \n",
    "The palaeographic analysis of the  manuscript has  individuated the presence of 12 copyists. The pages written by each copyist are not equally numerous. \n",
    "Each pattern contains 10 features and corresponds to a group of 4 consecutive rows.\n",
    "\n",
    "The prediction task consists in associating each pattern to one of the 12 copyists (labeled as: A, B, C, D, E, F, G, H, I, W, X, Y).\n",
    "The data have has been normalized, by using the Z-normalization method, and divided in two data sets: a training set containing 10430 samples, and a test set  containing the 10437 samples.\n"
   ]
  },
  {
   "cell_type": "code",
   "execution_count": 2,
   "metadata": {},
   "outputs": [],
   "source": [
    "# Load train and test data from CSV files.\n",
    "train = pd.read_csv(\"avila-tr.txt\", header=None)\n",
    "test = pd.read_csv(\"avila-ts.txt\", header=None)\n",
    "\n",
    "x_train = train.iloc[:,:-1]\n",
    "y_train = train.iloc[:,-1]\n",
    "\n",
    "x_test = test.iloc[:,:-1]\n",
    "y_test = test.iloc[:,-1]"
   ]
  },
  {
   "cell_type": "code",
   "execution_count": 3,
   "metadata": {},
   "outputs": [
    {
     "data": {
      "text/plain": [
       "A    4286\n",
       "F    1961\n",
       "E    1095\n",
       "I     831\n",
       "X     522\n",
       "H     519\n",
       "G     446\n",
       "D     352\n",
       "Y     266\n",
       "C     103\n",
       "W      44\n",
       "B       5\n",
       "Name: 10, dtype: int64"
      ]
     },
     "execution_count": 3,
     "metadata": {},
     "output_type": "execute_result"
    }
   ],
   "source": [
    "# Output the number of images in each class in the train and test datasets\n",
    "y_train.value_counts()"
   ]
  },
  {
   "cell_type": "code",
   "execution_count": 4,
   "metadata": {},
   "outputs": [
    {
     "data": {
      "text/plain": [
       "A    4286\n",
       "F    1962\n",
       "E    1095\n",
       "I     832\n",
       "X     522\n",
       "H     520\n",
       "G     447\n",
       "D     353\n",
       "Y     267\n",
       "C     103\n",
       "W      45\n",
       "B       5\n",
       "Name: 10, dtype: int64"
      ]
     },
     "execution_count": 4,
     "metadata": {},
     "output_type": "execute_result"
    }
   ],
   "source": [
    "y_test.value_counts()\n",
    "# Train and test have the same distribution of data samples per each class"
   ]
  },
  {
   "cell_type": "markdown",
   "metadata": {},
   "source": [
    "Question 1.1: Check for missing Data"
   ]
  },
  {
   "cell_type": "code",
   "execution_count": 5,
   "metadata": {},
   "outputs": [
    {
     "data": {
      "text/plain": [
       "Series([], dtype: int64)"
      ]
     },
     "execution_count": 5,
     "metadata": {},
     "output_type": "execute_result"
    }
   ],
   "source": [
    "res = y_train.isnull().sum()\n",
    "res += y_test.isnull().sum()\n",
    "res += x_test.isnull().sum()\n",
    "res += x_train.isnull().sum()\n",
    "res[res > 0]\n",
    "# There is no missing data"
   ]
  },
  {
   "cell_type": "markdown",
   "metadata": {},
   "source": [
    "Question 1.2: Apply Z-normalization to data"
   ]
  },
  {
   "cell_type": "code",
   "execution_count": 6,
   "metadata": {},
   "outputs": [],
   "source": [
    "from sklearn.preprocessing import StandardScaler\n",
    "scaler = StandardScaler()\n",
    "X_train = scaler.fit_transform(x_train)\n",
    "X_test = scaler.transform(x_test)"
   ]
  },
  {
   "cell_type": "code",
   "execution_count": 7,
   "metadata": {},
   "outputs": [],
   "source": [
    "# Convert x_train numpy array type to pandas dataframe\n",
    "X_train = pd.DataFrame(X_train, index=x_train.index, columns=x_train.columns)\n",
    "X_test = pd.DataFrame(X_test, index=x_test.index, columns=x_test.columns)"
   ]
  },
  {
   "cell_type": "markdown",
   "metadata": {},
   "source": [
    "Question 2.1: Write a method to train multiple logistic regression models performing One vs All (OvA) classification. The method allows you to pass in training features, and target. The method returns a list of models and their associated labels. \n",
    "Within the method:\n",
    "- Determine the list of classes\n",
    "- Create a place to store all the models\n",
    "- For each class, train a model with the target variable set to 1 and 0 for all other classes\n",
    "- Return the list of models trained and associated labels."
   ]
  },
  {
   "cell_type": "code",
   "execution_count": 12,
   "metadata": {},
   "outputs": [],
   "source": [
    "def trainOvA(x, y):\n",
    "    \"\"\"\n",
    "    TODO: Train the multiclass classifier using OvA strategy. \n",
    "    \"\"\"\n",
    "    labels = sorted(y.unique())\n",
    "    n_labels = len(labels)\n",
    "    print(\"number of classes is {}\".format(n_labels))\n",
    "    # Creating variables for storing models and their labels\n",
    "    models = [None] * n_labels\n",
    "    model_labels = [None] * n_labels\n",
    "\n",
    "    for i, label in enumerate(labels):\n",
    "        #Create model\n",
    "        model = LogisticRegression()\n",
    "        label = labels[i]\n",
    "        print(\"Train Logistic Regression model for class {}\".format(label))\n",
    "\n",
    "        # update the label according to OvA strategy\n",
    "        # All rows with label will now have 1 output and all rows with non-label will have 0 output\n",
    "        y_label = y.replace(label, 1)\n",
    "        y_label = y_label.replace(labels[:i] + labels[i+1:], 0)\n",
    "        # Reference: https://stackoverflow.com/questions/19286657/index-all-except-one-item-in-python\n",
    "        \n",
    "        # Train model\n",
    "        models[i] = model.fit(x,y_label.values.ravel())\n",
    "        model_labels[i] = y_label\n",
    "        \n",
    "    return models, model_labels"
   ]
  },
  {
   "cell_type": "markdown",
   "metadata": {},
   "source": [
    "Question 2.2: Write a method that leverage the multiple models train for OvA, and outputs the majority class."
   ]
  },
  {
   "cell_type": "code",
   "execution_count": 13,
   "metadata": {},
   "outputs": [],
   "source": [
    "def predictOvA(models, model_labels, x):\n",
    "    \"\"\"\n",
    "    TODO: Make predictions on multiclass problems using the OvA strategy. \n",
    "    \"\"\"\n",
    "    if models == None:\n",
    "        sys.exit(\"The model has not been trained yet. Please call train() first. Exiting...\")\n",
    "        \n",
    "    predictions = []\n",
    "\n",
    "    #Create prediction\n",
    "    for i,model in enumerate(models):\n",
    "        prediction = models[i].predict(x)\n",
    "        predictions.append(prediction)\n",
    "\n",
    "    predictions = np.transpose(predictions)\n",
    "    # Transposing to convert 12 x 1437 output into a 1437 x 12 matrix so that max between each unique class can be queried for each test input sample\n",
    "    predictions = pd.DataFrame(predictions, columns=sorted(y_test.unique()))\n",
    "    return predictions.idxmax(axis=1).values"
   ]
  },
  {
   "cell_type": "markdown",
   "metadata": {},
   "source": [
    "I see a benefit here in calling predict_proba() instead of predict(). Use predict_proba() to generate the probabilities for class 0 and class 1. Choose and store the max of the probabilites in the predict[] list and then apply idmax on the data set. This way we'll be choosing a more accurate max based on probabilities and not based on 1/0."
   ]
  },
  {
   "cell_type": "markdown",
   "metadata": {},
   "source": [
    "Question 2.3: Train OvA model on the Avila dataset"
   ]
  },
  {
   "cell_type": "code",
   "execution_count": 14,
   "metadata": {},
   "outputs": [
    {
     "name": "stdout",
     "output_type": "stream",
     "text": [
      "number of classes is 12\n",
      "Train Logistic Regression model for class A\n",
      "Train Logistic Regression model for class B\n",
      "Train Logistic Regression model for class C\n",
      "Train Logistic Regression model for class D\n",
      "Train Logistic Regression model for class E\n",
      "Train Logistic Regression model for class F\n",
      "Train Logistic Regression model for class G\n",
      "Train Logistic Regression model for class H\n",
      "Train Logistic Regression model for class I\n",
      "Train Logistic Regression model for class W\n",
      "Train Logistic Regression model for class X\n",
      "Train Logistic Regression model for class Y\n"
     ]
    }
   ],
   "source": [
    "models, model_labels = trainOvA(X_train, y_train)"
   ]
  },
  {
   "cell_type": "markdown",
   "metadata": {},
   "source": [
    "Question 2.4: Predict and evalutate the results of your model"
   ]
  },
  {
   "cell_type": "code",
   "execution_count": 15,
   "metadata": {},
   "outputs": [
    {
     "data": {
      "text/plain": [
       "array(['A', 'A', 'A', ..., 'A', 'A', 'A'], dtype=object)"
      ]
     },
     "execution_count": 15,
     "metadata": {},
     "output_type": "execute_result"
    }
   ],
   "source": [
    "te_z_ova = predictOvA(models, model_labels, X_test)\n",
    "te_z_ova"
   ]
  },
  {
   "cell_type": "code",
   "execution_count": 16,
   "metadata": {},
   "outputs": [
    {
     "name": "stdout",
     "output_type": "stream",
     "text": [
      "Accuracy of OvA classifier is 0.49717351729424164.\n",
      "Confusion matrix of OvA classifier: \n",
      " [[4258    0    0    0   12    2    0    0   13    0    1    0]\n",
      " [   3    2    0    0    0    0    0    0    0    0    0    0]\n",
      " [ 101    0    0    0    1    0    0    0    1    0    0    0]\n",
      " [ 353    0    0    0    0    0    0    0    0    0    0    0]\n",
      " [1084    0    0    0    2    0    0    0    2    0    6    1]\n",
      " [1946    0    0    0    0    1    0    1   12    0    0    2]\n",
      " [ 446    0    0    0    0    0    0    1    0    0    0    0]\n",
      " [ 515    0    0    0    0    1    0    0    4    0    0    0]\n",
      " [ 185    0    0    0    8    1    0    1  626    0    4    7]\n",
      " [  36    0    0    0    8    0    0    0    0    0    1    0]\n",
      " [ 225    0    0    0    4    0    0    0   36    0  247   10]\n",
      " [ 155    0    0    0    1    0    0    0   52    0    6   53]]\n"
     ]
    }
   ],
   "source": [
    "from sklearn.metrics import accuracy_score\n",
    "from sklearn.metrics import confusion_matrix\n",
    "\n",
    "ova_accuracy = accuracy_score(y_test, te_z_ova)\n",
    "ova_confuction_matrix = confusion_matrix(y_test, te_z_ova)\n",
    "print(\"Accuracy of OvA classifier is {}.\".format(ova_accuracy))\n",
    "print(\"Confusion matrix of OvA classifier: \\n {}\".format(ova_confuction_matrix))"
   ]
  },
  {
   "cell_type": "markdown",
   "metadata": {},
   "source": [
    "---"
   ]
  },
  {
   "cell_type": "markdown",
   "metadata": {},
   "source": [
    "Question 3.1: Develop a method that trains a list of models based on the OvO stragety for multiclass classification using logistic regression. "
   ]
  },
  {
   "cell_type": "code",
   "execution_count": 44,
   "metadata": {},
   "outputs": [],
   "source": [
    "def trainOvO(x, y):\n",
    "    \"\"\"\n",
    "    TODO: Train the multiclass classifier using OvO strategy. \n",
    "    \"\"\"\n",
    "    labels = sorted(y.unique())\n",
    "    n_labels = len(labels)\n",
    "    n_models = int(len(labels) * (len(labels) - 1) / 2)\n",
    "    print(\"number of classes is {}\".format(n_labels))\n",
    "\n",
    "    models = []\n",
    "    model_labels = []\n",
    "    model_idx = 0\n",
    "    for i in range(n_labels):\n",
    "        for j in range(i+1, n_labels):\n",
    "            label_i = labels[i]\n",
    "            label_j = labels[j]\n",
    "            print(\"Train Logistic Regression model to distinguish {} and {}\".format(label_i, label_j))\n",
    "\n",
    "            # update the label according to OvO strategy\n",
    "            # Drop all rows with irrelevant data i.e. data not belonging to label_i and label_j\n",
    "            drop_indices = y[ (y != label_i) & (y != label_j) ].index\n",
    "            train_x = x.drop(drop_indices)\n",
    "            train_y = y.drop(drop_indices)\n",
    "\n",
    "            # construct the logistic regression instance\n",
    "            lr = LogisticRegression(solver = 'liblinear')\n",
    "            models.append(lr.fit(train_x,train_y.values.ravel()))\n",
    "            model_labels.append(train_y)\n",
    "        \n",
    "    return models, model_labels"
   ]
  },
  {
   "cell_type": "markdown",
   "metadata": {},
   "source": [
    "Question 3.2: Write a method that leverage the multiple models train for OvO, and outputs the majority class."
   ]
  },
  {
   "cell_type": "code",
   "execution_count": 48,
   "metadata": {},
   "outputs": [],
   "source": [
    "def predictOvO(models, labels, x):\n",
    "    \"\"\"\n",
    "    TODO: Make predictions on multiclass problems using the OvO strategy. \n",
    "    \"\"\"\n",
    "    if models == None:\n",
    "        sys.exit(\"The model has not been trained yet. Please call train() first. Exiting...\")\n",
    "\n",
    "    n_models = len(models)\n",
    "    predictions = []\n",
    "\n",
    "    #Create prediction\n",
    "    for i in range(n_models):\n",
    "        prediction = models[i].predict(x)\n",
    "        predictions.append(prediction)\n",
    "\n",
    "    predictions = np.transpose(predictions)\n",
    "    # Transposing to convert 66 x 1437 output into a 1437 x 66 matrix so that max between each unique class can be queried for each test input sample\n",
    "    predictions = pd.DataFrame(predictions)\n",
    "    return predictions.mode(axis=1).iloc[:, 0].values"
   ]
  },
  {
   "cell_type": "markdown",
   "metadata": {},
   "source": [
    "Question 3.3: Train OvO model on the Avila dataset"
   ]
  },
  {
   "cell_type": "code",
   "execution_count": 46,
   "metadata": {},
   "outputs": [
    {
     "name": "stdout",
     "output_type": "stream",
     "text": [
      "number of classes is 12\n",
      "Train Logistic Regression model to distinguish A and B\n",
      "Train Logistic Regression model to distinguish A and C\n",
      "Train Logistic Regression model to distinguish A and D\n",
      "Train Logistic Regression model to distinguish A and E\n",
      "Train Logistic Regression model to distinguish A and F\n",
      "Train Logistic Regression model to distinguish A and G\n",
      "Train Logistic Regression model to distinguish A and H\n",
      "Train Logistic Regression model to distinguish A and I\n",
      "Train Logistic Regression model to distinguish A and W\n",
      "Train Logistic Regression model to distinguish A and X\n",
      "Train Logistic Regression model to distinguish A and Y\n",
      "Train Logistic Regression model to distinguish B and C\n",
      "Train Logistic Regression model to distinguish B and D\n",
      "Train Logistic Regression model to distinguish B and E\n",
      "Train Logistic Regression model to distinguish B and F\n",
      "Train Logistic Regression model to distinguish B and G\n",
      "Train Logistic Regression model to distinguish B and H\n",
      "Train Logistic Regression model to distinguish B and I\n",
      "Train Logistic Regression model to distinguish B and W\n",
      "Train Logistic Regression model to distinguish B and X\n",
      "Train Logistic Regression model to distinguish B and Y\n",
      "Train Logistic Regression model to distinguish C and D\n",
      "Train Logistic Regression model to distinguish C and E\n",
      "Train Logistic Regression model to distinguish C and F\n",
      "Train Logistic Regression model to distinguish C and G\n",
      "Train Logistic Regression model to distinguish C and H\n",
      "Train Logistic Regression model to distinguish C and I\n",
      "Train Logistic Regression model to distinguish C and W\n",
      "Train Logistic Regression model to distinguish C and X\n",
      "Train Logistic Regression model to distinguish C and Y\n",
      "Train Logistic Regression model to distinguish D and E\n",
      "Train Logistic Regression model to distinguish D and F\n",
      "Train Logistic Regression model to distinguish D and G\n",
      "Train Logistic Regression model to distinguish D and H\n",
      "Train Logistic Regression model to distinguish D and I\n",
      "Train Logistic Regression model to distinguish D and W\n",
      "Train Logistic Regression model to distinguish D and X\n",
      "Train Logistic Regression model to distinguish D and Y\n",
      "Train Logistic Regression model to distinguish E and F\n",
      "Train Logistic Regression model to distinguish E and G\n",
      "Train Logistic Regression model to distinguish E and H\n",
      "Train Logistic Regression model to distinguish E and I\n",
      "Train Logistic Regression model to distinguish E and W\n",
      "Train Logistic Regression model to distinguish E and X\n",
      "Train Logistic Regression model to distinguish E and Y\n",
      "Train Logistic Regression model to distinguish F and G\n",
      "Train Logistic Regression model to distinguish F and H\n",
      "Train Logistic Regression model to distinguish F and I\n",
      "Train Logistic Regression model to distinguish F and W\n",
      "Train Logistic Regression model to distinguish F and X\n",
      "Train Logistic Regression model to distinguish F and Y\n",
      "Train Logistic Regression model to distinguish G and H\n",
      "Train Logistic Regression model to distinguish G and I\n",
      "Train Logistic Regression model to distinguish G and W\n",
      "Train Logistic Regression model to distinguish G and X\n",
      "Train Logistic Regression model to distinguish G and Y\n",
      "Train Logistic Regression model to distinguish H and I\n",
      "Train Logistic Regression model to distinguish H and W\n",
      "Train Logistic Regression model to distinguish H and X\n",
      "Train Logistic Regression model to distinguish H and Y\n",
      "Train Logistic Regression model to distinguish I and W\n",
      "Train Logistic Regression model to distinguish I and X\n",
      "Train Logistic Regression model to distinguish I and Y\n",
      "Train Logistic Regression model to distinguish W and X\n",
      "Train Logistic Regression model to distinguish W and Y\n",
      "Train Logistic Regression model to distinguish X and Y\n"
     ]
    }
   ],
   "source": [
    "models, labels = trainOvO(X_train, y_train)"
   ]
  },
  {
   "cell_type": "markdown",
   "metadata": {},
   "source": [
    "Question 3.4: Predict and evalutate the results of your model"
   ]
  },
  {
   "cell_type": "code",
   "execution_count": 51,
   "metadata": {},
   "outputs": [
    {
     "data": {
      "text/plain": [
       "10437"
      ]
     },
     "execution_count": 51,
     "metadata": {},
     "output_type": "execute_result"
    }
   ],
   "source": [
    "te_z_ovo = predictOvO(models, labels, X_test)\n",
    "te_z_ovo"
   ]
  },
  {
   "cell_type": "code",
   "execution_count": 53,
   "metadata": {},
   "outputs": [
    {
     "name": "stdout",
     "output_type": "stream",
     "text": [
      "Accuracy of OvO classifier is 0.5720992622401073.\n",
      "Confusion matrix of OvO classifier: \n",
      " [[4043    0   24    4   41  120    2   21   27    0    2    2]\n",
      " [   0    5    0    0    0    0    0    0    0    0    0    0]\n",
      " [  64    0    0    0   15   13    0    7    4    0    0    0]\n",
      " [ 281    0    1    0   44   13    0   10    2    0    2    0]\n",
      " [ 637    0    0    0  327   49    0   32   10    0   37    3]\n",
      " [1698    0    0    2   14  207    0   20   16    0    1    4]\n",
      " [ 364    0    0    0   18   51    7    5    0    0    2    0]\n",
      " [ 280    0    0    0   38   45    0  145   10    0    1    1]\n",
      " [  48    0    2    0    1   13    1    8  723    4   15   17]\n",
      " [  33    0    0    0   10    0    0    0    0    0    2    0]\n",
      " [  47    0    0    0   53    5    0    1   33    7  343   33]\n",
      " [  29    0    0    0    7    3    0    3   30    0   24  171]]\n"
     ]
    }
   ],
   "source": [
    "ovo_accuracy = accuracy_score(y_test, te_z_ovo)\n",
    "ovo_confuction_matrix = confusion_matrix(y_test, te_z_ovo)\n",
    "print(\"Accuracy of OvO classifier is {}.\".format(ovo_accuracy))\n",
    "print(\"Confusion matrix of OvO classifier: \\n {}\".format(ovo_confuction_matrix))"
   ]
  },
  {
   "cell_type": "markdown",
   "metadata": {},
   "source": [
    "Question 4.1: [LogisticRegression](https://scikit-learn.org/stable/modules/generated/sklearn.linear_model.LogisticRegression.html) within sklearn supports two approaches for solving multi-class problems: 'ovr', 'multinomial'. Try out both approaches, and evaluate compare the performance against what you developed in questions 2 and 3."
   ]
  },
  {
   "cell_type": "code",
   "execution_count": 56,
   "metadata": {},
   "outputs": [
    {
     "name": "stdout",
     "output_type": "stream",
     "text": [
      "Accuracy of OvO classifier is 0.5308996838171889.\n",
      "Confusion matrix of OvO classifier: \n",
      " [[4159    0    0    0   31   62    0    8   18    0    6    2]\n",
      " [   0    5    0    0    0    0    0    0    0    0    0    0]\n",
      " [  80    0    0    0    9   11    0    0    3    0    0    0]\n",
      " [ 327    0    0    0    5    6    0   14    0    0    1    0]\n",
      " [ 917    0    0    0   76   54    0   10    9    0   28    1]\n",
      " [1882    0    0    0    4   55    0    4   13    0    0    4]\n",
      " [ 413    0    0    0    4   23    0    4    0    0    3    0]\n",
      " [ 366    0    0    0   31   66    0   40   15    0    1    1]\n",
      " [  64    0    0    0    2    5    0    3  733    0   15   10]\n",
      " [  34    0    0    0    9    0    0    0    0    0    2    0]\n",
      " [  95    0    0    0   15    3    0    2   34    0  347   26]\n",
      " [  56    0    0    0    1    1    0    0   63    0   20  126]]\n"
     ]
    }
   ],
   "source": [
    "clf = LogisticRegression(multi_class='ovr').fit(X_train, y_train)\n",
    "y_ovr = clf.predict(X_test)\n",
    "\n",
    "ovr_accuracy = accuracy_score(y_test, y_ovr)\n",
    "ovr_confusion_matrix = confusion_matrix(y_test, y_ovr)\n",
    "\n",
    "\n",
    "print(\"Accuracy of OvA classifier is {}.\".format(ovr_accuracy))\n",
    "print(\"Confusion matrix of OvA classifier: \\n {}\".format(ovr_confusion_matrix))"
   ]
  },
  {
   "cell_type": "code",
   "execution_count": 60,
   "metadata": {},
   "outputs": [
    {
     "name": "stdout",
     "output_type": "stream",
     "text": [
      "Accuracy of multinomial classifier is 0.5615598352016863.\n",
      "Confusion matrix of multinomial classifier: \n",
      " [[4041    0    1    3   65  127    0   18   21    0    7    3]\n",
      " [   0    5    0    0    0    0    0    0    0    0    0    0]\n",
      " [  66    0    0    0   13   17    0    4    3    0    0    0]\n",
      " [ 288    0    0    0   30   17    0   14    1    0    3    0]\n",
      " [ 660    0    0    0  270   60    0   32   11    0   56    6]\n",
      " [1730    0    2    1   15  178    0   14   16    0    1    5]\n",
      " [ 391    0    0    0   17   21    0   14    0    0    4    0]\n",
      " [ 305    0    0    0   57   47    0   96   13    0    2    0]\n",
      " [  34    0    0    1    4   17    0    7  726    0   22   21]\n",
      " [  30    0    0    0   11    0    0    0    0    2    2    0]\n",
      " [  49    0    0    0   24    3    0    7   23    6  372   38]\n",
      " [  29    0    0    0    3    3    0    0   32    0   29  171]]\n"
     ]
    }
   ],
   "source": [
    "#class = multinomial\n",
    "clf = LogisticRegression(max_iter=1000, multi_class='multinomial').fit(X_train, y_train)\n",
    "y_multinomial = clf.predict(X_test)\n",
    "\n",
    "multinomial_accuracy = accuracy_score(y_test, y_multinomial)\n",
    "multinomial_confuction_matrix = confusion_matrix(y_test, y_multinomial)\n",
    "\n",
    "\n",
    "print(\"Accuracy of multinomial classifier is {}.\".format(multinomial_accuracy))\n",
    "print(\"Confusion matrix of multinomial classifier: \\n {}\".format(multinomial_confuction_matrix))"
   ]
  },
  {
   "cell_type": "markdown",
   "metadata": {},
   "source": [
    "Question 4: Create a new text cell in your Notebook: Complete a 50-100 word summary (or short description of your thinking in applying this week's learning to the solution) of your experience in this assignment. Include: What was your incoming experience with this model, if any? what steps you took, what obstacles you encountered. how you link this exercise to real-world, machine learning problem-solving. (What steps were missing? What else do you need to learn?) This summary allows your instructor to know how you are doing and allot points for your effort in thinking and planning, and making connections to real-world work."
   ]
  },
  {
   "cell_type": "markdown",
   "metadata": {},
   "source": [
    "Incoming experience: No incoming experience apart from previous assignments Steps taken: This week's lesson was about doing multiclass classification using OvO and OvA. Implemented both methods on the data set to get a deeper understanding of the concepts Obstacles: This week's obstacle was understanding the starter code, why we need model labels for predict method (we don't need it?) and going throught the different errors that were thrown Link to real world: Helped me understand how both strategies work, and how they work when compared to other multiclass classification models Steps missing (with just this week's learning): I don't think there was anything missing"
   ]
  },
  {
   "cell_type": "code",
   "execution_count": null,
   "metadata": {},
   "outputs": [],
   "source": []
  }
 ],
 "metadata": {
  "kernelspec": {
   "display_name": "Python 3 (ipykernel)",
   "language": "python",
   "name": "python3"
  },
  "language_info": {
   "codemirror_mode": {
    "name": "ipython",
    "version": 3
   },
   "file_extension": ".py",
   "mimetype": "text/x-python",
   "name": "python",
   "nbconvert_exporter": "python",
   "pygments_lexer": "ipython3",
   "version": "3.9.13"
  }
 },
 "nbformat": 4,
 "nbformat_minor": 2
}
