{
 "cells": [
  {
   "cell_type": "markdown",
   "metadata": {},
   "source": [
    "# Lesson 5 Assignment\n",
    "\n",
    "In this lab assignment, you will build a non-tree-based classifier where you can ensemble any base-learners and pass it to the using a BaggingClassifier or any of the other ensemble learners in sklearn.ensemble."
   ]
  },
  {
   "cell_type": "code",
   "execution_count": 1,
   "metadata": {},
   "outputs": [],
   "source": [
    "# import packages\n",
    "%matplotlib inline\n",
    "import numpy as np\n",
    "import matplotlib\n",
    "import matplotlib.pyplot as plt\n",
    "import pandas as pd\n",
    "from sklearn.linear_model import LogisticRegression\n",
    "from sklearn.ensemble import BaggingClassifier\n",
    "from sklearn.ensemble import AdaBoostClassifier\n",
    "from sklearn.metrics import accuracy_score\n",
    "from sklearn.metrics import roc_auc_score\n",
    "from sklearn.model_selection import GridSearchCV\n",
    "\n",
    "# make this notebook's output stable across runs\n",
    "np.random.seed(0)"
   ]
  },
  {
   "cell_type": "markdown",
   "metadata": {},
   "source": [
    "## Data Set Information:\n",
    "\n",
    "This dataset represents a set of possible advertisements on Internet pages. The features encode the geometry of the image (if available) as well as phrases occuring in the URL, the image's URL and alt text, the anchor text, and words occuring near the anchor text. The task is to predict whether an image is an advertisement (\"ad\") or not (\"nonad\"). Additional information can be found [here](https://archive.ics.uci.edu/ml/datasets/internet%2Badvertisements).\n",
    "\n",
    "## Attribute Information:\n",
    "\n",
    "The dataset has 3 continous (height, width, aratio) and 1555 binary (urls, tags, captions) features. \n",
    "\n",
    "## Source:\n",
    "\n",
    "Creator & donor: Nicholas Kushmerick <nick '@' ucd.ie>"
   ]
  },
  {
   "cell_type": "code",
   "execution_count": 2,
   "metadata": {
    "scrolled": true
   },
   "outputs": [
    {
     "name": "stdout",
     "output_type": "stream",
     "text": [
      "<class 'pandas.core.frame.DataFrame'>\n",
      "RangeIndex: 3279 entries, 0 to 3278\n",
      "Columns: 1559 entries, height to Target\n",
      "dtypes: int64(1554), object(5)\n",
      "memory usage: 39.0+ MB\n",
      "None\n"
     ]
    },
    {
     "name": "stderr",
     "output_type": "stream",
     "text": [
      "/var/folders/xy/h3yp80md61v6ctklz0msf9300000gn/T/ipykernel_2135/254514623.py:2: DtypeWarning: Columns (3) have mixed types. Specify dtype option on import or set low_memory=False.\n",
      "  internetAd = pd.read_csv('Internet_Ad_Data.csv', sep=',', on_bad_lines='skip') # removing error_on_lines as it's deprecated\n"
     ]
    },
    {
     "data": {
      "text/html": [
       "<div>\n",
       "<style scoped>\n",
       "    .dataframe tbody tr th:only-of-type {\n",
       "        vertical-align: middle;\n",
       "    }\n",
       "\n",
       "    .dataframe tbody tr th {\n",
       "        vertical-align: top;\n",
       "    }\n",
       "\n",
       "    .dataframe thead th {\n",
       "        text-align: right;\n",
       "    }\n",
       "</style>\n",
       "<table border=\"1\" class=\"dataframe\">\n",
       "  <thead>\n",
       "    <tr style=\"text-align: right;\">\n",
       "      <th></th>\n",
       "      <th>height</th>\n",
       "      <th>width</th>\n",
       "      <th>aratio</th>\n",
       "      <th>local</th>\n",
       "      <th>url*images+buttons</th>\n",
       "      <th>url*likesbooks.com</th>\n",
       "      <th>url*www.slake.com</th>\n",
       "      <th>url*hydrogeologist</th>\n",
       "      <th>url*oso</th>\n",
       "      <th>url*media</th>\n",
       "      <th>...</th>\n",
       "      <th>caption*home</th>\n",
       "      <th>caption*my</th>\n",
       "      <th>caption*your</th>\n",
       "      <th>caption*in</th>\n",
       "      <th>caption*bytes</th>\n",
       "      <th>caption*here</th>\n",
       "      <th>caption*click</th>\n",
       "      <th>caption*for</th>\n",
       "      <th>caption*you</th>\n",
       "      <th>Target</th>\n",
       "    </tr>\n",
       "  </thead>\n",
       "  <tbody>\n",
       "    <tr>\n",
       "      <th>0</th>\n",
       "      <td>125</td>\n",
       "      <td>125</td>\n",
       "      <td>1.0</td>\n",
       "      <td>1</td>\n",
       "      <td>0</td>\n",
       "      <td>0</td>\n",
       "      <td>0</td>\n",
       "      <td>0</td>\n",
       "      <td>0</td>\n",
       "      <td>0</td>\n",
       "      <td>...</td>\n",
       "      <td>0</td>\n",
       "      <td>0</td>\n",
       "      <td>0</td>\n",
       "      <td>0</td>\n",
       "      <td>0</td>\n",
       "      <td>0</td>\n",
       "      <td>0</td>\n",
       "      <td>0</td>\n",
       "      <td>0</td>\n",
       "      <td>ad.</td>\n",
       "    </tr>\n",
       "    <tr>\n",
       "      <th>1</th>\n",
       "      <td>57</td>\n",
       "      <td>468</td>\n",
       "      <td>8.2105</td>\n",
       "      <td>1</td>\n",
       "      <td>0</td>\n",
       "      <td>0</td>\n",
       "      <td>0</td>\n",
       "      <td>0</td>\n",
       "      <td>0</td>\n",
       "      <td>0</td>\n",
       "      <td>...</td>\n",
       "      <td>0</td>\n",
       "      <td>0</td>\n",
       "      <td>0</td>\n",
       "      <td>0</td>\n",
       "      <td>0</td>\n",
       "      <td>0</td>\n",
       "      <td>0</td>\n",
       "      <td>0</td>\n",
       "      <td>0</td>\n",
       "      <td>ad.</td>\n",
       "    </tr>\n",
       "    <tr>\n",
       "      <th>2</th>\n",
       "      <td>33</td>\n",
       "      <td>230</td>\n",
       "      <td>6.9696</td>\n",
       "      <td>1</td>\n",
       "      <td>0</td>\n",
       "      <td>0</td>\n",
       "      <td>0</td>\n",
       "      <td>0</td>\n",
       "      <td>0</td>\n",
       "      <td>0</td>\n",
       "      <td>...</td>\n",
       "      <td>0</td>\n",
       "      <td>0</td>\n",
       "      <td>0</td>\n",
       "      <td>0</td>\n",
       "      <td>0</td>\n",
       "      <td>0</td>\n",
       "      <td>0</td>\n",
       "      <td>0</td>\n",
       "      <td>0</td>\n",
       "      <td>ad.</td>\n",
       "    </tr>\n",
       "    <tr>\n",
       "      <th>3</th>\n",
       "      <td>60</td>\n",
       "      <td>468</td>\n",
       "      <td>7.8</td>\n",
       "      <td>1</td>\n",
       "      <td>0</td>\n",
       "      <td>0</td>\n",
       "      <td>0</td>\n",
       "      <td>0</td>\n",
       "      <td>0</td>\n",
       "      <td>0</td>\n",
       "      <td>...</td>\n",
       "      <td>0</td>\n",
       "      <td>0</td>\n",
       "      <td>0</td>\n",
       "      <td>0</td>\n",
       "      <td>0</td>\n",
       "      <td>0</td>\n",
       "      <td>0</td>\n",
       "      <td>0</td>\n",
       "      <td>0</td>\n",
       "      <td>ad.</td>\n",
       "    </tr>\n",
       "    <tr>\n",
       "      <th>4</th>\n",
       "      <td>60</td>\n",
       "      <td>468</td>\n",
       "      <td>7.8</td>\n",
       "      <td>1</td>\n",
       "      <td>0</td>\n",
       "      <td>0</td>\n",
       "      <td>0</td>\n",
       "      <td>0</td>\n",
       "      <td>0</td>\n",
       "      <td>0</td>\n",
       "      <td>...</td>\n",
       "      <td>0</td>\n",
       "      <td>0</td>\n",
       "      <td>0</td>\n",
       "      <td>0</td>\n",
       "      <td>0</td>\n",
       "      <td>0</td>\n",
       "      <td>0</td>\n",
       "      <td>0</td>\n",
       "      <td>0</td>\n",
       "      <td>ad.</td>\n",
       "    </tr>\n",
       "  </tbody>\n",
       "</table>\n",
       "<p>5 rows × 1559 columns</p>\n",
       "</div>"
      ],
      "text/plain": [
       "  height width  aratio local  url*images+buttons  url*likesbooks.com  \\\n",
       "0    125   125     1.0     1                   0                   0   \n",
       "1     57   468  8.2105     1                   0                   0   \n",
       "2     33   230  6.9696     1                   0                   0   \n",
       "3     60   468     7.8     1                   0                   0   \n",
       "4     60   468     7.8     1                   0                   0   \n",
       "\n",
       "   url*www.slake.com  url*hydrogeologist  url*oso  url*media  ...  \\\n",
       "0                  0                   0        0          0  ...   \n",
       "1                  0                   0        0          0  ...   \n",
       "2                  0                   0        0          0  ...   \n",
       "3                  0                   0        0          0  ...   \n",
       "4                  0                   0        0          0  ...   \n",
       "\n",
       "   caption*home  caption*my  caption*your  caption*in  caption*bytes  \\\n",
       "0             0           0             0           0              0   \n",
       "1             0           0             0           0              0   \n",
       "2             0           0             0           0              0   \n",
       "3             0           0             0           0              0   \n",
       "4             0           0             0           0              0   \n",
       "\n",
       "   caption*here  caption*click  caption*for  caption*you  Target  \n",
       "0             0              0            0            0     ad.  \n",
       "1             0              0            0            0     ad.  \n",
       "2             0              0            0            0     ad.  \n",
       "3             0              0            0            0     ad.  \n",
       "4             0              0            0            0     ad.  \n",
       "\n",
       "[5 rows x 1559 columns]"
      ]
     },
     "execution_count": 2,
     "metadata": {},
     "output_type": "execute_result"
    }
   ],
   "source": [
    "# Load the data\n",
    "internetAd = pd.read_csv('Internet_Ad_Data.csv', sep=',', on_bad_lines='skip') # removing error_on_lines as it's deprecated\n",
    "print(internetAd.info())\n",
    "internetAd.head(5)"
   ]
  },
  {
   "cell_type": "markdown",
   "metadata": {},
   "source": [
    "Question 1: Prepare and impute missing values with the median"
   ]
  },
  {
   "cell_type": "code",
   "execution_count": 3,
   "metadata": {},
   "outputs": [],
   "source": [
    "# Strip white spaces before and after each string in all string columns\n",
    "for column in internetAd:\n",
    "    if(internetAd[column].dtype == object):\n",
    "        internetAd[column] = internetAd[column].str.strip()\n",
    "\n",
    "# Replacing ? with np.NaN\n",
    "internetAd.replace('?', np.NaN, inplace=True)"
   ]
  },
  {
   "cell_type": "code",
   "execution_count": 4,
   "metadata": {},
   "outputs": [],
   "source": [
    "# Converting object columns to float columns to be able to calculate median\n",
    "internetAd['height'] = internetAd['height'].astype(float)\n",
    "internetAd['width'] = internetAd['width'].astype(float)\n",
    "internetAd['aratio'] = internetAd['aratio'].astype(float)\n",
    "internetAd['local'] = internetAd['local'].astype(float)\n",
    "\n",
    "# Replacing NaN's with median using fillna()\n",
    "internetAd['height'].fillna(internetAd['height'].median(), inplace=True)\n",
    "internetAd['width'].fillna(internetAd['width'].median(), inplace=True)\n",
    "internetAd['local'].fillna(internetAd['local'].median(), inplace=True)\n",
    "internetAd['aratio'].fillna(internetAd['aratio'].median(), inplace=True)\n",
    "\n",
    "# Replacing ad and nonad with 1 and 0\n",
    "# internetAd['Target'].unique()\n",
    "internetAd['Target'] = internetAd['Target'].map({'ad.': 1, 'nonad.': 0})"
   ]
  },
  {
   "cell_type": "code",
   "execution_count": 5,
   "metadata": {},
   "outputs": [
    {
     "data": {
      "text/plain": [
       "Series([], dtype: int64)"
      ]
     },
     "execution_count": 5,
     "metadata": {},
     "output_type": "execute_result"
    }
   ],
   "source": [
    "# Checking for null values in columns: there should not be any null values\n",
    "res = internetAd.isnull().sum()\n",
    "res[res > 0]"
   ]
  },
  {
   "cell_type": "markdown",
   "metadata": {},
   "source": [
    "Question 2: Split dataset into training and test set"
   ]
  },
  {
   "cell_type": "code",
   "execution_count": 6,
   "metadata": {},
   "outputs": [],
   "source": [
    "from sklearn.model_selection import train_test_split\n",
    "\n",
    "X = internetAd.iloc[:,:-1]\n",
    "y = internetAd.iloc[:,-1:]\n",
    "X_train, X_test, y_train, y_test = train_test_split(X, y, test_size=0.33, random_state=42)"
   ]
  },
  {
   "cell_type": "code",
   "execution_count": 7,
   "metadata": {},
   "outputs": [],
   "source": [
    "# Scaling data using minmax scaler. Not using standard scaler because I don't want to change data distribution\n",
    "from sklearn.preprocessing import MinMaxScaler\n",
    "\n",
    "scaler = MinMaxScaler()\n",
    "X_train_minmax_np = scaler.fit_transform(X_train)\n",
    "X_test_minmax_np = scaler.transform(X_test)\n",
    "X_train_minmax_scaled = pd.DataFrame(X_train_minmax_np, index=X_train.index, columns=X_train.columns)\n",
    "X_test_minmax_scaled = pd.DataFrame(X_test_minmax_np, index=X_test.index, columns=X_test.columns)"
   ]
  },
  {
   "cell_type": "markdown",
   "metadata": {},
   "source": [
    "Question 3: Train and evaluate a LogisticRegression classifier using LogisticRegression."
   ]
  },
  {
   "cell_type": "code",
   "execution_count": 8,
   "metadata": {},
   "outputs": [
    {
     "data": {
      "text/plain": [
       "LogisticRegression()"
      ]
     },
     "execution_count": 8,
     "metadata": {},
     "output_type": "execute_result"
    }
   ],
   "source": [
    "dtc_grid = LogisticRegression()\n",
    "dtc_grid.fit(X_train_minmax_scaled, y_train.values.ravel())"
   ]
  },
  {
   "cell_type": "code",
   "execution_count": 9,
   "metadata": {},
   "outputs": [
    {
     "name": "stdout",
     "output_type": "stream",
     "text": [
      "Accuracy for Random Forest: 0.9695290858725761\n",
      "ROC-AUC score for Random Forest: 0.90854208613341\n"
     ]
    }
   ],
   "source": [
    "# make predictions with the trained logistic regression\n",
    "test_z = dtc_grid.predict(X_test_minmax_scaled)\n",
    "test_z_prob = dtc_grid.predict_proba(X_test_minmax_scaled)\n",
    "\n",
    "# evaluate the model performance - AUC and ROC\n",
    "lr_acc = accuracy_score(y_test, test_z)\n",
    "print(\"Accuracy for Random Forest:\", lr_acc)\n",
    "lr_ras = roc_auc_score(y_test, test_z)\n",
    "print(\"ROC-AUC score for Random Forest:\", lr_ras)"
   ]
  },
  {
   "cell_type": "markdown",
   "metadata": {},
   "source": [
    "Question 4: Use BaggingClassifier to train and evaluate an ensemble model of LogisticRegression  base classifiers. Each base classifier should be trained only on a sample half the size of the training data, and using only half as many features as there are in in total the training data (read the documentation for the function to see how to do this)."
   ]
  },
  {
   "cell_type": "code",
   "execution_count": 10,
   "metadata": {},
   "outputs": [],
   "source": [
    "max_samples = int(X_train.shape[0]/2)\n",
    "max_features = int(X_train.shape[1]/2)"
   ]
  },
  {
   "cell_type": "code",
   "execution_count": 11,
   "metadata": {},
   "outputs": [
    {
     "data": {
      "text/plain": [
       "BaggingClassifier(base_estimator=LogisticRegression(), max_features=779,\n",
       "                  max_samples=1098, random_state=0)"
      ]
     },
     "execution_count": 11,
     "metadata": {},
     "output_type": "execute_result"
    }
   ],
   "source": [
    "bagOLR = BaggingClassifier(base_estimator=LogisticRegression(), random_state=0, max_samples=max_samples, max_features=max_features, n_estimators=10)\n",
    "bagOLR.fit(X_train_minmax_scaled, y_train.values.ravel())"
   ]
  },
  {
   "cell_type": "code",
   "execution_count": 12,
   "metadata": {},
   "outputs": [
    {
     "name": "stdout",
     "output_type": "stream",
     "text": [
      "Accuracy for Random Forest: 0.9566020313942751\n",
      "ROC-AUC score for Random Forest: 0.8666259184687394\n"
     ]
    }
   ],
   "source": [
    "# make predictions with the trained random forest\n",
    "test_z = bagOLR.predict(X_test_minmax_scaled)\n",
    "test_z_prob = bagOLR.predict_proba(X_test_minmax_scaled)\n",
    "\n",
    "# evaluate the model performance - AUC and ROC\n",
    "bc_acc = accuracy_score(y_test, test_z)\n",
    "print(\"Accuracy for Random Forest:\", bc_acc)\n",
    "bc_ras = roc_auc_score(y_test, test_z)\n",
    "print(\"ROC-AUC score for Random Forest:\", bc_ras)"
   ]
  },
  {
   "cell_type": "markdown",
   "metadata": {},
   "source": [
    "Question 5: Use AdaBoostClassifier to train and evaluate an ensemble model of LogisticRegression base classifiers."
   ]
  },
  {
   "cell_type": "code",
   "execution_count": 13,
   "metadata": {},
   "outputs": [
    {
     "data": {
      "text/plain": [
       "AdaBoostClassifier(n_estimators=100, random_state=0)"
      ]
     },
     "execution_count": 13,
     "metadata": {},
     "output_type": "execute_result"
    }
   ],
   "source": [
    "boostOkLR = AdaBoostClassifier(n_estimators=100, random_state=0)\n",
    "boostOkLR.fit(X_train_minmax_scaled, y_train.values.ravel())"
   ]
  },
  {
   "cell_type": "code",
   "execution_count": 14,
   "metadata": {},
   "outputs": [
    {
     "name": "stdout",
     "output_type": "stream",
     "text": [
      "Accuracy for Random Forest: 0.9667590027700831\n",
      "ROC-AUC score for Random Forest: 0.9093526919959208\n"
     ]
    }
   ],
   "source": [
    "# make predictions with the trained random forest\n",
    "test_z = boostOkLR.predict(X_test_minmax_scaled)\n",
    "test_z_prob = boostOkLR.predict_proba(X_test_minmax_scaled)\n",
    "\n",
    "# evaluate the model performance - AUC and ROC\n",
    "ab_acc = accuracy_score(y_test, test_z)\n",
    "print(\"Accuracy for Random Forest:\", ab_acc)\n",
    "ab_ras = roc_auc_score(y_test, test_z)\n",
    "print(\"ROC-AUC score for Random Forest:\", ab_ras)"
   ]
  },
  {
   "cell_type": "markdown",
   "metadata": {},
   "source": [
    "[Bonus] Question 6: Use StackingClassifier to train and evaluate an ensemble model of LogisticRegression base classifiers. to get better accuracy than previous classifiers."
   ]
  },
  {
   "cell_type": "code",
   "execution_count": 18,
   "metadata": {},
   "outputs": [
    {
     "data": {
      "text/plain": [
       "GridSearchCV(estimator=StackingClassifier(estimators=[('lr1',\n",
       "                                                       LogisticRegression()),\n",
       "                                                      ('lr2',\n",
       "                                                       LogisticRegression()),\n",
       "                                                      ('lr3',\n",
       "                                                       LogisticRegression()),\n",
       "                                                      ('lr4',\n",
       "                                                       LogisticRegression()),\n",
       "                                                      ('lr5',\n",
       "                                                       LogisticRegression())]),\n",
       "             param_grid={'cv': [None, 3, 7],\n",
       "                         'final_estimator': [LogisticRegression(),\n",
       "                                             RandomForestClassifier(),\n",
       "                                             GradientBoostingClassifier()],\n",
       "                         'passthrough': [True, False],\n",
       "                         'stack_method': ['auto', 'predict', 'predict_proba',\n",
       "                                          'decision_function']},\n",
       "             return_train_score=True)"
      ]
     },
     "execution_count": 18,
     "metadata": {},
     "output_type": "execute_result"
    }
   ],
   "source": [
    "from sklearn.ensemble import StackingClassifier\n",
    "from sklearn.ensemble import RandomForestClassifier\n",
    "from sklearn.ensemble import GradientBoostingClassifier\n",
    "\n",
    "estimators = [('lr1', LogisticRegression()),\n",
    "              ('lr2', LogisticRegression()),\n",
    "              ('lr3', LogisticRegression()),\n",
    "              ('lr4', LogisticRegression()),\n",
    "              ('lr5', LogisticRegression())]\n",
    "\n",
    "parameters = {\n",
    "    \"final_estimator\": [LogisticRegression(), RandomForestClassifier(), GradientBoostingClassifier()],\n",
    "    \"cv\": [None, 3, 7],\n",
    "    \"stack_method\": ['auto', 'predict', 'predict_proba', 'decision_function'],\n",
    "    \"passthrough\": [True, False]\n",
    "}\n",
    "\n",
    "clf = StackingClassifier(estimators=estimators)\n",
    "    \n",
    "dtc_grid = GridSearchCV(estimator = clf, param_grid = parameters, return_train_score = True)\n",
    "dtc_grid.fit(X_train_minmax_scaled, y_train.values.ravel())"
   ]
  },
  {
   "cell_type": "code",
   "execution_count": 20,
   "metadata": {},
   "outputs": [
    {
     "data": {
      "text/plain": [
       "{'cv': 3,\n",
       " 'final_estimator': RandomForestClassifier(),\n",
       " 'passthrough': True,\n",
       " 'stack_method': 'decision_function'}"
      ]
     },
     "execution_count": 20,
     "metadata": {},
     "output_type": "execute_result"
    }
   ],
   "source": [
    "dtc_grid.best_params_"
   ]
  },
  {
   "cell_type": "code",
   "execution_count": 21,
   "metadata": {},
   "outputs": [
    {
     "data": {
      "text/plain": [
       "StackingClassifier(cv=3,\n",
       "                   estimators=[('lr1', LogisticRegression()),\n",
       "                               ('lr2', LogisticRegression()),\n",
       "                               ('lr3', LogisticRegression()),\n",
       "                               ('lr4', LogisticRegression()),\n",
       "                               ('lr5', LogisticRegression())],\n",
       "                   final_estimator=RandomForestClassifier(), passthrough=True,\n",
       "                   stack_method='decision_function')"
      ]
     },
     "execution_count": 21,
     "metadata": {},
     "output_type": "execute_result"
    }
   ],
   "source": [
    "stack_clf = StackingClassifier(estimators=estimators, cv=3, final_estimator=RandomForestClassifier(), passthrough=True, stack_method='decision_function')\n",
    "stack_clf.fit(X_train_minmax_scaled, y_train.values.ravel())"
   ]
  },
  {
   "cell_type": "code",
   "execution_count": 22,
   "metadata": {},
   "outputs": [
    {
     "name": "stdout",
     "output_type": "stream",
     "text": [
      "Accuracy for Random Forest: 0.9704524469067405\n",
      "ROC-AUC score for Random Forest: 0.9286732212431034\n"
     ]
    }
   ],
   "source": [
    "# make predictions with the trained random forest\n",
    "test_z = stack_clf.predict(X_test_minmax_scaled)\n",
    "test_z_prob = stack_clf.predict_proba(X_test_minmax_scaled)\n",
    "\n",
    "# evaluate the model performance - AUC and ROC\n",
    "sc_acc = accuracy_score(y_test, test_z)\n",
    "print(\"Accuracy for Random Forest:\", sc_acc)\n",
    "sc_ras = roc_auc_score(y_test, test_z)\n",
    "print(\"ROC-AUC score for Random Forest:\", sc_ras)"
   ]
  },
  {
   "cell_type": "code",
   "execution_count": 25,
   "metadata": {},
   "outputs": [
    {
     "data": {
      "image/png": "[encoded data removed]",
      "text/plain": [
       "<Figure size 1000x1000 with 1 Axes>"
      ]
     },
     "metadata": {},
     "output_type": "display_data"
    }
   ],
   "source": [
    "# Compare performance\n",
    "plt.rcParams['figure.figsize'] = [10, 10]\n",
    "plt.rcParams['figure.dpi'] = 100\n",
    "\n",
    "models = (\"LR\", \"Bagging\", \"Boosting\", \"Stacking\")\n",
    "accuracy = [lr_acc, bc_acc, ab_acc, sc_acc]\n",
    "roc_auc = [lr_ras, bc_ras, ab_ras, sc_ras]\n",
    "\n",
    "x = np.arange(len(models))  # the label locations\n",
    "width = 0.15  # the width of the bars\n",
    "\n",
    "fig, ax = plt.subplots()\n",
    "rects1 = ax.bar(x - width/2, accuracy, width, label='Acc')\n",
    "rects2 = ax.bar(x + width/2, roc_auc, width, label='ROC-AUC')\n",
    "\n",
    "# Add some text for labels, title and custom x-axis tick labels, etc.\n",
    "ax.set_ylabel('Scores')\n",
    "ax.set_title('Performance metrics for each model')\n",
    "ax.set_xticks(x)\n",
    "ax.set_xticklabels(models)\n",
    "ax.legend()\n",
    "\n",
    "\n",
    "def autolabel(rects):\n",
    "    \"\"\"Attach a text label above each bar in *rects*, displaying its height.\"\"\"\n",
    "    for rect in rects:\n",
    "        height = rect.get_height()\n",
    "        ax.annotate('{}'.format(height),\n",
    "                    xy=(rect.get_x() + rect.get_width() / 2, height),\n",
    "                    xytext=(0, 3),  # 3 points vertical offset\n",
    "                    textcoords=\"offset points\",\n",
    "                    ha='center', va='bottom')\n",
    "\n",
    "\n",
    "autolabel(rects1)\n",
    "autolabel(rects2)\n",
    "\n",
    "fig.tight_layout()\n",
    "\n",
    "plt.show()"
   ]
  },
  {
   "cell_type": "markdown",
   "metadata": {},
   "source": [
    "Question 7: Create a new text cell in your Notebook: Complete a 50-100 word summary (or short description of your thinking in applying this week's learning to the solution) of your experience in this assignment. Include: What was your incoming experience with this model, if any? what steps you took, what obstacles you encountered. how you link this exercise to real-world, machine learning problem-solving. (What steps were missing? What else do you need to learn?) This summary allows your instructor to know how you are doing and allot points for your effort in thinking and planning, and making connections to real-world work."
   ]
  },
  {
   "cell_type": "markdown",
   "metadata": {},
   "source": [
    "Incoming experience: No incoming experience apart from previous assignments.\n",
    "\n",
    "Steps taken: This week's lesson was about stacking and blending. Got a feel for how metrics can be improved with stacking.\n",
    "\n",
    "Obstacles: Wasn't very hard to figure out the assignment this week.\n",
    "\n",
    "Link to real world: Helped me understand when Scikit learn libraries and how they can be leveraged.\n",
    "\n",
    "Steps missing (with just this week's learning): Scaling and hyperparameter tuning."
   ]
  },
  {
   "cell_type": "code",
   "execution_count": null,
   "metadata": {},
   "outputs": [],
   "source": []
  }
 ],
 "metadata": {
  "kernelspec": {
   "display_name": "Python 3 (ipykernel)",
   "language": "python",
   "name": "python3"
  },
  "language_info": {
   "codemirror_mode": {
    "name": "ipython",
    "version": 3
   },
   "file_extension": ".py",
   "mimetype": "text/x-python",
   "name": "python",
   "nbconvert_exporter": "python",
   "pygments_lexer": "ipython3",
   "version": "3.9.13"
  }
 },
 "nbformat": 4,
 "nbformat_minor": 2
}
