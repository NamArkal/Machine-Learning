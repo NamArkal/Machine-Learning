{
 "cells": [
  {
   "cell_type": "markdown",
   "metadata": {
    "nbgrader": {
     "grade": false,
     "locked": true,
     "solution": false
    }
   },
   "source": [
    "# Lesson 1b: Basic Neural Network with Keras"
   ]
  },
  {
   "cell_type": "markdown",
   "metadata": {
    "nbgrader": {
     "grade": false,
     "locked": true,
     "solution": false
    }
   },
   "source": [
    "In this lesson you will build a small neural network in Keras and train it to replicate the logical XOR function.\n",
    "\n",
    "As before, fill in the marked _TODO_'s in the code cells and answer any questions asked in the indicated text cells.\n",
    "\n",
    "You should be able to complete this exercise imitating what we did in class, possibly augmented with some consultation of the Chollet book and/or the Keras official documentation.  If you get stuck or turned around, ask on Piazza.  We're at early stages with these tools, so they probably won't feel familiar or comfortable yet.  In time, you'll find yourself becoming quite fluent with them."
   ]
  },
  {
   "cell_type": "markdown",
   "metadata": {},
   "source": [
    "## Getting Started: Make Sure We Have a GPU Available\n",
    "\n",
    "As we mentioned in class, the availability of high performance GPUs and TPUs is one of the factors that\n",
    "led to the post 2006 renaissance in neural networks and helped make possible the practical use of deep neural networks. \n",
    "\n",
    "Our class VMs are equipped with GPUs, as we'll now verify."
   ]
  },
  {
   "cell_type": "code",
   "execution_count": 1,
   "metadata": {},
   "outputs": [
    {
     "name": "stderr",
     "output_type": "stream",
     "text": [
      "2023-08-01 22:43:06.650608: I tensorflow/core/platform/cpu_feature_guard.cc:193] This TensorFlow binary is optimized with oneAPI Deep Neural Network Library (oneDNN) to use the following CPU instructions in performance-critical operations:  AVX2 FMA\n",
      "To enable them in other operations, rebuild TensorFlow with the appropriate compiler flags.\n",
      "2023-08-01 22:43:21.034929: W tensorflow/compiler/xla/stream_executor/platform/default/dso_loader.cc:64] Could not load dynamic library 'libnvinfer.so.7'; dlerror: libnvinfer.so.7: cannot open shared object file: No such file or directory; LD_LIBRARY_PATH: /opt/intel/compilers_and_libraries_2018.1.163/linux/tbb/lib/intel64_lin/gcc4.7:/opt/intel/compilers_and_libraries_2018.1.163/linux/compiler/lib/intel64_lin:/opt/intel/compilers_and_libraries_2018.1.163/linux/mkl/lib/intel64_lin::/usr/local/cuda/lib64:/usr/local/cuda/extras/CUPTI/lib64/\n",
      "2023-08-01 22:43:21.035086: W tensorflow/compiler/xla/stream_executor/platform/default/dso_loader.cc:64] Could not load dynamic library 'libnvinfer_plugin.so.7'; dlerror: libnvinfer_plugin.so.7: cannot open shared object file: No such file or directory; LD_LIBRARY_PATH: /opt/intel/compilers_and_libraries_2018.1.163/linux/tbb/lib/intel64_lin/gcc4.7:/opt/intel/compilers_and_libraries_2018.1.163/linux/compiler/lib/intel64_lin:/opt/intel/compilers_and_libraries_2018.1.163/linux/mkl/lib/intel64_lin::/usr/local/cuda/lib64:/usr/local/cuda/extras/CUPTI/lib64/\n",
      "2023-08-01 22:43:21.035101: W tensorflow/compiler/tf2tensorrt/utils/py_utils.cc:38] TF-TRT Warning: Cannot dlopen some TensorRT libraries. If you would like to use Nvidia GPU with TensorRT, please make sure the missing libraries mentioned above are installed properly.\n"
     ]
    },
    {
     "data": {
      "text/plain": [
       "'2.11.0'"
      ]
     },
     "execution_count": 1,
     "metadata": {},
     "output_type": "execute_result"
    }
   ],
   "source": [
    "# We'll mostly train models with Keras in this class, and the Keras API is included in\n",
    "# recent versions of the TensorFlow framework. Keras can also be used as an easy to use\n",
    "# front end to many other deep learning backends.\n",
    "\n",
    "import tensorflow as tf\n",
    "tf.__version__"
   ]
  },
  {
   "cell_type": "code",
   "execution_count": 2,
   "metadata": {},
   "outputs": [],
   "source": [
    "# !pip3 install tensorflow --user"
   ]
  },
  {
   "cell_type": "markdown",
   "metadata": {},
   "source": [
    "You'll probably see some warnings when you run the above cell for the first time.\n",
    "The warnings are harmless, but if you want to do some Googling to try to figure out\n",
    "what they mean, and what they're trying to tell us, you might find that a good exercise."
   ]
  },
  {
   "cell_type": "code",
   "execution_count": 3,
   "metadata": {
    "scrolled": true
   },
   "outputs": [
    {
     "name": "stdout",
     "output_type": "stream",
     "text": [
      "[name: \"/device:CPU:0\"\n",
      "device_type: \"CPU\"\n",
      "memory_limit: 268435456\n",
      "locality {\n",
      "}\n",
      "incarnation: 2163774486710634431\n",
      "xla_global_id: -1\n",
      ", name: \"/device:GPU:0\"\n",
      "device_type: \"GPU\"\n",
      "memory_limit: 15247015936\n",
      "locality {\n",
      "  bus_id: 1\n",
      "  links {\n",
      "  }\n",
      "}\n",
      "incarnation: 14107570520479040778\n",
      "physical_device_desc: \"device: 0, name: Tesla V100-PCIE-16GB, pci bus id: 0001:00:00.0, compute capability: 7.0\"\n",
      "xla_global_id: 416903419\n",
      "]\n"
     ]
    },
    {
     "name": "stderr",
     "output_type": "stream",
     "text": [
      "2023-08-01 22:43:30.690450: I tensorflow/core/platform/cpu_feature_guard.cc:193] This TensorFlow binary is optimized with oneAPI Deep Neural Network Library (oneDNN) to use the following CPU instructions in performance-critical operations:  AVX2 FMA\n",
      "To enable them in other operations, rebuild TensorFlow with the appropriate compiler flags.\n",
      "2023-08-01 22:43:39.931993: I tensorflow/core/common_runtime/gpu/gpu_device.cc:1613] Created device /device:GPU:0 with 14540 MB memory:  -> device: 0, name: Tesla V100-PCIE-16GB, pci bus id: 0001:00:00.0, compute capability: 7.0\n"
     ]
    }
   ],
   "source": [
    "# We'll ask the TensorFlow framework to tell us what resources are available to\n",
    "# train models with...\n",
    "\n",
    "from tensorflow.python.client import device_lib\n",
    "print(device_lib.list_local_devices())"
   ]
  },
  {
   "cell_type": "markdown",
   "metadata": {},
   "source": [
    "You should see an Nvidia Tesla GPU, along with the VM's CPU in the above output.\n",
    "An interesting side exercise might be to Google the type of Nvidia GPU and see\n",
    "where it stacks up in terms of its cost and performance, relative to other GPUs\n",
    "in the Nvidia product line.\n",
    "\n",
    "You'll probably see some additional, harmless warnings, as well."
   ]
  },
  {
   "cell_type": "markdown",
   "metadata": {
    "nbgrader": {
     "grade": false,
     "locked": true,
     "solution": false
    }
   },
   "source": [
    "## Imports"
   ]
  },
  {
   "cell_type": "code",
   "execution_count": 4,
   "metadata": {
    "nbgrader": {
     "grade": false,
     "locked": true,
     "solution": false
    }
   },
   "outputs": [],
   "source": [
    "# Some imports we'll need for plots and visualizations. Watch for\n",
    "# where and how they get used below.\n",
    "%matplotlib inline\n",
    "from IPython.display import SVG\n",
    "\n",
    "# Imports of various things from Keras and NumPy. You might want to\n",
    "# have the Keras documentation and the Chollet book handy while you\n",
    "# go through this cell so you can familiarize yourself with these\n",
    "# creatures...\n",
    "from keras.models import Model, Sequential\n",
    "from keras.layers import Input, Dense\n",
    "from keras.regularizers import l2\n",
    "from keras.utils import model_to_dot\n",
    "import math\n",
    "import numpy as np\n",
    "\n",
    "import matplotlib.pyplot as plt"
   ]
  },
  {
   "cell_type": "markdown",
   "metadata": {
    "nbgrader": {
     "grade": false,
     "locked": true,
     "solution": false
    }
   },
   "source": [
    "## Create Dataset for the Logical XOR Function"
   ]
  },
  {
   "cell_type": "code",
   "execution_count": 5,
   "metadata": {
    "nbgrader": {
     "grade": false,
     "locked": true,
     "solution": false
    }
   },
   "outputs": [],
   "source": [
    "# Recall the truth table for XOR. We'll make training data where the\n",
    "# inputs to XOR are the model features and the labels are the values\n",
    "# XOR outputs for a given input.\n",
    "data_X = np.array([[0, 0],\n",
    "                   [1, 0],\n",
    "                   [0, 1],\n",
    "                   [1, 1]])\n",
    "data_y = np.array([0, \n",
    "                   1, \n",
    "                   1, \n",
    "                   0])"
   ]
  },
  {
   "cell_type": "markdown",
   "metadata": {
    "nbgrader": {
     "grade": false,
     "locked": true,
     "solution": false
    }
   },
   "source": [
    "## Build the Neural Net Model"
   ]
  },
  {
   "cell_type": "code",
   "execution_count": 6,
   "metadata": {
    "nbgrader": {
     "grade": false,
     "locked": true,
     "solution": false
    }
   },
   "outputs": [
    {
     "name": "stderr",
     "output_type": "stream",
     "text": [
      "2023-08-01 22:43:41.060739: I tensorflow/core/common_runtime/gpu/gpu_device.cc:1613] Created device /job:localhost/replica:0/task:0/device:GPU:0 with 14540 MB memory:  -> device: 0, name: Tesla V100-PCIE-16GB, pci bus id: 0001:00:00.0, compute capability: 7.0\n"
     ]
    }
   ],
   "source": [
    "# Create a Sequential Keras model\n",
    "model = Sequential() # TODO: Create a Sequential Keras model\n",
    "\n",
    "# Add a Dense layer to your model with:\n",
    "#    2 units\n",
    "#    the input shape set to vectors of length 2\n",
    "#    that activation set to 'sigmoid'\n",
    "#    the kernel_initializer set to 'glorot_normal'\n",
    "#    the kernel_regularizer set to l2(0.0001)\n",
    "#\n",
    "# We'll say a lot more about activations, initialization, and regularization\n",
    "# very soon.  For now, the above choices should serve you pretty well.\n",
    "model.add(Dense(2, \n",
    "                input_shape=(2,), # TODO: Note the possibly funny shape here\n",
    "                activation='sigmoid',  # TODO: Set activation type\n",
    "                kernel_initializer='glorot_normal', # TODO: Set initialization type\n",
    "                kernel_regularizer='l2')) # TODO: Set regulization type"
   ]
  },
  {
   "cell_type": "code",
   "execution_count": 7,
   "metadata": {
    "nbgrader": {
     "grade": false,
     "locked": true,
     "solution": false
    }
   },
   "outputs": [
    {
     "name": "stdout",
     "output_type": "stream",
     "text": [
      "Model: \"sequential\"\n",
      "_________________________________________________________________\n",
      " Layer (type)                Output Shape              Param #   \n",
      "=================================================================\n",
      " dense (Dense)               (None, 2)                 6         \n",
      "                                                                 \n",
      "=================================================================\n",
      "Total params: 6\n",
      "Trainable params: 6\n",
      "Non-trainable params: 0\n",
      "_________________________________________________________________\n"
     ]
    }
   ],
   "source": [
    "# We can always ask Keras to describe nearly just what we've packed\n",
    "# into our neural architecture.  Let's do so now...\n",
    "model.summary()"
   ]
  },
  {
   "cell_type": "markdown",
   "metadata": {},
   "source": [
    "Notice that Keras has told us what layers our architecture contains, and how many parameters,\n",
    "both trainable and not trainable, our model contains. So far in class we've probably only seen\n",
    "trainable parameters, but we'll later encounter types of layers that don't have trainable\n",
    "parameters."
   ]
  },
  {
   "cell_type": "markdown",
   "metadata": {
    "nbgrader": {
     "grade": false,
     "locked": true,
     "solution": false
    }
   },
   "source": [
    "# Question 1: \n",
    "How many parameters are there in the model so far? Why? Explain in detail what each parameter represents. Answer in the cell below.\n",
    "\n",
    "(You might find it useful to revisit our discussion of example models in lecture and look at some of the pictures and countings of parameters that we did)"
   ]
  },
  {
   "cell_type": "markdown",
   "metadata": {},
   "source": [
    "### Answer 1\n",
    "_TODO_ Answer:\n",
    "- How many parameters are there in total in the model?\n",
    "    There are 6.\n",
    "- What are each of the parameters?\n",
    "    (2 input values + 1 bias) x 2 units = 6 parameters"
   ]
  },
  {
   "cell_type": "markdown",
   "metadata": {
    "nbgrader": {
     "grade": false,
     "locked": true,
     "solution": false
    }
   },
   "source": [
    "## Add another layer"
   ]
  },
  {
   "cell_type": "code",
   "execution_count": 8,
   "metadata": {
    "nbgrader": {
     "grade": false,
     "locked": true,
     "solution": false
    }
   },
   "outputs": [],
   "source": [
    "# Add a Dense layer with:\n",
    "#   1 unit\n",
    "#   activation set to 'sigmoid'\n",
    "#   kernel_initializer set to 'glorot_normal'\n",
    "#\n",
    "\n",
    "model.add(Dense(1, \n",
    "                activation='sigmoid', # TODO: Set activation\n",
    "                kernel_initializer='glorot_normal')) # TODO: Set initialization"
   ]
  },
  {
   "cell_type": "code",
   "execution_count": 9,
   "metadata": {
    "nbgrader": {
     "grade": false,
     "locked": true,
     "solution": false
    }
   },
   "outputs": [
    {
     "name": "stdout",
     "output_type": "stream",
     "text": [
      "Model: \"sequential\"\n",
      "_________________________________________________________________\n",
      " Layer (type)                Output Shape              Param #   \n",
      "=================================================================\n",
      " dense (Dense)               (None, 2)                 6         \n",
      "                                                                 \n",
      " dense_1 (Dense)             (None, 1)                 3         \n",
      "                                                                 \n",
      "=================================================================\n",
      "Total params: 9\n",
      "Trainable params: 9\n",
      "Non-trainable params: 0\n",
      "_________________________________________________________________\n"
     ]
    }
   ],
   "source": [
    "# Let's recheck the shape of our evolving model...\n",
    "model.summary()"
   ]
  },
  {
   "cell_type": "markdown",
   "metadata": {
    "nbgrader": {
     "grade": false,
     "locked": true,
     "solution": false
    }
   },
   "source": [
    "## Question 2: \n",
    "How many new parameters are there now (e.g., how many were added after question 1)? Why? What does each new parameter represent? "
   ]
  },
  {
   "cell_type": "markdown",
   "metadata": {},
   "source": [
    "### Answer 2\n",
    "\n",
    "_TODO_ Answer:\n",
    "- How many parameters are there in the entire model after the next layer was added?\n",
    "    9\n",
    "- What are each of the parameters?\n",
    "    6 are explained in the previous question for the 1st layer.\n",
    "    For the second layer added, it's (2 input values + 1 bias) x 1 unit from Dense layer = 3 parameters making it a total of 9 parameters."
   ]
  },
  {
   "cell_type": "markdown",
   "metadata": {
    "nbgrader": {
     "grade": false,
     "locked": true,
     "solution": false
    }
   },
   "source": [
    "## Visualize the model"
   ]
  },
  {
   "cell_type": "code",
   "execution_count": 10,
   "metadata": {},
   "outputs": [],
   "source": [
    "# We'll need to install the following python package to let Keras\n",
    "# give us nice visualizations of our networks.\n",
    "# !pip3 install pydot --user\n",
    "\n",
    "# IMPORTANT NOTE: pydot depends on the Graphviz tool being installed on our\n",
    "#                 VM.  By default it might not be. To install it, open another\n",
    "#                 SSH connection to your VM, connecting as the 'mlearn' user,\n",
    "#                 using the password from your welcome mail, and at the VM's\n",
    "#                 shell run:\n",
    "#\n",
    "#                        sudo apt install graphviz\n",
    "#\n",
    "#                 You should see some downloads happen and get a success\n",
    "#                 confirmation.  Once you've done that, keep working forward..."
   ]
  },
  {
   "cell_type": "code",
   "execution_count": 11,
   "metadata": {
    "nbgrader": {
     "grade": false,
     "locked": true,
     "solution": false
    }
   },
   "outputs": [
    {
     "data": {
      "image/svg+xml": [
       "<svg xmlns=\"http://www.w3.org/2000/svg\" xmlns:xlink=\"http://www.w3.org/1999/xlink\" width=\"363pt\" height=\"295pt\" viewBox=\"0.00 0.00 272.00 221.00\">\n",
       "<g id=\"graph0\" class=\"graph\" transform=\"scale(0.75 0.75) rotate(0) translate(4 217)\">\n",
       "<title>G</title>\n",
       "<polygon fill=\"white\" stroke=\"transparent\" points=\"-4,4 -4,-217 268,-217 268,4 -4,4\"/>\n",
       "<!-- 140159298653008 -->\n",
       "<g id=\"node1\" class=\"node\">\n",
       "<title>140159298653008</title>\n",
       "<polygon fill=\"none\" stroke=\"black\" points=\"0,-166.5 0,-212.5 264,-212.5 264,-166.5 0,-166.5\"/>\n",
       "<text text-anchor=\"middle\" x=\"51.5\" y=\"-197.3\" font-family=\"Times,serif\" font-size=\"14.00\">dense_input</text>\n",
       "<polyline fill=\"none\" stroke=\"black\" points=\"0,-189.5 103,-189.5 \"/>\n",
       "<text text-anchor=\"middle\" x=\"51.5\" y=\"-174.3\" font-family=\"Times,serif\" font-size=\"14.00\">InputLayer</text>\n",
       "<polyline fill=\"none\" stroke=\"black\" points=\"103,-166.5 103,-212.5 \"/>\n",
       "<text text-anchor=\"middle\" x=\"137\" y=\"-197.3\" font-family=\"Times,serif\" font-size=\"14.00\">input:</text>\n",
       "<polyline fill=\"none\" stroke=\"black\" points=\"103,-189.5 171,-189.5 \"/>\n",
       "<text text-anchor=\"middle\" x=\"137\" y=\"-174.3\" font-family=\"Times,serif\" font-size=\"14.00\">output:</text>\n",
       "<polyline fill=\"none\" stroke=\"black\" points=\"171,-166.5 171,-212.5 \"/>\n",
       "<text text-anchor=\"middle\" x=\"217.5\" y=\"-197.3\" font-family=\"Times,serif\" font-size=\"14.00\">[(None, 2)]</text>\n",
       "<polyline fill=\"none\" stroke=\"black\" points=\"171,-189.5 264,-189.5 \"/>\n",
       "<text text-anchor=\"middle\" x=\"217.5\" y=\"-174.3\" font-family=\"Times,serif\" font-size=\"14.00\">[(None, 2)]</text>\n",
       "</g>\n",
       "<!-- 140159298653152 -->\n",
       "<g id=\"node2\" class=\"node\">\n",
       "<title>140159298653152</title>\n",
       "<polygon fill=\"none\" stroke=\"black\" points=\"26,-83.5 26,-129.5 238,-129.5 238,-83.5 26,-83.5\"/>\n",
       "<text text-anchor=\"middle\" x=\"56.5\" y=\"-114.3\" font-family=\"Times,serif\" font-size=\"14.00\">dense</text>\n",
       "<polyline fill=\"none\" stroke=\"black\" points=\"26,-106.5 87,-106.5 \"/>\n",
       "<text text-anchor=\"middle\" x=\"56.5\" y=\"-91.3\" font-family=\"Times,serif\" font-size=\"14.00\">Dense</text>\n",
       "<polyline fill=\"none\" stroke=\"black\" points=\"87,-83.5 87,-129.5 \"/>\n",
       "<text text-anchor=\"middle\" x=\"121\" y=\"-114.3\" font-family=\"Times,serif\" font-size=\"14.00\">input:</text>\n",
       "<polyline fill=\"none\" stroke=\"black\" points=\"87,-106.5 155,-106.5 \"/>\n",
       "<text text-anchor=\"middle\" x=\"121\" y=\"-91.3\" font-family=\"Times,serif\" font-size=\"14.00\">output:</text>\n",
       "<polyline fill=\"none\" stroke=\"black\" points=\"155,-83.5 155,-129.5 \"/>\n",
       "<text text-anchor=\"middle\" x=\"196.5\" y=\"-114.3\" font-family=\"Times,serif\" font-size=\"14.00\">(None, 2)</text>\n",
       "<polyline fill=\"none\" stroke=\"black\" points=\"155,-106.5 238,-106.5 \"/>\n",
       "<text text-anchor=\"middle\" x=\"196.5\" y=\"-91.3\" font-family=\"Times,serif\" font-size=\"14.00\">(None, 2)</text>\n",
       "</g>\n",
       "<!-- 140159298653008&#45;&gt;140159298653152 -->\n",
       "<g id=\"edge1\" class=\"edge\">\n",
       "<title>140159298653008-&gt;140159298653152</title>\n",
       "<path fill=\"none\" stroke=\"black\" d=\"M132,-166.37C132,-158.15 132,-148.66 132,-139.73\"/>\n",
       "<polygon fill=\"black\" stroke=\"black\" points=\"135.5,-139.61 132,-129.61 128.5,-139.61 135.5,-139.61\"/>\n",
       "</g>\n",
       "<!-- 140159787787888 -->\n",
       "<g id=\"node3\" class=\"node\">\n",
       "<title>140159787787888</title>\n",
       "<polygon fill=\"none\" stroke=\"black\" points=\"19.5,-0.5 19.5,-46.5 244.5,-46.5 244.5,-0.5 19.5,-0.5\"/>\n",
       "<text text-anchor=\"middle\" x=\"56.5\" y=\"-31.3\" font-family=\"Times,serif\" font-size=\"14.00\">dense_1</text>\n",
       "<polyline fill=\"none\" stroke=\"black\" points=\"19.5,-23.5 93.5,-23.5 \"/>\n",
       "<text text-anchor=\"middle\" x=\"56.5\" y=\"-8.3\" font-family=\"Times,serif\" font-size=\"14.00\">Dense</text>\n",
       "<polyline fill=\"none\" stroke=\"black\" points=\"93.5,-0.5 93.5,-46.5 \"/>\n",
       "<text text-anchor=\"middle\" x=\"127.5\" y=\"-31.3\" font-family=\"Times,serif\" font-size=\"14.00\">input:</text>\n",
       "<polyline fill=\"none\" stroke=\"black\" points=\"93.5,-23.5 161.5,-23.5 \"/>\n",
       "<text text-anchor=\"middle\" x=\"127.5\" y=\"-8.3\" font-family=\"Times,serif\" font-size=\"14.00\">output:</text>\n",
       "<polyline fill=\"none\" stroke=\"black\" points=\"161.5,-0.5 161.5,-46.5 \"/>\n",
       "<text text-anchor=\"middle\" x=\"203\" y=\"-31.3\" font-family=\"Times,serif\" font-size=\"14.00\">(None, 2)</text>\n",
       "<polyline fill=\"none\" stroke=\"black\" points=\"161.5,-23.5 244.5,-23.5 \"/>\n",
       "<text text-anchor=\"middle\" x=\"203\" y=\"-8.3\" font-family=\"Times,serif\" font-size=\"14.00\">(None, 1)</text>\n",
       "</g>\n",
       "<!-- 140159298653152&#45;&gt;140159787787888 -->\n",
       "<g id=\"edge2\" class=\"edge\">\n",
       "<title>140159298653152-&gt;140159787787888</title>\n",
       "<path fill=\"none\" stroke=\"black\" d=\"M132,-83.37C132,-75.15 132,-65.66 132,-56.73\"/>\n",
       "<polygon fill=\"black\" stroke=\"black\" points=\"135.5,-56.61 132,-46.61 128.5,-56.61 135.5,-56.61\"/>\n",
       "</g>\n",
       "</g>\n",
       "</svg>"
      ],
      "text/plain": [
       "<IPython.core.display.SVG object>"
      ]
     },
     "execution_count": 11,
     "metadata": {},
     "output_type": "execute_result"
    }
   ],
   "source": [
    "# Now let's use pydot and the SVG package we imported earlier to\n",
    "# visualize our neural network...\n",
    "SVG(model_to_dot(model, show_shapes=True).create(prog='dot', format='svg'))"
   ]
  },
  {
   "cell_type": "markdown",
   "metadata": {
    "nbgrader": {
     "grade": false,
     "locked": true,
     "solution": false
    }
   },
   "source": [
    "## Train the Model"
   ]
  },
  {
   "cell_type": "code",
   "execution_count": 16,
   "metadata": {
    "nbgrader": {
     "grade": false,
     "locked": true,
     "solution": false
    }
   },
   "outputs": [],
   "source": [
    "# model.compile(optimizer='adam', loss='mse', metrics=['accuracy'])\n",
    "\n",
    "# Recall the 'compile' method on your model configures your network\n",
    "# architecture for use by specifying things like what optimizer to use\n",
    "# We'll soon see various improvements on the gradient descent you're\n",
    "# probably familiar with.  Various optimizers have configurable\n",
    "# hyperparameters including the learning rate, and more.  You also\n",
    "# need to tell Keras what loss function you're trying to optimize,\n",
    "# and what metrics you want to track during training.\n",
    "#\n",
    "# If your recollection is fuzzy, now might be a good time to review\n",
    "# the meanings of Accuracy and Mean Squared Error.  Don't worry too\n",
    "# much about whatever 'Adam' is for now---just think of it as \"an\n",
    "# alternative to gradient descent that can work better sometimes,\"\n",
    "# and we'll talk more about alternative optimization algorithms later.\n",
    "#\n",
    "from tensorflow import keras\n",
    "opt = keras.optimizers.Adam(learning_rate=.01)\n",
    "model.compile(optimizer=opt, loss='mse', metrics=['accuracy'])"
   ]
  },
  {
   "cell_type": "markdown",
   "metadata": {
    "nbgrader": {
     "grade": false,
     "locked": true,
     "solution": false
    }
   },
   "source": [
    "### Modify the Steps per Epoch, Number of Epochs, Etc. Below as Needed. The Goal Should Be 100% Accuracy for the XOR Data."
   ]
  },
  {
   "cell_type": "code",
   "execution_count": 13,
   "metadata": {},
   "outputs": [
    {
     "name": "stdout",
     "output_type": "stream",
     "text": [
      "Epoch 1/500\n"
     ]
    },
    {
     "name": "stderr",
     "output_type": "stream",
     "text": [
      "2023-08-01 22:48:23.343130: I tensorflow/compiler/xla/service/service.cc:173] XLA service 0x1db93720 initialized for platform CUDA (this does not guarantee that XLA will be used). Devices:\n",
      "2023-08-01 22:48:23.343168: I tensorflow/compiler/xla/service/service.cc:181]   StreamExecutor device (0): Tesla V100-PCIE-16GB, Compute Capability 7.0\n",
      "2023-08-01 22:48:23.685422: I tensorflow/compiler/mlir/tensorflow/utils/dump_mlir_util.cc:268] disabling MLIR crash reproducer, set env var `MLIR_CRASH_REPRODUCER_DIRECTORY` to enable.\n",
      "2023-08-01 22:48:26.651756: I tensorflow/compiler/jit/xla_compilation_cache.cc:477] Compiled cluster using XLA!  This line is logged at most once for the lifetime of the process.\n"
     ]
    },
    {
     "name": "stdout",
     "output_type": "stream",
     "text": [
      "1/1 [==============================] - 14s 14s/step - loss: 0.2659 - accuracy: 0.5000\n",
      "Epoch 2/500\n",
      "1/1 [==============================] - 0s 6ms/step - loss: 0.2647 - accuracy: 0.5000\n",
      "Epoch 3/500\n",
      "1/1 [==============================] - 0s 13ms/step - loss: 0.2635 - accuracy: 0.5000\n",
      "Epoch 4/500\n",
      "1/1 [==============================] - 0s 5ms/step - loss: 0.2624 - accuracy: 0.5000\n",
      "Epoch 5/500\n",
      "1/1 [==============================] - 0s 5ms/step - loss: 0.2613 - accuracy: 0.5000\n",
      "Epoch 6/500\n",
      "1/1 [==============================] - 0s 5ms/step - loss: 0.2603 - accuracy: 0.5000\n",
      "Epoch 7/500\n",
      "1/1 [==============================] - 0s 5ms/step - loss: 0.2593 - accuracy: 0.5000\n",
      "Epoch 8/500\n",
      "1/1 [==============================] - 0s 6ms/step - loss: 0.2585 - accuracy: 0.5000\n",
      "Epoch 9/500\n",
      "1/1 [==============================] - 0s 6ms/step - loss: 0.2576 - accuracy: 0.5000\n",
      "Epoch 10/500\n",
      "1/1 [==============================] - 0s 5ms/step - loss: 0.2569 - accuracy: 0.5000\n",
      "Epoch 11/500\n",
      "1/1 [==============================] - 0s 5ms/step - loss: 0.2562 - accuracy: 0.5000\n",
      "Epoch 12/500\n",
      "1/1 [==============================] - 0s 5ms/step - loss: 0.2556 - accuracy: 0.5000\n",
      "Epoch 13/500\n",
      "1/1 [==============================] - 0s 5ms/step - loss: 0.2550 - accuracy: 0.5000\n",
      "Epoch 14/500\n",
      "1/1 [==============================] - 0s 5ms/step - loss: 0.2545 - accuracy: 0.5000\n",
      "Epoch 15/500\n",
      "1/1 [==============================] - 0s 5ms/step - loss: 0.2541 - accuracy: 0.5000\n",
      "Epoch 16/500\n",
      "1/1 [==============================] - 0s 5ms/step - loss: 0.2537 - accuracy: 0.5000\n",
      "Epoch 17/500\n",
      "1/1 [==============================] - 0s 5ms/step - loss: 0.2533 - accuracy: 0.7500\n",
      "Epoch 18/500\n",
      "1/1 [==============================] - 0s 5ms/step - loss: 0.2530 - accuracy: 0.5000\n",
      "Epoch 19/500\n",
      "1/1 [==============================] - 0s 5ms/step - loss: 0.2528 - accuracy: 0.5000\n",
      "Epoch 20/500\n",
      "1/1 [==============================] - 0s 5ms/step - loss: 0.2526 - accuracy: 0.5000\n",
      "Epoch 21/500\n",
      "1/1 [==============================] - 0s 5ms/step - loss: 0.2524 - accuracy: 0.5000\n",
      "Epoch 22/500\n",
      "1/1 [==============================] - 0s 5ms/step - loss: 0.2522 - accuracy: 0.5000\n",
      "Epoch 23/500\n",
      "1/1 [==============================] - 0s 5ms/step - loss: 0.2521 - accuracy: 0.5000\n",
      "Epoch 24/500\n",
      "1/1 [==============================] - 0s 5ms/step - loss: 0.2519 - accuracy: 0.5000\n",
      "Epoch 25/500\n",
      "1/1 [==============================] - 0s 5ms/step - loss: 0.2518 - accuracy: 0.2500\n",
      "Epoch 26/500\n",
      "1/1 [==============================] - 0s 5ms/step - loss: 0.2517 - accuracy: 0.5000\n",
      "Epoch 27/500\n",
      "1/1 [==============================] - 0s 5ms/step - loss: 0.2516 - accuracy: 0.5000\n",
      "Epoch 28/500\n",
      "1/1 [==============================] - 0s 5ms/step - loss: 0.2514 - accuracy: 0.5000\n",
      "Epoch 29/500\n",
      "1/1 [==============================] - 0s 5ms/step - loss: 0.2513 - accuracy: 0.5000\n",
      "Epoch 30/500\n",
      "1/1 [==============================] - 0s 5ms/step - loss: 0.2512 - accuracy: 0.5000\n",
      "Epoch 31/500\n",
      "1/1 [==============================] - 0s 5ms/step - loss: 0.2511 - accuracy: 0.5000\n",
      "Epoch 32/500\n",
      "1/1 [==============================] - 0s 5ms/step - loss: 0.2510 - accuracy: 0.5000\n",
      "Epoch 33/500\n",
      "1/1 [==============================] - 0s 5ms/step - loss: 0.2509 - accuracy: 0.5000\n",
      "Epoch 34/500\n",
      "1/1 [==============================] - 0s 6ms/step - loss: 0.2508 - accuracy: 0.5000\n",
      "Epoch 35/500\n",
      "1/1 [==============================] - 0s 5ms/step - loss: 0.2507 - accuracy: 0.5000\n",
      "Epoch 36/500\n",
      "1/1 [==============================] - 0s 5ms/step - loss: 0.2507 - accuracy: 0.7500\n",
      "Epoch 37/500\n",
      "1/1 [==============================] - 0s 5ms/step - loss: 0.2506 - accuracy: 0.7500\n",
      "Epoch 38/500\n",
      "1/1 [==============================] - 0s 5ms/step - loss: 0.2505 - accuracy: 0.7500\n",
      "Epoch 39/500\n",
      "1/1 [==============================] - 0s 5ms/step - loss: 0.2505 - accuracy: 0.7500\n",
      "Epoch 40/500\n",
      "1/1 [==============================] - 0s 5ms/step - loss: 0.2504 - accuracy: 0.5000\n",
      "Epoch 41/500\n",
      "1/1 [==============================] - 0s 5ms/step - loss: 0.2504 - accuracy: 0.5000\n",
      "Epoch 42/500\n",
      "1/1 [==============================] - 0s 5ms/step - loss: 0.2503 - accuracy: 0.5000\n",
      "Epoch 43/500\n",
      "1/1 [==============================] - 0s 5ms/step - loss: 0.2503 - accuracy: 0.5000\n",
      "Epoch 44/500\n",
      "1/1 [==============================] - 0s 5ms/step - loss: 0.2503 - accuracy: 0.5000\n",
      "Epoch 45/500\n",
      "1/1 [==============================] - 0s 5ms/step - loss: 0.2503 - accuracy: 0.2500\n",
      "Epoch 46/500\n",
      "1/1 [==============================] - 0s 5ms/step - loss: 0.2502 - accuracy: 0.2500\n",
      "Epoch 47/500\n",
      "1/1 [==============================] - 0s 5ms/step - loss: 0.2502 - accuracy: 0.2500\n",
      "Epoch 48/500\n",
      "1/1 [==============================] - 0s 5ms/step - loss: 0.2502 - accuracy: 0.2500\n",
      "Epoch 49/500\n",
      "1/1 [==============================] - 0s 6ms/step - loss: 0.2502 - accuracy: 0.2500\n",
      "Epoch 50/500\n",
      "1/1 [==============================] - 0s 5ms/step - loss: 0.2502 - accuracy: 0.2500\n",
      "Epoch 51/500\n",
      "1/1 [==============================] - 0s 5ms/step - loss: 0.2502 - accuracy: 0.2500\n",
      "Epoch 52/500\n",
      "1/1 [==============================] - 0s 5ms/step - loss: 0.2501 - accuracy: 0.2500\n",
      "Epoch 53/500\n",
      "1/1 [==============================] - 0s 5ms/step - loss: 0.2501 - accuracy: 0.2500\n",
      "Epoch 54/500\n",
      "1/1 [==============================] - 0s 5ms/step - loss: 0.2501 - accuracy: 0.2500\n",
      "Epoch 55/500\n",
      "1/1 [==============================] - 0s 5ms/step - loss: 0.2501 - accuracy: 0.2500\n",
      "Epoch 56/500\n",
      "1/1 [==============================] - 0s 5ms/step - loss: 0.2501 - accuracy: 0.2500\n",
      "Epoch 57/500\n",
      "1/1 [==============================] - 0s 5ms/step - loss: 0.2501 - accuracy: 0.2500\n",
      "Epoch 58/500\n",
      "1/1 [==============================] - 0s 5ms/step - loss: 0.2501 - accuracy: 0.2500\n",
      "Epoch 59/500\n",
      "1/1 [==============================] - 0s 5ms/step - loss: 0.2501 - accuracy: 0.2500\n",
      "Epoch 60/500\n",
      "1/1 [==============================] - 0s 5ms/step - loss: 0.2501 - accuracy: 0.2500\n",
      "Epoch 61/500\n",
      "1/1 [==============================] - 0s 6ms/step - loss: 0.2500 - accuracy: 0.2500\n",
      "Epoch 62/500\n",
      "1/1 [==============================] - 0s 6ms/step - loss: 0.2500 - accuracy: 0.5000\n",
      "Epoch 63/500\n",
      "1/1 [==============================] - 0s 5ms/step - loss: 0.2500 - accuracy: 0.5000\n",
      "Epoch 64/500\n",
      "1/1 [==============================] - 0s 5ms/step - loss: 0.2500 - accuracy: 0.5000\n",
      "Epoch 65/500\n",
      "1/1 [==============================] - 0s 5ms/step - loss: 0.2500 - accuracy: 0.7500\n",
      "Epoch 66/500\n",
      "1/1 [==============================] - 0s 5ms/step - loss: 0.2500 - accuracy: 0.7500\n",
      "Epoch 67/500\n",
      "1/1 [==============================] - 0s 5ms/step - loss: 0.2500 - accuracy: 0.7500\n",
      "Epoch 68/500\n",
      "1/1 [==============================] - 0s 5ms/step - loss: 0.2500 - accuracy: 0.7500\n",
      "Epoch 69/500\n",
      "1/1 [==============================] - 0s 5ms/step - loss: 0.2500 - accuracy: 0.7500\n",
      "Epoch 70/500\n",
      "1/1 [==============================] - 0s 5ms/step - loss: 0.2500 - accuracy: 0.5000\n",
      "Epoch 71/500\n",
      "1/1 [==============================] - 0s 5ms/step - loss: 0.2500 - accuracy: 0.5000\n",
      "Epoch 72/500\n",
      "1/1 [==============================] - 0s 5ms/step - loss: 0.2500 - accuracy: 0.5000\n",
      "Epoch 73/500\n",
      "1/1 [==============================] - 0s 5ms/step - loss: 0.2500 - accuracy: 0.5000\n",
      "Epoch 74/500\n",
      "1/1 [==============================] - 0s 5ms/step - loss: 0.2500 - accuracy: 0.5000\n",
      "Epoch 75/500\n",
      "1/1 [==============================] - 0s 6ms/step - loss: 0.2500 - accuracy: 0.5000\n",
      "Epoch 76/500\n",
      "1/1 [==============================] - 0s 5ms/step - loss: 0.2500 - accuracy: 0.5000\n",
      "Epoch 77/500\n",
      "1/1 [==============================] - 0s 5ms/step - loss: 0.2500 - accuracy: 0.5000\n",
      "Epoch 78/500\n",
      "1/1 [==============================] - 0s 5ms/step - loss: 0.2500 - accuracy: 0.5000\n",
      "Epoch 79/500\n",
      "1/1 [==============================] - 0s 5ms/step - loss: 0.2500 - accuracy: 0.5000\n",
      "Epoch 80/500\n",
      "1/1 [==============================] - 0s 5ms/step - loss: 0.2500 - accuracy: 0.5000\n",
      "Epoch 81/500\n",
      "1/1 [==============================] - 0s 5ms/step - loss: 0.2500 - accuracy: 0.5000\n",
      "Epoch 82/500\n",
      "1/1 [==============================] - 0s 5ms/step - loss: 0.2500 - accuracy: 0.5000\n",
      "Epoch 83/500\n",
      "1/1 [==============================] - 0s 6ms/step - loss: 0.2500 - accuracy: 0.7500\n",
      "Epoch 84/500\n"
     ]
    },
    {
     "name": "stdout",
     "output_type": "stream",
     "text": [
      "1/1 [==============================] - 0s 5ms/step - loss: 0.2500 - accuracy: 0.5000\n",
      "Epoch 85/500\n",
      "1/1 [==============================] - 0s 5ms/step - loss: 0.2500 - accuracy: 0.5000\n",
      "Epoch 86/500\n",
      "1/1 [==============================] - 0s 5ms/step - loss: 0.2500 - accuracy: 0.5000\n",
      "Epoch 87/500\n",
      "1/1 [==============================] - 0s 5ms/step - loss: 0.2500 - accuracy: 0.5000\n",
      "Epoch 88/500\n",
      "1/1 [==============================] - 0s 5ms/step - loss: 0.2500 - accuracy: 0.5000\n",
      "Epoch 89/500\n",
      "1/1 [==============================] - 0s 6ms/step - loss: 0.2500 - accuracy: 0.5000\n",
      "Epoch 90/500\n",
      "1/1 [==============================] - 0s 5ms/step - loss: 0.2500 - accuracy: 0.5000\n",
      "Epoch 91/500\n",
      "1/1 [==============================] - 0s 5ms/step - loss: 0.2500 - accuracy: 0.5000\n",
      "Epoch 92/500\n",
      "1/1 [==============================] - 0s 5ms/step - loss: 0.2500 - accuracy: 0.5000\n",
      "Epoch 93/500\n",
      "1/1 [==============================] - 0s 5ms/step - loss: 0.2500 - accuracy: 0.5000\n",
      "Epoch 94/500\n",
      "1/1 [==============================] - 0s 5ms/step - loss: 0.2500 - accuracy: 0.5000\n",
      "Epoch 95/500\n",
      "1/1 [==============================] - 0s 5ms/step - loss: 0.2500 - accuracy: 0.5000\n",
      "Epoch 96/500\n",
      "1/1 [==============================] - 0s 5ms/step - loss: 0.2500 - accuracy: 0.2500\n",
      "Epoch 97/500\n",
      "1/1 [==============================] - 0s 5ms/step - loss: 0.2500 - accuracy: 0.2500\n",
      "Epoch 98/500\n",
      "1/1 [==============================] - 0s 5ms/step - loss: 0.2500 - accuracy: 0.5000\n",
      "Epoch 99/500\n",
      "1/1 [==============================] - 0s 5ms/step - loss: 0.2500 - accuracy: 0.5000\n",
      "Epoch 100/500\n",
      "1/1 [==============================] - 0s 5ms/step - loss: 0.2500 - accuracy: 0.5000\n",
      "Epoch 101/500\n",
      "1/1 [==============================] - 0s 5ms/step - loss: 0.2500 - accuracy: 0.7500\n",
      "Epoch 102/500\n",
      "1/1 [==============================] - 0s 5ms/step - loss: 0.2500 - accuracy: 0.7500\n",
      "Epoch 103/500\n",
      "1/1 [==============================] - 0s 5ms/step - loss: 0.2500 - accuracy: 0.7500\n",
      "Epoch 104/500\n",
      "1/1 [==============================] - 0s 5ms/step - loss: 0.2500 - accuracy: 0.7500\n",
      "Epoch 105/500\n",
      "1/1 [==============================] - 0s 5ms/step - loss: 0.2500 - accuracy: 0.7500\n",
      "Epoch 106/500\n",
      "1/1 [==============================] - 0s 5ms/step - loss: 0.2500 - accuracy: 0.7500\n",
      "Epoch 107/500\n",
      "1/1 [==============================] - 0s 5ms/step - loss: 0.2500 - accuracy: 0.7500\n",
      "Epoch 108/500\n",
      "1/1 [==============================] - 0s 5ms/step - loss: 0.2500 - accuracy: 0.7500\n",
      "Epoch 109/500\n",
      "1/1 [==============================] - 0s 5ms/step - loss: 0.2500 - accuracy: 0.7500\n",
      "Epoch 110/500\n",
      "1/1 [==============================] - 0s 5ms/step - loss: 0.2500 - accuracy: 0.7500\n",
      "Epoch 111/500\n",
      "1/1 [==============================] - 0s 5ms/step - loss: 0.2500 - accuracy: 0.7500\n",
      "Epoch 112/500\n",
      "1/1 [==============================] - 0s 5ms/step - loss: 0.2500 - accuracy: 0.7500\n",
      "Epoch 113/500\n",
      "1/1 [==============================] - 0s 5ms/step - loss: 0.2500 - accuracy: 0.7500\n",
      "Epoch 114/500\n",
      "1/1 [==============================] - 0s 5ms/step - loss: 0.2500 - accuracy: 0.5000\n",
      "Epoch 115/500\n",
      "1/1 [==============================] - 0s 5ms/step - loss: 0.2500 - accuracy: 0.5000\n",
      "Epoch 116/500\n",
      "1/1 [==============================] - 0s 6ms/step - loss: 0.2500 - accuracy: 0.5000\n",
      "Epoch 117/500\n",
      "1/1 [==============================] - 0s 5ms/step - loss: 0.2500 - accuracy: 0.5000\n",
      "Epoch 118/500\n",
      "1/1 [==============================] - 0s 5ms/step - loss: 0.2500 - accuracy: 0.5000\n",
      "Epoch 119/500\n",
      "1/1 [==============================] - 0s 5ms/step - loss: 0.2500 - accuracy: 0.5000\n",
      "Epoch 120/500\n",
      "1/1 [==============================] - 0s 5ms/step - loss: 0.2500 - accuracy: 0.5000\n",
      "Epoch 121/500\n",
      "1/1 [==============================] - 0s 5ms/step - loss: 0.2500 - accuracy: 0.7500\n",
      "Epoch 122/500\n",
      "1/1 [==============================] - 0s 5ms/step - loss: 0.2500 - accuracy: 0.7500\n",
      "Epoch 123/500\n",
      "1/1 [==============================] - 0s 5ms/step - loss: 0.2500 - accuracy: 0.7500\n",
      "Epoch 124/500\n",
      "1/1 [==============================] - 0s 5ms/step - loss: 0.2500 - accuracy: 0.7500\n",
      "Epoch 125/500\n",
      "1/1 [==============================] - 0s 5ms/step - loss: 0.2500 - accuracy: 0.7500\n",
      "Epoch 126/500\n",
      "1/1 [==============================] - 0s 5ms/step - loss: 0.2500 - accuracy: 0.7500\n",
      "Epoch 127/500\n",
      "1/1 [==============================] - 0s 5ms/step - loss: 0.2500 - accuracy: 0.7500\n",
      "Epoch 128/500\n",
      "1/1 [==============================] - 0s 5ms/step - loss: 0.2500 - accuracy: 0.7500\n",
      "Epoch 129/500\n",
      "1/1 [==============================] - 0s 5ms/step - loss: 0.2500 - accuracy: 0.5000\n",
      "Epoch 130/500\n",
      "1/1 [==============================] - 0s 5ms/step - loss: 0.2500 - accuracy: 0.5000\n",
      "Epoch 131/500\n",
      "1/1 [==============================] - 0s 5ms/step - loss: 0.2500 - accuracy: 0.2500\n",
      "Epoch 132/500\n",
      "1/1 [==============================] - 0s 5ms/step - loss: 0.2500 - accuracy: 0.2500\n",
      "Epoch 133/500\n",
      "1/1 [==============================] - 0s 5ms/step - loss: 0.2500 - accuracy: 0.2500\n",
      "Epoch 134/500\n",
      "1/1 [==============================] - 0s 5ms/step - loss: 0.2500 - accuracy: 0.2500\n",
      "Epoch 135/500\n",
      "1/1 [==============================] - 0s 5ms/step - loss: 0.2500 - accuracy: 0.5000\n",
      "Epoch 136/500\n",
      "1/1 [==============================] - 0s 5ms/step - loss: 0.2500 - accuracy: 0.5000\n",
      "Epoch 137/500\n",
      "1/1 [==============================] - 0s 5ms/step - loss: 0.2500 - accuracy: 0.5000\n",
      "Epoch 138/500\n",
      "1/1 [==============================] - 0s 8ms/step - loss: 0.2500 - accuracy: 0.5000\n",
      "Epoch 139/500\n",
      "1/1 [==============================] - 0s 7ms/step - loss: 0.2500 - accuracy: 0.5000\n",
      "Epoch 140/500\n",
      "1/1 [==============================] - 0s 5ms/step - loss: 0.2500 - accuracy: 0.5000\n",
      "Epoch 141/500\n",
      "1/1 [==============================] - 0s 5ms/step - loss: 0.2500 - accuracy: 0.5000\n",
      "Epoch 142/500\n",
      "1/1 [==============================] - 0s 5ms/step - loss: 0.2500 - accuracy: 0.5000\n",
      "Epoch 143/500\n",
      "1/1 [==============================] - 0s 5ms/step - loss: 0.2500 - accuracy: 0.5000\n",
      "Epoch 144/500\n",
      "1/1 [==============================] - 0s 5ms/step - loss: 0.2500 - accuracy: 0.5000\n",
      "Epoch 145/500\n",
      "1/1 [==============================] - 0s 5ms/step - loss: 0.2500 - accuracy: 0.2500\n",
      "Epoch 146/500\n",
      "1/1 [==============================] - 0s 5ms/step - loss: 0.2500 - accuracy: 0.2500\n",
      "Epoch 147/500\n",
      "1/1 [==============================] - 0s 5ms/step - loss: 0.2500 - accuracy: 0.5000\n",
      "Epoch 148/500\n",
      "1/1 [==============================] - 0s 5ms/step - loss: 0.2500 - accuracy: 0.5000\n",
      "Epoch 149/500\n",
      "1/1 [==============================] - 0s 5ms/step - loss: 0.2500 - accuracy: 0.5000\n",
      "Epoch 150/500\n",
      "1/1 [==============================] - 0s 5ms/step - loss: 0.2500 - accuracy: 0.5000\n",
      "Epoch 151/500\n",
      "1/1 [==============================] - 0s 5ms/step - loss: 0.2500 - accuracy: 0.5000\n",
      "Epoch 152/500\n",
      "1/1 [==============================] - 0s 5ms/step - loss: 0.2500 - accuracy: 0.5000\n",
      "Epoch 153/500\n",
      "1/1 [==============================] - 0s 5ms/step - loss: 0.2500 - accuracy: 0.5000\n",
      "Epoch 154/500\n",
      "1/1 [==============================] - 0s 5ms/step - loss: 0.2500 - accuracy: 0.5000\n",
      "Epoch 155/500\n",
      "1/1 [==============================] - 0s 5ms/step - loss: 0.2500 - accuracy: 0.5000\n",
      "Epoch 156/500\n",
      "1/1 [==============================] - 0s 5ms/step - loss: 0.2500 - accuracy: 0.5000\n",
      "Epoch 157/500\n",
      "1/1 [==============================] - 0s 5ms/step - loss: 0.2500 - accuracy: 0.5000\n",
      "Epoch 158/500\n",
      "1/1 [==============================] - 0s 5ms/step - loss: 0.2500 - accuracy: 0.5000\n",
      "Epoch 159/500\n",
      "1/1 [==============================] - 0s 5ms/step - loss: 0.2500 - accuracy: 0.5000\n",
      "Epoch 160/500\n",
      "1/1 [==============================] - 0s 5ms/step - loss: 0.2500 - accuracy: 0.7500\n",
      "Epoch 161/500\n",
      "1/1 [==============================] - 0s 5ms/step - loss: 0.2500 - accuracy: 0.7500\n",
      "Epoch 162/500\n",
      "1/1 [==============================] - 0s 5ms/step - loss: 0.2500 - accuracy: 0.7500\n",
      "Epoch 163/500\n",
      "1/1 [==============================] - 0s 5ms/step - loss: 0.2500 - accuracy: 0.2500\n",
      "Epoch 164/500\n",
      "1/1 [==============================] - 0s 5ms/step - loss: 0.2500 - accuracy: 0.2500\n",
      "Epoch 165/500\n",
      "1/1 [==============================] - 0s 5ms/step - loss: 0.2500 - accuracy: 0.2500\n",
      "Epoch 166/500\n",
      "1/1 [==============================] - 0s 5ms/step - loss: 0.2500 - accuracy: 0.2500\n",
      "Epoch 167/500\n"
     ]
    },
    {
     "name": "stdout",
     "output_type": "stream",
     "text": [
      "1/1 [==============================] - 0s 5ms/step - loss: 0.2500 - accuracy: 0.2500\n",
      "Epoch 168/500\n",
      "1/1 [==============================] - 0s 5ms/step - loss: 0.2500 - accuracy: 0.2500\n",
      "Epoch 169/500\n",
      "1/1 [==============================] - 0s 5ms/step - loss: 0.2500 - accuracy: 0.2500\n",
      "Epoch 170/500\n",
      "1/1 [==============================] - 0s 6ms/step - loss: 0.2500 - accuracy: 0.2500\n",
      "Epoch 171/500\n",
      "1/1 [==============================] - 0s 5ms/step - loss: 0.2500 - accuracy: 0.2500\n",
      "Epoch 172/500\n",
      "1/1 [==============================] - 0s 5ms/step - loss: 0.2500 - accuracy: 0.2500\n",
      "Epoch 173/500\n",
      "1/1 [==============================] - 0s 9ms/step - loss: 0.2500 - accuracy: 0.2500\n",
      "Epoch 174/500\n",
      "1/1 [==============================] - 0s 9ms/step - loss: 0.2500 - accuracy: 0.2500\n",
      "Epoch 175/500\n",
      "1/1 [==============================] - 0s 5ms/step - loss: 0.2500 - accuracy: 0.5000\n",
      "Epoch 176/500\n",
      "1/1 [==============================] - 0s 5ms/step - loss: 0.2500 - accuracy: 0.7500\n",
      "Epoch 177/500\n",
      "1/1 [==============================] - 0s 5ms/step - loss: 0.2500 - accuracy: 0.7500\n",
      "Epoch 178/500\n",
      "1/1 [==============================] - 0s 5ms/step - loss: 0.2500 - accuracy: 0.7500\n",
      "Epoch 179/500\n",
      "1/1 [==============================] - 0s 5ms/step - loss: 0.2500 - accuracy: 0.7500\n",
      "Epoch 180/500\n",
      "1/1 [==============================] - 0s 5ms/step - loss: 0.2500 - accuracy: 0.5000\n",
      "Epoch 181/500\n",
      "1/1 [==============================] - 0s 5ms/step - loss: 0.2500 - accuracy: 0.5000\n",
      "Epoch 182/500\n",
      "1/1 [==============================] - 0s 5ms/step - loss: 0.2500 - accuracy: 0.5000\n",
      "Epoch 183/500\n",
      "1/1 [==============================] - 0s 5ms/step - loss: 0.2500 - accuracy: 0.5000\n",
      "Epoch 184/500\n",
      "1/1 [==============================] - 0s 5ms/step - loss: 0.2500 - accuracy: 0.5000\n",
      "Epoch 185/500\n",
      "1/1 [==============================] - 0s 5ms/step - loss: 0.2500 - accuracy: 0.5000\n",
      "Epoch 186/500\n",
      "1/1 [==============================] - 0s 5ms/step - loss: 0.2500 - accuracy: 0.5000\n",
      "Epoch 187/500\n",
      "1/1 [==============================] - 0s 5ms/step - loss: 0.2500 - accuracy: 0.5000\n",
      "Epoch 188/500\n",
      "1/1 [==============================] - 0s 5ms/step - loss: 0.2500 - accuracy: 0.5000\n",
      "Epoch 189/500\n",
      "1/1 [==============================] - 0s 5ms/step - loss: 0.2500 - accuracy: 0.2500\n",
      "Epoch 190/500\n",
      "1/1 [==============================] - 0s 5ms/step - loss: 0.2500 - accuracy: 0.5000\n",
      "Epoch 191/500\n",
      "1/1 [==============================] - 0s 5ms/step - loss: 0.2500 - accuracy: 0.7500\n",
      "Epoch 192/500\n",
      "1/1 [==============================] - 0s 5ms/step - loss: 0.2500 - accuracy: 0.7500\n",
      "Epoch 193/500\n",
      "1/1 [==============================] - 0s 5ms/step - loss: 0.2500 - accuracy: 0.5000\n",
      "Epoch 194/500\n",
      "1/1 [==============================] - 0s 5ms/step - loss: 0.2500 - accuracy: 0.5000\n",
      "Epoch 195/500\n",
      "1/1 [==============================] - 0s 5ms/step - loss: 0.2500 - accuracy: 0.5000\n",
      "Epoch 196/500\n",
      "1/1 [==============================] - 0s 5ms/step - loss: 0.2500 - accuracy: 0.5000\n",
      "Epoch 197/500\n",
      "1/1 [==============================] - 0s 5ms/step - loss: 0.2500 - accuracy: 0.5000\n",
      "Epoch 198/500\n",
      "1/1 [==============================] - 0s 5ms/step - loss: 0.2500 - accuracy: 0.5000\n",
      "Epoch 199/500\n",
      "1/1 [==============================] - 0s 5ms/step - loss: 0.2500 - accuracy: 0.5000\n",
      "Epoch 200/500\n",
      "1/1 [==============================] - 0s 5ms/step - loss: 0.2500 - accuracy: 0.5000\n",
      "Epoch 201/500\n",
      "1/1 [==============================] - 0s 5ms/step - loss: 0.2500 - accuracy: 0.5000\n",
      "Epoch 202/500\n",
      "1/1 [==============================] - 0s 5ms/step - loss: 0.2500 - accuracy: 0.5000\n",
      "Epoch 203/500\n",
      "1/1 [==============================] - 0s 5ms/step - loss: 0.2500 - accuracy: 0.7500\n",
      "Epoch 204/500\n",
      "1/1 [==============================] - 0s 5ms/step - loss: 0.2500 - accuracy: 0.5000\n",
      "Epoch 205/500\n",
      "1/1 [==============================] - 0s 5ms/step - loss: 0.2500 - accuracy: 0.5000\n",
      "Epoch 206/500\n",
      "1/1 [==============================] - 0s 5ms/step - loss: 0.2500 - accuracy: 0.5000\n",
      "Epoch 207/500\n",
      "1/1 [==============================] - 0s 5ms/step - loss: 0.2500 - accuracy: 0.5000\n",
      "Epoch 208/500\n",
      "1/1 [==============================] - 0s 7ms/step - loss: 0.2500 - accuracy: 0.7500\n",
      "Epoch 209/500\n",
      "1/1 [==============================] - 0s 5ms/step - loss: 0.2500 - accuracy: 0.5000\n",
      "Epoch 210/500\n",
      "1/1 [==============================] - 0s 5ms/step - loss: 0.2500 - accuracy: 0.5000\n",
      "Epoch 211/500\n",
      "1/1 [==============================] - 0s 6ms/step - loss: 0.2500 - accuracy: 0.5000\n",
      "Epoch 212/500\n",
      "1/1 [==============================] - 0s 5ms/step - loss: 0.2500 - accuracy: 0.5000\n",
      "Epoch 213/500\n",
      "1/1 [==============================] - 0s 5ms/step - loss: 0.2500 - accuracy: 0.5000\n",
      "Epoch 214/500\n",
      "1/1 [==============================] - 0s 5ms/step - loss: 0.2500 - accuracy: 0.5000\n",
      "Epoch 215/500\n",
      "1/1 [==============================] - 0s 5ms/step - loss: 0.2500 - accuracy: 0.7500\n",
      "Epoch 216/500\n",
      "1/1 [==============================] - 0s 5ms/step - loss: 0.2500 - accuracy: 0.7500\n",
      "Epoch 217/500\n",
      "1/1 [==============================] - 0s 5ms/step - loss: 0.2500 - accuracy: 0.5000\n",
      "Epoch 218/500\n",
      "1/1 [==============================] - 0s 5ms/step - loss: 0.2500 - accuracy: 0.5000\n",
      "Epoch 219/500\n",
      "1/1 [==============================] - 0s 5ms/step - loss: 0.2500 - accuracy: 0.5000\n",
      "Epoch 220/500\n",
      "1/1 [==============================] - 0s 5ms/step - loss: 0.2500 - accuracy: 0.5000\n",
      "Epoch 221/500\n",
      "1/1 [==============================] - 0s 5ms/step - loss: 0.2500 - accuracy: 0.5000\n",
      "Epoch 222/500\n",
      "1/1 [==============================] - 0s 5ms/step - loss: 0.2500 - accuracy: 0.5000\n",
      "Epoch 223/500\n",
      "1/1 [==============================] - 0s 5ms/step - loss: 0.2500 - accuracy: 0.5000\n",
      "Epoch 224/500\n",
      "1/1 [==============================] - 0s 5ms/step - loss: 0.2500 - accuracy: 0.5000\n",
      "Epoch 225/500\n",
      "1/1 [==============================] - 0s 5ms/step - loss: 0.2500 - accuracy: 0.5000\n",
      "Epoch 226/500\n",
      "1/1 [==============================] - 0s 5ms/step - loss: 0.2500 - accuracy: 0.7500\n",
      "Epoch 227/500\n",
      "1/1 [==============================] - 0s 5ms/step - loss: 0.2500 - accuracy: 0.7500\n",
      "Epoch 228/500\n",
      "1/1 [==============================] - 0s 5ms/step - loss: 0.2500 - accuracy: 0.7500\n",
      "Epoch 229/500\n",
      "1/1 [==============================] - 0s 5ms/step - loss: 0.2500 - accuracy: 0.7500\n",
      "Epoch 230/500\n",
      "1/1 [==============================] - 0s 6ms/step - loss: 0.2500 - accuracy: 0.7500\n",
      "Epoch 231/500\n",
      "1/1 [==============================] - 0s 6ms/step - loss: 0.2500 - accuracy: 0.7500\n",
      "Epoch 232/500\n",
      "1/1 [==============================] - 0s 5ms/step - loss: 0.2500 - accuracy: 0.2500\n",
      "Epoch 233/500\n",
      "1/1 [==============================] - 0s 10ms/step - loss: 0.2500 - accuracy: 0.2500\n",
      "Epoch 234/500\n",
      "1/1 [==============================] - 0s 6ms/step - loss: 0.2500 - accuracy: 0.2500\n",
      "Epoch 235/500\n",
      "1/1 [==============================] - 0s 6ms/step - loss: 0.2500 - accuracy: 0.2500\n",
      "Epoch 236/500\n",
      "1/1 [==============================] - 0s 7ms/step - loss: 0.2500 - accuracy: 0.2500\n",
      "Epoch 237/500\n",
      "1/1 [==============================] - 0s 6ms/step - loss: 0.2500 - accuracy: 0.5000\n",
      "Epoch 238/500\n",
      "1/1 [==============================] - 0s 5ms/step - loss: 0.2500 - accuracy: 0.5000\n",
      "Epoch 239/500\n",
      "1/1 [==============================] - 0s 9ms/step - loss: 0.2500 - accuracy: 0.5000\n",
      "Epoch 240/500\n",
      "1/1 [==============================] - 0s 5ms/step - loss: 0.2500 - accuracy: 0.5000\n",
      "Epoch 241/500\n",
      "1/1 [==============================] - 0s 5ms/step - loss: 0.2500 - accuracy: 0.2500\n",
      "Epoch 242/500\n",
      "1/1 [==============================] - 0s 5ms/step - loss: 0.2500 - accuracy: 0.2500\n",
      "Epoch 243/500\n",
      "1/1 [==============================] - 0s 6ms/step - loss: 0.2500 - accuracy: 0.2500\n",
      "Epoch 244/500\n",
      "1/1 [==============================] - 0s 6ms/step - loss: 0.2500 - accuracy: 0.5000\n",
      "Epoch 245/500\n",
      "1/1 [==============================] - 0s 5ms/step - loss: 0.2500 - accuracy: 0.7500\n",
      "Epoch 246/500\n",
      "1/1 [==============================] - 0s 8ms/step - loss: 0.2500 - accuracy: 0.5000\n",
      "Epoch 247/500\n",
      "1/1 [==============================] - 0s 5ms/step - loss: 0.2500 - accuracy: 0.5000\n",
      "Epoch 248/500\n",
      "1/1 [==============================] - 0s 5ms/step - loss: 0.2500 - accuracy: 0.5000\n",
      "Epoch 249/500\n"
     ]
    },
    {
     "name": "stdout",
     "output_type": "stream",
     "text": [
      "1/1 [==============================] - 0s 6ms/step - loss: 0.2500 - accuracy: 0.5000\n",
      "Epoch 250/500\n",
      "1/1 [==============================] - 0s 6ms/step - loss: 0.2500 - accuracy: 0.5000\n",
      "Epoch 251/500\n",
      "1/1 [==============================] - 0s 6ms/step - loss: 0.2500 - accuracy: 0.5000\n",
      "Epoch 252/500\n",
      "1/1 [==============================] - 0s 5ms/step - loss: 0.2500 - accuracy: 0.5000\n",
      "Epoch 253/500\n",
      "1/1 [==============================] - 0s 6ms/step - loss: 0.2500 - accuracy: 0.5000\n",
      "Epoch 254/500\n",
      "1/1 [==============================] - 0s 5ms/step - loss: 0.2500 - accuracy: 0.5000\n",
      "Epoch 255/500\n",
      "1/1 [==============================] - 0s 6ms/step - loss: 0.2500 - accuracy: 0.5000\n",
      "Epoch 256/500\n",
      "1/1 [==============================] - 0s 5ms/step - loss: 0.2500 - accuracy: 0.7500\n",
      "Epoch 257/500\n",
      "1/1 [==============================] - 0s 5ms/step - loss: 0.2500 - accuracy: 0.7500\n",
      "Epoch 258/500\n",
      "1/1 [==============================] - 0s 5ms/step - loss: 0.2500 - accuracy: 0.7500\n",
      "Epoch 259/500\n",
      "1/1 [==============================] - 0s 5ms/step - loss: 0.2500 - accuracy: 0.5000\n",
      "Epoch 260/500\n",
      "1/1 [==============================] - 0s 5ms/step - loss: 0.2500 - accuracy: 0.5000\n",
      "Epoch 261/500\n",
      "1/1 [==============================] - 0s 5ms/step - loss: 0.2500 - accuracy: 0.2500\n",
      "Epoch 262/500\n",
      "1/1 [==============================] - 0s 5ms/step - loss: 0.2500 - accuracy: 0.2500\n",
      "Epoch 263/500\n",
      "1/1 [==============================] - 0s 5ms/step - loss: 0.2500 - accuracy: 0.2500\n",
      "Epoch 264/500\n",
      "1/1 [==============================] - 0s 5ms/step - loss: 0.2500 - accuracy: 0.2500\n",
      "Epoch 265/500\n",
      "1/1 [==============================] - 0s 5ms/step - loss: 0.2500 - accuracy: 0.2500\n",
      "Epoch 266/500\n",
      "1/1 [==============================] - 0s 5ms/step - loss: 0.2500 - accuracy: 0.2500\n",
      "Epoch 267/500\n",
      "1/1 [==============================] - 0s 5ms/step - loss: 0.2500 - accuracy: 0.2500\n",
      "Epoch 268/500\n",
      "1/1 [==============================] - 0s 5ms/step - loss: 0.2500 - accuracy: 0.2500\n",
      "Epoch 269/500\n",
      "1/1 [==============================] - 0s 5ms/step - loss: 0.2500 - accuracy: 0.5000\n",
      "Epoch 270/500\n",
      "1/1 [==============================] - 0s 15ms/step - loss: 0.2500 - accuracy: 0.5000\n",
      "Epoch 271/500\n",
      "1/1 [==============================] - 0s 8ms/step - loss: 0.2500 - accuracy: 0.5000\n",
      "Epoch 272/500\n",
      "1/1 [==============================] - 0s 5ms/step - loss: 0.2500 - accuracy: 0.5000\n",
      "Epoch 273/500\n",
      "1/1 [==============================] - 0s 5ms/step - loss: 0.2500 - accuracy: 0.5000\n",
      "Epoch 274/500\n",
      "1/1 [==============================] - 0s 6ms/step - loss: 0.2500 - accuracy: 0.5000\n",
      "Epoch 275/500\n",
      "1/1 [==============================] - 0s 5ms/step - loss: 0.2500 - accuracy: 0.5000\n",
      "Epoch 276/500\n",
      "1/1 [==============================] - 0s 5ms/step - loss: 0.2500 - accuracy: 0.5000\n",
      "Epoch 277/500\n",
      "1/1 [==============================] - 0s 5ms/step - loss: 0.2500 - accuracy: 0.5000\n",
      "Epoch 278/500\n",
      "1/1 [==============================] - 0s 5ms/step - loss: 0.2500 - accuracy: 0.5000\n",
      "Epoch 279/500\n",
      "1/1 [==============================] - 0s 5ms/step - loss: 0.2500 - accuracy: 0.5000\n",
      "Epoch 280/500\n",
      "1/1 [==============================] - 0s 5ms/step - loss: 0.2500 - accuracy: 0.5000\n",
      "Epoch 281/500\n",
      "1/1 [==============================] - 0s 5ms/step - loss: 0.2500 - accuracy: 0.5000\n",
      "Epoch 282/500\n",
      "1/1 [==============================] - 0s 5ms/step - loss: 0.2500 - accuracy: 0.5000\n",
      "Epoch 283/500\n",
      "1/1 [==============================] - 0s 5ms/step - loss: 0.2500 - accuracy: 0.5000\n",
      "Epoch 284/500\n",
      "1/1 [==============================] - 0s 5ms/step - loss: 0.2500 - accuracy: 0.5000\n",
      "Epoch 285/500\n",
      "1/1 [==============================] - 0s 5ms/step - loss: 0.2500 - accuracy: 0.5000\n",
      "Epoch 286/500\n",
      "1/1 [==============================] - 0s 5ms/step - loss: 0.2500 - accuracy: 0.5000\n",
      "Epoch 287/500\n",
      "1/1 [==============================] - 0s 5ms/step - loss: 0.2500 - accuracy: 0.5000\n",
      "Epoch 288/500\n",
      "1/1 [==============================] - 0s 6ms/step - loss: 0.2500 - accuracy: 0.5000\n",
      "Epoch 289/500\n",
      "1/1 [==============================] - 0s 6ms/step - loss: 0.2500 - accuracy: 0.5000\n",
      "Epoch 290/500\n",
      "1/1 [==============================] - 0s 5ms/step - loss: 0.2500 - accuracy: 0.5000\n",
      "Epoch 291/500\n",
      "1/1 [==============================] - 0s 5ms/step - loss: 0.2500 - accuracy: 0.5000\n",
      "Epoch 292/500\n",
      "1/1 [==============================] - 0s 5ms/step - loss: 0.2500 - accuracy: 0.5000\n",
      "Epoch 293/500\n",
      "1/1 [==============================] - 0s 5ms/step - loss: 0.2500 - accuracy: 0.5000\n",
      "Epoch 294/500\n",
      "1/1 [==============================] - 0s 5ms/step - loss: 0.2500 - accuracy: 0.5000\n",
      "Epoch 295/500\n",
      "1/1 [==============================] - 0s 5ms/step - loss: 0.2500 - accuracy: 0.5000\n",
      "Epoch 296/500\n",
      "1/1 [==============================] - 0s 5ms/step - loss: 0.2500 - accuracy: 0.5000\n",
      "Epoch 297/500\n",
      "1/1 [==============================] - 0s 5ms/step - loss: 0.2500 - accuracy: 0.5000\n",
      "Epoch 298/500\n",
      "1/1 [==============================] - 0s 5ms/step - loss: 0.2500 - accuracy: 0.5000\n",
      "Epoch 299/500\n",
      "1/1 [==============================] - 0s 5ms/step - loss: 0.2500 - accuracy: 0.5000\n",
      "Epoch 300/500\n",
      "1/1 [==============================] - 0s 5ms/step - loss: 0.2500 - accuracy: 0.5000\n",
      "Epoch 301/500\n",
      "1/1 [==============================] - 0s 5ms/step - loss: 0.2500 - accuracy: 0.5000\n",
      "Epoch 302/500\n",
      "1/1 [==============================] - 0s 5ms/step - loss: 0.2500 - accuracy: 0.2500\n",
      "Epoch 303/500\n",
      "1/1 [==============================] - 0s 5ms/step - loss: 0.2500 - accuracy: 0.2500\n",
      "Epoch 304/500\n",
      "1/1 [==============================] - 0s 5ms/step - loss: 0.2500 - accuracy: 0.2500\n",
      "Epoch 305/500\n",
      "1/1 [==============================] - 0s 5ms/step - loss: 0.2500 - accuracy: 0.2500\n",
      "Epoch 306/500\n",
      "1/1 [==============================] - 0s 5ms/step - loss: 0.2500 - accuracy: 0.2500\n",
      "Epoch 307/500\n",
      "1/1 [==============================] - 0s 5ms/step - loss: 0.2500 - accuracy: 0.2500\n",
      "Epoch 308/500\n",
      "1/1 [==============================] - 0s 5ms/step - loss: 0.2500 - accuracy: 0.2500\n",
      "Epoch 309/500\n",
      "1/1 [==============================] - 0s 5ms/step - loss: 0.2500 - accuracy: 0.2500\n",
      "Epoch 310/500\n",
      "1/1 [==============================] - 0s 5ms/step - loss: 0.2500 - accuracy: 0.5000\n",
      "Epoch 311/500\n",
      "1/1 [==============================] - 0s 5ms/step - loss: 0.2500 - accuracy: 0.5000\n",
      "Epoch 312/500\n",
      "1/1 [==============================] - 0s 5ms/step - loss: 0.2500 - accuracy: 0.5000\n",
      "Epoch 313/500\n",
      "1/1 [==============================] - 0s 5ms/step - loss: 0.2500 - accuracy: 0.5000\n",
      "Epoch 314/500\n",
      "1/1 [==============================] - 0s 5ms/step - loss: 0.2500 - accuracy: 0.5000\n",
      "Epoch 315/500\n",
      "1/1 [==============================] - 0s 6ms/step - loss: 0.2500 - accuracy: 0.5000\n",
      "Epoch 316/500\n",
      "1/1 [==============================] - 0s 5ms/step - loss: 0.2500 - accuracy: 0.5000\n",
      "Epoch 317/500\n",
      "1/1 [==============================] - 0s 5ms/step - loss: 0.2500 - accuracy: 0.5000\n",
      "Epoch 318/500\n",
      "1/1 [==============================] - 0s 5ms/step - loss: 0.2500 - accuracy: 0.5000\n",
      "Epoch 319/500\n",
      "1/1 [==============================] - 0s 5ms/step - loss: 0.2500 - accuracy: 0.5000\n",
      "Epoch 320/500\n",
      "1/1 [==============================] - 0s 5ms/step - loss: 0.2500 - accuracy: 0.5000\n",
      "Epoch 321/500\n",
      "1/1 [==============================] - 0s 5ms/step - loss: 0.2500 - accuracy: 0.5000\n",
      "Epoch 322/500\n",
      "1/1 [==============================] - 0s 5ms/step - loss: 0.2500 - accuracy: 0.5000\n",
      "Epoch 323/500\n",
      "1/1 [==============================] - 0s 5ms/step - loss: 0.2500 - accuracy: 0.5000\n",
      "Epoch 324/500\n",
      "1/1 [==============================] - 0s 5ms/step - loss: 0.2500 - accuracy: 0.5000\n",
      "Epoch 325/500\n",
      "1/1 [==============================] - 0s 5ms/step - loss: 0.2500 - accuracy: 0.5000\n",
      "Epoch 326/500\n",
      "1/1 [==============================] - 0s 5ms/step - loss: 0.2500 - accuracy: 0.5000\n",
      "Epoch 327/500\n",
      "1/1 [==============================] - 0s 6ms/step - loss: 0.2500 - accuracy: 0.5000\n",
      "Epoch 328/500\n",
      "1/1 [==============================] - 0s 5ms/step - loss: 0.2500 - accuracy: 0.5000\n",
      "Epoch 329/500\n",
      "1/1 [==============================] - 0s 5ms/step - loss: 0.2500 - accuracy: 0.5000\n",
      "Epoch 330/500\n",
      "1/1 [==============================] - 0s 5ms/step - loss: 0.2500 - accuracy: 0.5000\n",
      "Epoch 331/500\n"
     ]
    },
    {
     "name": "stdout",
     "output_type": "stream",
     "text": [
      "1/1 [==============================] - 0s 5ms/step - loss: 0.2500 - accuracy: 0.5000\n",
      "Epoch 332/500\n",
      "1/1 [==============================] - 0s 6ms/step - loss: 0.2500 - accuracy: 0.5000\n",
      "Epoch 333/500\n",
      "1/1 [==============================] - 0s 5ms/step - loss: 0.2500 - accuracy: 0.5000\n",
      "Epoch 334/500\n",
      "1/1 [==============================] - 0s 5ms/step - loss: 0.2500 - accuracy: 0.5000\n",
      "Epoch 335/500\n",
      "1/1 [==============================] - 0s 5ms/step - loss: 0.2500 - accuracy: 0.5000\n",
      "Epoch 336/500\n",
      "1/1 [==============================] - 0s 5ms/step - loss: 0.2500 - accuracy: 0.5000\n",
      "Epoch 337/500\n",
      "1/1 [==============================] - 0s 5ms/step - loss: 0.2500 - accuracy: 0.5000\n",
      "Epoch 338/500\n",
      "1/1 [==============================] - 0s 5ms/step - loss: 0.2500 - accuracy: 0.5000\n",
      "Epoch 339/500\n",
      "1/1 [==============================] - 0s 5ms/step - loss: 0.2500 - accuracy: 0.5000\n",
      "Epoch 340/500\n",
      "1/1 [==============================] - 0s 5ms/step - loss: 0.2500 - accuracy: 0.5000\n",
      "Epoch 341/500\n",
      "1/1 [==============================] - 0s 5ms/step - loss: 0.2500 - accuracy: 0.5000\n",
      "Epoch 342/500\n",
      "1/1 [==============================] - 0s 5ms/step - loss: 0.2500 - accuracy: 0.5000\n",
      "Epoch 343/500\n",
      "1/1 [==============================] - 0s 6ms/step - loss: 0.2500 - accuracy: 0.5000\n",
      "Epoch 344/500\n",
      "1/1 [==============================] - 0s 5ms/step - loss: 0.2500 - accuracy: 0.5000\n",
      "Epoch 345/500\n",
      "1/1 [==============================] - 0s 6ms/step - loss: 0.2500 - accuracy: 0.5000\n",
      "Epoch 346/500\n",
      "1/1 [==============================] - 0s 5ms/step - loss: 0.2500 - accuracy: 0.5000\n",
      "Epoch 347/500\n",
      "1/1 [==============================] - 0s 5ms/step - loss: 0.2500 - accuracy: 0.5000\n",
      "Epoch 348/500\n",
      "1/1 [==============================] - 0s 5ms/step - loss: 0.2500 - accuracy: 0.5000\n",
      "Epoch 349/500\n",
      "1/1 [==============================] - 0s 5ms/step - loss: 0.2500 - accuracy: 0.5000\n",
      "Epoch 350/500\n",
      "1/1 [==============================] - 0s 5ms/step - loss: 0.2500 - accuracy: 0.5000\n",
      "Epoch 351/500\n",
      "1/1 [==============================] - 0s 5ms/step - loss: 0.2500 - accuracy: 0.5000\n",
      "Epoch 352/500\n",
      "1/1 [==============================] - 0s 5ms/step - loss: 0.2500 - accuracy: 0.5000\n",
      "Epoch 353/500\n",
      "1/1 [==============================] - 0s 5ms/step - loss: 0.2500 - accuracy: 0.5000\n",
      "Epoch 354/500\n",
      "1/1 [==============================] - 0s 5ms/step - loss: 0.2500 - accuracy: 0.5000\n",
      "Epoch 355/500\n",
      "1/1 [==============================] - 0s 6ms/step - loss: 0.2500 - accuracy: 0.5000\n",
      "Epoch 356/500\n",
      "1/1 [==============================] - 0s 5ms/step - loss: 0.2500 - accuracy: 0.5000\n",
      "Epoch 357/500\n",
      "1/1 [==============================] - 0s 6ms/step - loss: 0.2500 - accuracy: 0.5000\n",
      "Epoch 358/500\n",
      "1/1 [==============================] - 0s 5ms/step - loss: 0.2500 - accuracy: 0.5000\n",
      "Epoch 359/500\n",
      "1/1 [==============================] - 0s 5ms/step - loss: 0.2500 - accuracy: 0.5000\n",
      "Epoch 360/500\n",
      "1/1 [==============================] - 0s 5ms/step - loss: 0.2500 - accuracy: 0.5000\n",
      "Epoch 361/500\n",
      "1/1 [==============================] - 0s 5ms/step - loss: 0.2500 - accuracy: 0.5000\n",
      "Epoch 362/500\n",
      "1/1 [==============================] - 0s 5ms/step - loss: 0.2500 - accuracy: 0.5000\n",
      "Epoch 363/500\n",
      "1/1 [==============================] - 0s 5ms/step - loss: 0.2500 - accuracy: 0.5000\n",
      "Epoch 364/500\n",
      "1/1 [==============================] - 0s 5ms/step - loss: 0.2500 - accuracy: 0.5000\n",
      "Epoch 365/500\n",
      "1/1 [==============================] - 0s 5ms/step - loss: 0.2500 - accuracy: 0.5000\n",
      "Epoch 366/500\n",
      "1/1 [==============================] - 0s 5ms/step - loss: 0.2500 - accuracy: 0.5000\n",
      "Epoch 367/500\n",
      "1/1 [==============================] - 0s 5ms/step - loss: 0.2500 - accuracy: 0.5000\n",
      "Epoch 368/500\n",
      "1/1 [==============================] - 0s 5ms/step - loss: 0.2500 - accuracy: 0.5000\n",
      "Epoch 369/500\n",
      "1/1 [==============================] - 0s 5ms/step - loss: 0.2500 - accuracy: 0.5000\n",
      "Epoch 370/500\n",
      "1/1 [==============================] - 0s 5ms/step - loss: 0.2500 - accuracy: 0.5000\n",
      "Epoch 371/500\n",
      "1/1 [==============================] - 0s 5ms/step - loss: 0.2500 - accuracy: 0.5000\n",
      "Epoch 372/500\n",
      "1/1 [==============================] - 0s 5ms/step - loss: 0.2500 - accuracy: 0.5000\n",
      "Epoch 373/500\n",
      "1/1 [==============================] - 0s 5ms/step - loss: 0.2500 - accuracy: 0.5000\n",
      "Epoch 374/500\n",
      "1/1 [==============================] - 0s 5ms/step - loss: 0.2500 - accuracy: 0.5000\n",
      "Epoch 375/500\n",
      "1/1 [==============================] - 0s 5ms/step - loss: 0.2500 - accuracy: 0.5000\n",
      "Epoch 376/500\n",
      "1/1 [==============================] - 0s 5ms/step - loss: 0.2500 - accuracy: 0.5000\n",
      "Epoch 377/500\n",
      "1/1 [==============================] - 0s 5ms/step - loss: 0.2500 - accuracy: 0.5000\n",
      "Epoch 378/500\n",
      "1/1 [==============================] - 0s 5ms/step - loss: 0.2500 - accuracy: 0.5000\n",
      "Epoch 379/500\n",
      "1/1 [==============================] - 0s 5ms/step - loss: 0.2500 - accuracy: 0.5000\n",
      "Epoch 380/500\n",
      "1/1 [==============================] - 0s 5ms/step - loss: 0.2500 - accuracy: 0.5000\n",
      "Epoch 381/500\n",
      "1/1 [==============================] - 0s 5ms/step - loss: 0.2500 - accuracy: 0.5000\n",
      "Epoch 382/500\n",
      "1/1 [==============================] - 0s 5ms/step - loss: 0.2500 - accuracy: 0.5000\n",
      "Epoch 383/500\n",
      "1/1 [==============================] - 0s 5ms/step - loss: 0.2500 - accuracy: 0.5000\n",
      "Epoch 384/500\n",
      "1/1 [==============================] - 0s 5ms/step - loss: 0.2500 - accuracy: 0.5000\n",
      "Epoch 385/500\n",
      "1/1 [==============================] - 0s 5ms/step - loss: 0.2500 - accuracy: 0.5000\n",
      "Epoch 386/500\n",
      "1/1 [==============================] - 0s 6ms/step - loss: 0.2500 - accuracy: 0.5000\n",
      "Epoch 387/500\n",
      "1/1 [==============================] - 0s 5ms/step - loss: 0.2500 - accuracy: 0.5000\n",
      "Epoch 388/500\n",
      "1/1 [==============================] - 0s 5ms/step - loss: 0.2500 - accuracy: 0.5000\n",
      "Epoch 389/500\n",
      "1/1 [==============================] - 0s 5ms/step - loss: 0.2500 - accuracy: 0.5000\n",
      "Epoch 390/500\n",
      "1/1 [==============================] - 0s 5ms/step - loss: 0.2500 - accuracy: 0.5000\n",
      "Epoch 391/500\n",
      "1/1 [==============================] - 0s 5ms/step - loss: 0.2500 - accuracy: 0.5000\n",
      "Epoch 392/500\n",
      "1/1 [==============================] - 0s 5ms/step - loss: 0.2500 - accuracy: 0.5000\n",
      "Epoch 393/500\n",
      "1/1 [==============================] - 0s 5ms/step - loss: 0.2500 - accuracy: 0.5000\n",
      "Epoch 394/500\n",
      "1/1 [==============================] - 0s 5ms/step - loss: 0.2500 - accuracy: 0.5000\n",
      "Epoch 395/500\n",
      "1/1 [==============================] - 0s 5ms/step - loss: 0.2500 - accuracy: 0.5000\n",
      "Epoch 396/500\n",
      "1/1 [==============================] - 0s 5ms/step - loss: 0.2500 - accuracy: 0.5000\n",
      "Epoch 397/500\n",
      "1/1 [==============================] - 0s 5ms/step - loss: 0.2500 - accuracy: 0.5000\n",
      "Epoch 398/500\n",
      "1/1 [==============================] - 0s 6ms/step - loss: 0.2500 - accuracy: 0.5000\n",
      "Epoch 399/500\n",
      "1/1 [==============================] - 0s 5ms/step - loss: 0.2500 - accuracy: 0.5000\n",
      "Epoch 400/500\n",
      "1/1 [==============================] - 0s 5ms/step - loss: 0.2500 - accuracy: 0.5000\n",
      "Epoch 401/500\n",
      "1/1 [==============================] - 0s 5ms/step - loss: 0.2500 - accuracy: 0.5000\n",
      "Epoch 402/500\n",
      "1/1 [==============================] - 0s 5ms/step - loss: 0.2500 - accuracy: 0.5000\n",
      "Epoch 403/500\n",
      "1/1 [==============================] - 0s 5ms/step - loss: 0.2500 - accuracy: 0.5000\n",
      "Epoch 404/500\n",
      "1/1 [==============================] - 0s 5ms/step - loss: 0.2500 - accuracy: 0.5000\n",
      "Epoch 405/500\n",
      "1/1 [==============================] - 0s 5ms/step - loss: 0.2500 - accuracy: 0.5000\n",
      "Epoch 406/500\n",
      "1/1 [==============================] - 0s 5ms/step - loss: 0.2500 - accuracy: 0.5000\n",
      "Epoch 407/500\n",
      "1/1 [==============================] - 0s 8ms/step - loss: 0.2500 - accuracy: 0.5000\n",
      "Epoch 408/500\n",
      "1/1 [==============================] - 0s 5ms/step - loss: 0.2500 - accuracy: 0.5000\n",
      "Epoch 409/500\n",
      "1/1 [==============================] - 0s 6ms/step - loss: 0.2500 - accuracy: 0.5000\n",
      "Epoch 410/500\n",
      "1/1 [==============================] - 0s 5ms/step - loss: 0.2500 - accuracy: 0.5000\n",
      "Epoch 411/500\n",
      "1/1 [==============================] - 0s 5ms/step - loss: 0.2500 - accuracy: 0.5000\n",
      "Epoch 412/500\n",
      "1/1 [==============================] - 0s 5ms/step - loss: 0.2500 - accuracy: 0.5000\n",
      "Epoch 413/500\n"
     ]
    },
    {
     "name": "stdout",
     "output_type": "stream",
     "text": [
      "1/1 [==============================] - 0s 5ms/step - loss: 0.2500 - accuracy: 0.5000\n",
      "Epoch 414/500\n",
      "1/1 [==============================] - 0s 5ms/step - loss: 0.2500 - accuracy: 0.5000\n",
      "Epoch 415/500\n",
      "1/1 [==============================] - 0s 5ms/step - loss: 0.2500 - accuracy: 0.5000\n",
      "Epoch 416/500\n",
      "1/1 [==============================] - 0s 5ms/step - loss: 0.2500 - accuracy: 0.5000\n",
      "Epoch 417/500\n",
      "1/1 [==============================] - 0s 5ms/step - loss: 0.2500 - accuracy: 0.5000\n",
      "Epoch 418/500\n",
      "1/1 [==============================] - 0s 5ms/step - loss: 0.2500 - accuracy: 0.5000\n",
      "Epoch 419/500\n",
      "1/1 [==============================] - 0s 5ms/step - loss: 0.2500 - accuracy: 0.5000\n",
      "Epoch 420/500\n",
      "1/1 [==============================] - 0s 5ms/step - loss: 0.2500 - accuracy: 0.5000\n",
      "Epoch 421/500\n",
      "1/1 [==============================] - 0s 5ms/step - loss: 0.2500 - accuracy: 0.5000\n",
      "Epoch 422/500\n",
      "1/1 [==============================] - 0s 5ms/step - loss: 0.2500 - accuracy: 0.5000\n",
      "Epoch 423/500\n",
      "1/1 [==============================] - 0s 6ms/step - loss: 0.2500 - accuracy: 0.5000\n",
      "Epoch 424/500\n",
      "1/1 [==============================] - 0s 5ms/step - loss: 0.2500 - accuracy: 0.5000\n",
      "Epoch 425/500\n",
      "1/1 [==============================] - 0s 5ms/step - loss: 0.2500 - accuracy: 0.5000\n",
      "Epoch 426/500\n",
      "1/1 [==============================] - 0s 5ms/step - loss: 0.2500 - accuracy: 0.5000\n",
      "Epoch 427/500\n",
      "1/1 [==============================] - 0s 5ms/step - loss: 0.2500 - accuracy: 0.5000\n",
      "Epoch 428/500\n",
      "1/1 [==============================] - 0s 5ms/step - loss: 0.2500 - accuracy: 0.5000\n",
      "Epoch 429/500\n",
      "1/1 [==============================] - 0s 5ms/step - loss: 0.2500 - accuracy: 0.5000\n",
      "Epoch 430/500\n",
      "1/1 [==============================] - 0s 5ms/step - loss: 0.2500 - accuracy: 0.5000\n",
      "Epoch 431/500\n",
      "1/1 [==============================] - 0s 5ms/step - loss: 0.2500 - accuracy: 0.5000\n",
      "Epoch 432/500\n",
      "1/1 [==============================] - 0s 5ms/step - loss: 0.2500 - accuracy: 0.5000\n",
      "Epoch 433/500\n",
      "1/1 [==============================] - 0s 5ms/step - loss: 0.2500 - accuracy: 0.5000\n",
      "Epoch 434/500\n",
      "1/1 [==============================] - 0s 5ms/step - loss: 0.2500 - accuracy: 0.5000\n",
      "Epoch 435/500\n",
      "1/1 [==============================] - 0s 5ms/step - loss: 0.2500 - accuracy: 0.5000\n",
      "Epoch 436/500\n",
      "1/1 [==============================] - 0s 5ms/step - loss: 0.2500 - accuracy: 0.5000\n",
      "Epoch 437/500\n",
      "1/1 [==============================] - 0s 5ms/step - loss: 0.2500 - accuracy: 0.5000\n",
      "Epoch 438/500\n",
      "1/1 [==============================] - 0s 5ms/step - loss: 0.2500 - accuracy: 0.5000\n",
      "Epoch 439/500\n",
      "1/1 [==============================] - 0s 5ms/step - loss: 0.2500 - accuracy: 0.5000\n",
      "Epoch 440/500\n",
      "1/1 [==============================] - 0s 5ms/step - loss: 0.2500 - accuracy: 0.5000\n",
      "Epoch 441/500\n",
      "1/1 [==============================] - 0s 5ms/step - loss: 0.2500 - accuracy: 0.5000\n",
      "Epoch 442/500\n",
      "1/1 [==============================] - 0s 5ms/step - loss: 0.2500 - accuracy: 0.5000\n",
      "Epoch 443/500\n",
      "1/1 [==============================] - 0s 5ms/step - loss: 0.2500 - accuracy: 0.5000\n",
      "Epoch 444/500\n",
      "1/1 [==============================] - 0s 5ms/step - loss: 0.2500 - accuracy: 0.5000\n",
      "Epoch 445/500\n",
      "1/1 [==============================] - 0s 5ms/step - loss: 0.2500 - accuracy: 0.5000\n",
      "Epoch 446/500\n",
      "1/1 [==============================] - 0s 5ms/step - loss: 0.2500 - accuracy: 0.5000\n",
      "Epoch 447/500\n",
      "1/1 [==============================] - 0s 5ms/step - loss: 0.2500 - accuracy: 0.5000\n",
      "Epoch 448/500\n",
      "1/1 [==============================] - 0s 5ms/step - loss: 0.2500 - accuracy: 0.5000\n",
      "Epoch 449/500\n",
      "1/1 [==============================] - 0s 5ms/step - loss: 0.2500 - accuracy: 0.5000\n",
      "Epoch 450/500\n",
      "1/1 [==============================] - 0s 5ms/step - loss: 0.2500 - accuracy: 0.5000\n",
      "Epoch 451/500\n",
      "1/1 [==============================] - 0s 5ms/step - loss: 0.2500 - accuracy: 0.5000\n",
      "Epoch 452/500\n",
      "1/1 [==============================] - 0s 6ms/step - loss: 0.2500 - accuracy: 0.5000\n",
      "Epoch 453/500\n",
      "1/1 [==============================] - 0s 5ms/step - loss: 0.2500 - accuracy: 0.5000\n",
      "Epoch 454/500\n",
      "1/1 [==============================] - 0s 5ms/step - loss: 0.2500 - accuracy: 0.5000\n",
      "Epoch 455/500\n",
      "1/1 [==============================] - 0s 5ms/step - loss: 0.2500 - accuracy: 0.5000\n",
      "Epoch 456/500\n",
      "1/1 [==============================] - 0s 5ms/step - loss: 0.2500 - accuracy: 0.5000\n",
      "Epoch 457/500\n",
      "1/1 [==============================] - 0s 5ms/step - loss: 0.2500 - accuracy: 0.5000\n",
      "Epoch 458/500\n",
      "1/1 [==============================] - 0s 5ms/step - loss: 0.2500 - accuracy: 0.5000\n",
      "Epoch 459/500\n",
      "1/1 [==============================] - 0s 5ms/step - loss: 0.2500 - accuracy: 0.5000\n",
      "Epoch 460/500\n",
      "1/1 [==============================] - 0s 5ms/step - loss: 0.2500 - accuracy: 0.5000\n",
      "Epoch 461/500\n",
      "1/1 [==============================] - 0s 5ms/step - loss: 0.2500 - accuracy: 0.5000\n",
      "Epoch 462/500\n",
      "1/1 [==============================] - 0s 5ms/step - loss: 0.2500 - accuracy: 0.5000\n",
      "Epoch 463/500\n",
      "1/1 [==============================] - 0s 5ms/step - loss: 0.2500 - accuracy: 0.5000\n",
      "Epoch 464/500\n",
      "1/1 [==============================] - 0s 5ms/step - loss: 0.2500 - accuracy: 0.5000\n",
      "Epoch 465/500\n",
      "1/1 [==============================] - 0s 5ms/step - loss: 0.2500 - accuracy: 0.5000\n",
      "Epoch 466/500\n",
      "1/1 [==============================] - 0s 5ms/step - loss: 0.2500 - accuracy: 0.5000\n",
      "Epoch 467/500\n",
      "1/1 [==============================] - 0s 5ms/step - loss: 0.2500 - accuracy: 0.5000\n",
      "Epoch 468/500\n",
      "1/1 [==============================] - 0s 5ms/step - loss: 0.2500 - accuracy: 0.5000\n",
      "Epoch 469/500\n",
      "1/1 [==============================] - 0s 5ms/step - loss: 0.2500 - accuracy: 0.5000\n",
      "Epoch 470/500\n",
      "1/1 [==============================] - 0s 5ms/step - loss: 0.2500 - accuracy: 0.5000\n",
      "Epoch 471/500\n",
      "1/1 [==============================] - 0s 5ms/step - loss: 0.2500 - accuracy: 0.5000\n",
      "Epoch 472/500\n",
      "1/1 [==============================] - 0s 5ms/step - loss: 0.2500 - accuracy: 0.5000\n",
      "Epoch 473/500\n",
      "1/1 [==============================] - 0s 5ms/step - loss: 0.2500 - accuracy: 0.5000\n",
      "Epoch 474/500\n",
      "1/1 [==============================] - 0s 5ms/step - loss: 0.2500 - accuracy: 0.5000\n",
      "Epoch 475/500\n",
      "1/1 [==============================] - 0s 5ms/step - loss: 0.2500 - accuracy: 0.5000\n",
      "Epoch 476/500\n",
      "1/1 [==============================] - 0s 5ms/step - loss: 0.2500 - accuracy: 0.5000\n",
      "Epoch 477/500\n",
      "1/1 [==============================] - 0s 5ms/step - loss: 0.2500 - accuracy: 0.5000\n",
      "Epoch 478/500\n",
      "1/1 [==============================] - 0s 5ms/step - loss: 0.2500 - accuracy: 0.5000\n",
      "Epoch 479/500\n",
      "1/1 [==============================] - 0s 5ms/step - loss: 0.2500 - accuracy: 0.5000\n",
      "Epoch 480/500\n",
      "1/1 [==============================] - 0s 6ms/step - loss: 0.2500 - accuracy: 0.5000\n",
      "Epoch 481/500\n",
      "1/1 [==============================] - 0s 5ms/step - loss: 0.2500 - accuracy: 0.5000\n",
      "Epoch 482/500\n",
      "1/1 [==============================] - 0s 5ms/step - loss: 0.2500 - accuracy: 0.5000\n",
      "Epoch 483/500\n",
      "1/1 [==============================] - 0s 5ms/step - loss: 0.2500 - accuracy: 0.5000\n",
      "Epoch 484/500\n",
      "1/1 [==============================] - 0s 5ms/step - loss: 0.2500 - accuracy: 0.5000\n",
      "Epoch 485/500\n",
      "1/1 [==============================] - 0s 5ms/step - loss: 0.2500 - accuracy: 0.5000\n",
      "Epoch 486/500\n",
      "1/1 [==============================] - 0s 5ms/step - loss: 0.2500 - accuracy: 0.5000\n",
      "Epoch 487/500\n",
      "1/1 [==============================] - 0s 5ms/step - loss: 0.2500 - accuracy: 0.5000\n",
      "Epoch 488/500\n",
      "1/1 [==============================] - 0s 5ms/step - loss: 0.2500 - accuracy: 0.5000\n",
      "Epoch 489/500\n",
      "1/1 [==============================] - 0s 5ms/step - loss: 0.2500 - accuracy: 0.5000\n",
      "Epoch 490/500\n",
      "1/1 [==============================] - 0s 5ms/step - loss: 0.2500 - accuracy: 0.5000\n",
      "Epoch 491/500\n",
      "1/1 [==============================] - 0s 5ms/step - loss: 0.2500 - accuracy: 0.5000\n",
      "Epoch 492/500\n",
      "1/1 [==============================] - 0s 5ms/step - loss: 0.2500 - accuracy: 0.5000\n",
      "Epoch 493/500\n",
      "1/1 [==============================] - 0s 5ms/step - loss: 0.2500 - accuracy: 0.5000\n",
      "Epoch 494/500\n",
      "1/1 [==============================] - 0s 5ms/step - loss: 0.2500 - accuracy: 0.5000\n",
      "Epoch 495/500\n"
     ]
    },
    {
     "name": "stdout",
     "output_type": "stream",
     "text": [
      "1/1 [==============================] - 0s 5ms/step - loss: 0.2500 - accuracy: 0.5000\n",
      "Epoch 496/500\n",
      "1/1 [==============================] - 0s 5ms/step - loss: 0.2500 - accuracy: 0.5000\n",
      "Epoch 497/500\n",
      "1/1 [==============================] - 0s 5ms/step - loss: 0.2500 - accuracy: 0.5000\n",
      "Epoch 498/500\n",
      "1/1 [==============================] - 0s 5ms/step - loss: 0.2500 - accuracy: 0.5000\n",
      "Epoch 499/500\n",
      "1/1 [==============================] - 0s 5ms/step - loss: 0.2500 - accuracy: 0.5000\n",
      "Epoch 500/500\n",
      "1/1 [==============================] - 0s 5ms/step - loss: 0.2500 - accuracy: 0.5000\n"
     ]
    },
    {
     "data": {
      "text/plain": [
       "<keras.callbacks.History at 0x7f797e3739a0>"
      ]
     },
     "execution_count": 13,
     "metadata": {},
     "output_type": "execute_result"
    }
   ],
   "source": [
    "# In Keras, you train a model that you've compiled by running 'fit' on it.\n",
    "\n",
    "# You may need to fool around with values passed to fit() to get to 100% accuracy.  I'd suggest ignoring\n",
    "# steps_per_epoch since our training set is so preposterously small.  Also, remember that the\n",
    "# training process involves randomization, so you may see different results on different runs.\n",
    "# The model we've built is powerful enough to simulate XOR well, but depending on hyperparameter\n",
    "# choices during training, and some amount of luck of the draw, it may take some fiddling to\n",
    "# get to 100%.\n",
    "#\n",
    "# We'll talk more about the details of such concerns in short order.  For now, we're just trying\n",
    "# to get your feet wet with using Keras to train a model that perceptrons couldn't do, but that\n",
    "# neural networks with one hidden layer can do (though sometimes with a bit of cajoling).\n",
    "#\n",
    "model.fit(data_X, data_y,\n",
    "          epochs=500) # Note: different random initial conditions require different # of epochs. The output results in acc 1.000"
   ]
  },
  {
   "cell_type": "markdown",
   "metadata": {},
   "source": [
    "Once you've finally hit an accuracy of 1.0000, look at how many epochs it took to reach that result.  Also note how the loss function decreased across the epochs.  We'll soon see nicer ways of monitoring these things during training, stopping at a good time and not wasting additional epochs past the point of diminishing returns, and so on.\n",
    "\n",
    "For now, just beat the model into submission on the XOR problem."
   ]
  },
  {
   "cell_type": "markdown",
   "metadata": {
    "nbgrader": {
     "grade": false,
     "locked": true,
     "solution": false
    }
   },
   "source": [
    "# Run the trained model on the dataset."
   ]
  },
  {
   "cell_type": "code",
   "execution_count": 15,
   "metadata": {
    "nbgrader": {
     "grade": false,
     "locked": true,
     "solution": false
    }
   },
   "outputs": [
    {
     "name": "stdout",
     "output_type": "stream",
     "text": [
      "1/1 [==============================] - 0s 19ms/step\n"
     ]
    },
    {
     "data": {
      "text/plain": [
       "array([[0.5],\n",
       "       [0.5],\n",
       "       [0.5],\n",
       "       [0.5]], dtype=float32)"
      ]
     },
     "execution_count": 15,
     "metadata": {},
     "output_type": "execute_result"
    }
   ],
   "source": [
    "predictions = model.predict(data_X)\n",
    "predictions"
   ]
  },
  {
   "cell_type": "markdown",
   "metadata": {},
   "source": [
    "Stop and interpret the result of the above cell.  Each component of the vector is the model's output, through\n",
    "its final sigmoid activation for one of the rows of the XOR truth table.\n",
    "\n",
    "Now might be a good time to review the sigmoid function and logistic regression if the model's predictions on the four lines of the truth table feel hard to interpret after you've hit 100% training accuracy."
   ]
  },
  {
   "cell_type": "markdown",
   "metadata": {
    "nbgrader": {
     "grade": false,
     "locked": true,
     "solution": false
    }
   },
   "source": [
    "# Question 3:\n",
    "Explain the results of the predict() call above. How well did the trained model do on this problem?"
   ]
  },
  {
   "cell_type": "markdown",
   "metadata": {},
   "source": [
    "### Answer 3\n",
    "\n",
    "_TODO_ Fill this cell in with your answer.\n",
    "I haven't been able to get accuracy up to 1.0 or 100%. The maximum I can get is 0.75. But the 0.5 makes sense in terms of model not overfitting and knowing that XOR gate is not linearly separable. All my predictions are predicted as false. 2 are right and 2 are wrong (the first and the last)."
   ]
  },
  {
   "cell_type": "code",
   "execution_count": 17,
   "metadata": {},
   "outputs": [
    {
     "data": {
      "text/plain": [
       "array([0, 1, 1, 0])"
      ]
     },
     "execution_count": 17,
     "metadata": {},
     "output_type": "execute_result"
    }
   ],
   "source": [
    "# Let's clean up our outputs a bit...\n",
    "\n",
    "data_y # The labels of our training samples, i.e. the rows of XOR's truth table"
   ]
  },
  {
   "cell_type": "code",
   "execution_count": 18,
   "metadata": {},
   "outputs": [
    {
     "name": "stdout",
     "output_type": "stream",
     "text": [
      "[[False]\n",
      " [False]\n",
      " [False]\n",
      " [False]]\n"
     ]
    }
   ],
   "source": [
    "# Apply the threshold of 0.5 to the predictions of the model.\n",
    "#    Note the Python idiom below if you've either not seen it before,\n",
    "#    or if it has slipped your mind.\n",
    "#\n",
    "#    You can apply a boolean producing condition to a NumPy array\n",
    "#    to produce an array of the same shape, full of the boolean\n",
    "#    results of the test you used.\n",
    "booleanized_predictions = predictions > .5\n",
    "\n",
    "print(booleanized_predictions)"
   ]
  },
  {
   "cell_type": "markdown",
   "metadata": {
    "nbgrader": {
     "grade": false,
     "locked": true,
     "solution": false
    }
   },
   "source": [
    "# Question 4:\n",
    "Print the weights of both layers of the trained network below. HINT: model.layers gives a list of layers. layer.get_weights() returns layer weights."
   ]
  },
  {
   "cell_type": "code",
   "execution_count": 20,
   "metadata": {},
   "outputs": [
    {
     "data": {
      "text/plain": [
       "[array([[ 6.7885519e-13,  1.7377950e-12],\n",
       "        [-9.5739345e-13, -5.8048392e-12]], dtype=float32),\n",
       " array([ 0.174032  , -0.17904732], dtype=float32)]"
      ]
     },
     "execution_count": 20,
     "metadata": {},
     "output_type": "execute_result"
    }
   ],
   "source": [
    "model.layers[0].get_weights() # TODO: Get the weights for the 0-th layer of your model"
   ]
  },
  {
   "cell_type": "code",
   "execution_count": 21,
   "metadata": {},
   "outputs": [
    {
     "data": {
      "text/plain": [
       "[array([[-0.74651235],\n",
       "        [ 1.3095394 ]], dtype=float32),\n",
       " array([-0.1906547], dtype=float32)]"
      ]
     },
     "execution_count": 21,
     "metadata": {},
     "output_type": "execute_result"
    }
   ],
   "source": [
    "model.layers[1].get_weights() # TODO: Get the weights for the 1-st layer of your model"
   ]
  },
  {
   "cell_type": "code",
   "execution_count": null,
   "metadata": {},
   "outputs": [],
   "source": []
  }
 ],
 "metadata": {
  "kernelspec": {
   "display_name": "Python 3 (ipykernel)",
   "language": "python",
   "name": "python3"
  },
  "language_info": {
   "codemirror_mode": {
    "name": "ipython",
    "version": 3
   },
   "file_extension": ".py",
   "mimetype": "text/x-python",
   "name": "python",
   "nbconvert_exporter": "python",
   "pygments_lexer": "ipython3",
   "version": "3.8.9"
  }
 },
 "nbformat": 4,
 "nbformat_minor": 4
}
