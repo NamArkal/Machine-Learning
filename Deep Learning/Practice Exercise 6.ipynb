{
 "cells": [
  {
   "cell_type": "code",
   "execution_count": 1,
   "id": "0bf44eb5-6ac9-4dec-bb14-933c069c90f5",
   "metadata": {},
   "outputs": [],
   "source": [
    "from keras.models import Model\n",
    "from keras.layers import Input, LSTM, GRU\n",
    "import numpy as np"
   ]
  },
  {
   "cell_type": "code",
   "execution_count": 5,
   "id": "23f1c4ec-d012-4049-a4b3-d5716d74d059",
   "metadata": {},
   "outputs": [
    {
     "name": "stdout",
     "output_type": "stream",
     "text": [
      "[[[ 0.42617047  2.30064248]\n",
      "  [ 0.1203544   1.24432363]\n",
      "  [-0.64570541  0.46940303]\n",
      "  [ 0.81961845 -2.4221855 ]\n",
      "  [-0.4573022   0.1680888 ]\n",
      "  [-0.11746385 -0.3638399 ]\n",
      "  [ 0.58524095  0.86710422]\n",
      "  [ 0.19481456  0.92405435]]]\n",
      "(1, 8, 2)\n"
     ]
    }
   ],
   "source": [
    "timesteps = 8\n",
    "num_features = 2\n",
    "num_nodes = 3\n",
    "\n",
    "# Create some random data\n",
    "data = np.random.randn(1, timesteps, num_features)\n",
    "print(data)\n",
    "print(data.shape)"
   ]
  },
  {
   "cell_type": "markdown",
   "id": "b3f6ea1c-1eb2-4eed-a17f-557cf4d06277",
   "metadata": {},
   "source": [
    "Q1: What do the dimensions of the data represent? E.g., what do the 1st dimension, the 2nd, and the 3rd represent here?\n",
    "A1: 1 batch size, 8 time step samples, 2 features"
   ]
  },
  {
   "cell_type": "code",
   "execution_count": 6,
   "id": "d32bf451-5ac0-4266-97e1-740a0962b3df",
   "metadata": {},
   "outputs": [
    {
     "name": "stdout",
     "output_type": "stream",
     "text": [
      "1/1 [==============================] - 0s 338ms/step\n",
      "output: [[-0.06304687  0.10006328 -0.01493886]] dimensions: (1, 3)\n",
      "h: [[-0.06304687  0.10006328 -0.01493886]] dimensions: (1, 3)\n",
      "c: [[-0.13980696  0.21100064 -0.02947333]] dimensions: (1, 3)\n"
     ]
    }
   ],
   "source": [
    "inputs = Input(shape=(timesteps, num_features))\n",
    "rnn = LSTM(num_nodes, return_state=True, return_sequences=False)\n",
    "x = rnn(inputs)\n",
    "model = Model(inputs=inputs, outputs=x)\n",
    "output, h, c = model.predict(data)\n",
    "print(\"output:\", output, \"dimensions:\", output.shape)\n",
    "print(\"h:\", h, \"dimensions:\", h.shape)\n",
    "print(\"c:\", c, \"dimensions:\", c.shape)"
   ]
  },
  {
   "cell_type": "markdown",
   "id": "95315500-49e1-4f72-a629-22482219cc7e",
   "metadata": {},
   "source": [
    "Q2: What do these \"predict\" return values (output, h, and c) represent? Describe what they mean.\n",
    "A2: output is the predicted output at each node, h is the hidden state or the summary of the information learned at final time step and c is the cell state or information in the cell at final time step"
   ]
  },
  {
   "cell_type": "markdown",
   "id": "c7194003-a2f0-48f3-bb3e-9dfbd8815643",
   "metadata": {},
   "source": [
    "Q3: What are the dimensions of output, h, and c?\n",
    "A3: (1,3)"
   ]
  },
  {
   "cell_type": "markdown",
   "id": "cf45e826-eeb9-4d6d-9a29-930eb6841b4c",
   "metadata": {},
   "source": [
    "Q4: Is there any duplication among the values of (output, h, c)? If so, explain.\n",
    "A4: Output and hidden state have the same values because we don't have specific outputs that the network is training to learn. Instead we are considering the hidden state values as the output or predicted values."
   ]
  },
  {
   "cell_type": "code",
   "execution_count": 8,
   "id": "15c18b51-85b8-4633-8f25-59910fc0517d",
   "metadata": {},
   "outputs": [
    {
     "name": "stdout",
     "output_type": "stream",
     "text": [
      "1/1 [==============================] - 0s 331ms/step\n",
      "output: [[-0.01948409  0.20419614 -0.1382258 ]] dimensions: (1, 3)\n"
     ]
    }
   ],
   "source": [
    "inputs = Input(shape=(timesteps, num_features))\n",
    "rnn = LSTM(num_nodes, return_state=False, return_sequences=False)\n",
    "x = rnn(inputs)\n",
    "model = Model(inputs=inputs, outputs=x)\n",
    "output = model.predict(data)\n",
    "print(\"output:\", output, \"dimensions:\", output.shape)"
   ]
  },
  {
   "cell_type": "markdown",
   "id": "2ffefafd-0321-4e0e-90a2-e64752d522d5",
   "metadata": {},
   "source": [
    "Q5: Change the LSTM to use \"return_state=False\" and modify the code accordingly to avoid errors. What does the LSTM return now?\n",
    "A5: The hidden and cell states aren't returned, just the output."
   ]
  },
  {
   "cell_type": "code",
   "execution_count": 12,
   "id": "44434f67-fc80-47c3-84e8-4a0eb83cc934",
   "metadata": {},
   "outputs": [
    {
     "name": "stdout",
     "output_type": "stream",
     "text": [
      "1/1 [==============================] - 0s 327ms/step\n",
      "output: [[[-0.08331491  0.09349339 -0.04164696]\n",
      "  [-0.13099748  0.1851472  -0.04789009]\n",
      "  [-0.12819001  0.2980693  -0.06047511]\n",
      "  [ 0.07423662 -0.03120806  0.00975953]\n",
      "  [ 0.08014288  0.04498491 -0.01247792]\n",
      "  [ 0.0872453  -0.00790709 -0.00197999]\n",
      "  [ 0.03592693  0.02363204  0.00746143]\n",
      "  [-0.03782576  0.09020159 -0.00870624]]] dimensions: (1, 8, 3)\n",
      "h: [[-0.03782576  0.09020159 -0.00870624]] dimensions: (1, 3)\n",
      "c: [[-0.06392667  0.22244294 -0.01704968]] dimensions: (1, 3)\n"
     ]
    }
   ],
   "source": [
    "inputs = Input(shape=(timesteps, num_features))\n",
    "rnn = LSTM(num_nodes, return_state=True, return_sequences=True)\n",
    "x = rnn(inputs)\n",
    "model = Model(inputs=inputs, outputs=x)\n",
    "output,h,c = model.predict(data)\n",
    "print(\"output:\", output, \"dimensions:\", output.shape)\n",
    "print(\"h:\", h, \"dimensions:\", h.shape)\n",
    "print(\"c:\", c, \"dimensions:\", c.shape)"
   ]
  },
  {
   "cell_type": "markdown",
   "id": "d6c13786-7840-4358-9b82-46786b4763ac",
   "metadata": {},
   "source": [
    "Q6: Now, what are the dimensions of output, h, and c?\n",
    "A6: (1,8,3) for output, (1,3) for hidden state and (1,3) for cell state"
   ]
  },
  {
   "cell_type": "markdown",
   "id": "eb0b1846-3fa2-44ec-ab86-f05feefdc607",
   "metadata": {},
   "source": [
    "Q7: What does the output variable represent now? Explain the dimensions of the returned matrix (e.g., what does the 1st dimension represent? What does the 2nd represent? The 3rd? etc.)\n",
    "A7: The predictions across all 8 time steps for 1 batch and 3 nodes in the single layer RNN"
   ]
  },
  {
   "cell_type": "code",
   "execution_count": 14,
   "id": "f5937b2b-6cee-4662-92a8-1e0f4376e6e9",
   "metadata": {},
   "outputs": [
    {
     "name": "stdout",
     "output_type": "stream",
     "text": [
      "1/1 [==============================] - 0s 345ms/step\n",
      "o: [[ 0.13488288 -0.35273033  0.31479627]] dimensions: (1, 3)\n",
      "h: [[ 0.13488288 -0.35273033  0.31479627]] dimensions: (1, 3)\n"
     ]
    }
   ],
   "source": [
    "inputs = Input(shape=(timesteps, num_features))\n",
    "rnn = GRU(num_nodes, return_state=True)\n",
    "x = rnn(inputs)\n",
    "model = Model(inputs=inputs, outputs=x)\n",
    "output, h = model.predict(data)\n",
    "print(\"o:\", output, \"dimensions:\", output.shape)\n",
    "print(\"h:\", h, \"dimensions:\", h.shape)"
   ]
  },
  {
   "cell_type": "markdown",
   "id": "38743c99-0c21-4a38-8e33-09218107b394",
   "metadata": {},
   "source": [
    "Q8: What happened to the variable \"c\"? Why does the GRU only return a tuple of 2 values as opposed to 3?\n",
    "A8: GRUs don't have a separate cell state.\n",
    "\n",
    "Q9: What are the dimension of output and h?\n",
    "A9: (1,3)\n",
    "\n",
    "Q10: Is there any duplication between the values of output and h? If so, explain.\n",
    "A10: Output and hidden state have the same values because we don't have specific outputs that the network is training to learn. Instead we are considering the hidden state values as the output or predicted values."
   ]
  },
  {
   "cell_type": "code",
   "execution_count": 15,
   "id": "3fbb62ac-1031-4513-ad02-eb03685f39bf",
   "metadata": {},
   "outputs": [
    {
     "name": "stdout",
     "output_type": "stream",
     "text": [
      "1/1 [==============================] - 0s 307ms/step\n",
      "o: [[[ 0.5338172   0.12903047 -0.35914803]\n",
      "  [ 0.5023333   0.18508166 -0.47603512]\n",
      "  [ 0.5234302   0.32511708 -0.31396922]\n",
      "  [ 0.14841181 -0.5738381   0.1537786 ]\n",
      "  [ 0.18573833 -0.15820807  0.11780378]\n",
      "  [ 0.0477335  -0.11498538  0.13743234]\n",
      "  [ 0.03314649 -0.15249561 -0.23270506]\n",
      "  [ 0.1755483  -0.0050875  -0.34945416]]] dimensions: (1, 8, 3)\n",
      "h: [[ 0.1755483  -0.0050875  -0.34945416]] dimensions: (1, 3)\n"
     ]
    }
   ],
   "source": [
    "inputs = Input(shape=(timesteps, num_features))\n",
    "rnn = GRU(num_nodes, return_state=True, return_sequences=True)\n",
    "x = rnn(inputs)\n",
    "model = Model(inputs=inputs, outputs=x)\n",
    "output, h = model.predict(data)\n",
    "print(\"o:\", output, \"dimensions:\", output.shape)\n",
    "print(\"h:\", h, \"dimensions:\", h.shape)"
   ]
  },
  {
   "cell_type": "markdown",
   "id": "275a22da-e016-4db6-b25c-8ac22388519c",
   "metadata": {},
   "source": [
    "Q11: Now, what are the dimensions of output and h?\n",
    "A11: (1,8,3) for output and (1,3) for hidden state\n",
    "\n",
    "Q12: Is there any duplication within the values of output and h? If so, explain.\n",
    "A12: The final row in the output is the summarized hidden state."
   ]
  },
  {
   "cell_type": "code",
   "execution_count": null,
   "id": "59ad811a-b7b1-4faf-bd4a-237cfdc243ab",
   "metadata": {},
   "outputs": [],
   "source": []
  }
 ],
 "metadata": {
  "kernelspec": {
   "display_name": "Python [conda env:narkal-tf] *",
   "language": "python",
   "name": "conda-env-narkal-tf-py"
  },
  "language_info": {
   "codemirror_mode": {
    "name": "ipython",
    "version": 3
   },
   "file_extension": ".py",
   "mimetype": "text/x-python",
   "name": "python",
   "nbconvert_exporter": "python",
   "pygments_lexer": "ipython3",
   "version": "3.9.17"
  }
 },
 "nbformat": 4,
 "nbformat_minor": 5
}
