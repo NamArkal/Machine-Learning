{
 "cells": [
  {
   "cell_type": "markdown",
   "metadata": {},
   "source": [
    "Social network advertising, also social media targeting, is a group of terms that are used to describe forms of online advertising/digital marketing that focus on social networking services. One of the major benefits of this type of advertising is that advertisers can take advantage of the users' demographic information and target their ads appropriately.\n",
    "\n",
    "Social media targeting combines current targeting options (such as geotargeting, behavioral targeting, socio-psychographic targeting, etc.), to make detailed target group identification possible. With social media targeting, advertisements are distributed to users based on information gathered from target group profiles.\n",
    "\n",
    "Social network advertising is not necessarily the same as social media targeting. Social media targeting is a method of optimizing social media advertising by using profile data to deliver advertisements directly to individual users. Social network advertising refers to the process of matching social network users to target groups that have been specified by the advertiser. Social media advertising involves creating content on social media platforms, engaging with followers, and running social media advertisements.\n",
    "\n",
    "Source: [Wikipedia](https://en.wikipedia.org/wiki/Social_network_advertising)"
   ]
  },
  {
   "cell_type": "markdown",
   "metadata": {},
   "source": [
    "For this assignment, we will take a look at how Social Network pick who to advertise using k-Nearest Neighbor algorithm. We will leverage the [Social Network Ads dataset](https://www.kaggle.com/rakeshrau/social-network-ads)."
   ]
  },
  {
   "cell_type": "markdown",
   "metadata": {},
   "source": [
    "First, let's import the data"
   ]
  },
  {
   "cell_type": "markdown",
   "metadata": {},
   "source": [
    "# Learning Objectives\n",
    "- Define basic terminology of machine learning.\n",
    "- Describe a typical machine learning modeling process.\n",
    "- Demonstrate the ability to use K-Nearest Neighbor algorithm.\n",
    "- Demonstrate the ability to tweak K-Nearest Neighbor algorithm.\n",
    "- Demonstrate the ability to determine the accuracy of a model."
   ]
  },
  {
   "cell_type": "code",
   "execution_count": 1,
   "metadata": {},
   "outputs": [],
   "source": [
    "import numpy as np\n",
    "import pandas as pd\n",
    "\n",
    "SNA = pd.read_csv('./Social_Network_Ads.csv')"
   ]
  },
  {
   "cell_type": "markdown",
   "metadata": {},
   "source": [
    "Question 1: Print the top 10 rows of the dataset"
   ]
  },
  {
   "cell_type": "code",
   "execution_count": 2,
   "metadata": {},
   "outputs": [
    {
     "data": {
      "text/html": [
       "<div>\n",
       "<style scoped>\n",
       "    .dataframe tbody tr th:only-of-type {\n",
       "        vertical-align: middle;\n",
       "    }\n",
       "\n",
       "    .dataframe tbody tr th {\n",
       "        vertical-align: top;\n",
       "    }\n",
       "\n",
       "    .dataframe thead th {\n",
       "        text-align: right;\n",
       "    }\n",
       "</style>\n",
       "<table border=\"1\" class=\"dataframe\">\n",
       "  <thead>\n",
       "    <tr style=\"text-align: right;\">\n",
       "      <th></th>\n",
       "      <th>User ID</th>\n",
       "      <th>Gender</th>\n",
       "      <th>Age</th>\n",
       "      <th>EstimatedSalary</th>\n",
       "      <th>Purchased</th>\n",
       "    </tr>\n",
       "  </thead>\n",
       "  <tbody>\n",
       "    <tr>\n",
       "      <th>0</th>\n",
       "      <td>15624510</td>\n",
       "      <td>Male</td>\n",
       "      <td>19</td>\n",
       "      <td>19000</td>\n",
       "      <td>0</td>\n",
       "    </tr>\n",
       "    <tr>\n",
       "      <th>1</th>\n",
       "      <td>15810944</td>\n",
       "      <td>Male</td>\n",
       "      <td>35</td>\n",
       "      <td>20000</td>\n",
       "      <td>0</td>\n",
       "    </tr>\n",
       "    <tr>\n",
       "      <th>2</th>\n",
       "      <td>15668575</td>\n",
       "      <td>Female</td>\n",
       "      <td>26</td>\n",
       "      <td>43000</td>\n",
       "      <td>0</td>\n",
       "    </tr>\n",
       "    <tr>\n",
       "      <th>3</th>\n",
       "      <td>15603246</td>\n",
       "      <td>Female</td>\n",
       "      <td>27</td>\n",
       "      <td>57000</td>\n",
       "      <td>0</td>\n",
       "    </tr>\n",
       "    <tr>\n",
       "      <th>4</th>\n",
       "      <td>15804002</td>\n",
       "      <td>Male</td>\n",
       "      <td>19</td>\n",
       "      <td>76000</td>\n",
       "      <td>0</td>\n",
       "    </tr>\n",
       "    <tr>\n",
       "      <th>5</th>\n",
       "      <td>15728773</td>\n",
       "      <td>Male</td>\n",
       "      <td>27</td>\n",
       "      <td>58000</td>\n",
       "      <td>0</td>\n",
       "    </tr>\n",
       "    <tr>\n",
       "      <th>6</th>\n",
       "      <td>15598044</td>\n",
       "      <td>Female</td>\n",
       "      <td>27</td>\n",
       "      <td>84000</td>\n",
       "      <td>0</td>\n",
       "    </tr>\n",
       "    <tr>\n",
       "      <th>7</th>\n",
       "      <td>15694829</td>\n",
       "      <td>Female</td>\n",
       "      <td>32</td>\n",
       "      <td>150000</td>\n",
       "      <td>1</td>\n",
       "    </tr>\n",
       "    <tr>\n",
       "      <th>8</th>\n",
       "      <td>15600575</td>\n",
       "      <td>Male</td>\n",
       "      <td>25</td>\n",
       "      <td>33000</td>\n",
       "      <td>0</td>\n",
       "    </tr>\n",
       "    <tr>\n",
       "      <th>9</th>\n",
       "      <td>15727311</td>\n",
       "      <td>Female</td>\n",
       "      <td>35</td>\n",
       "      <td>65000</td>\n",
       "      <td>0</td>\n",
       "    </tr>\n",
       "  </tbody>\n",
       "</table>\n",
       "</div>"
      ],
      "text/plain": [
       "    User ID  Gender  Age  EstimatedSalary  Purchased\n",
       "0  15624510    Male   19            19000          0\n",
       "1  15810944    Male   35            20000          0\n",
       "2  15668575  Female   26            43000          0\n",
       "3  15603246  Female   27            57000          0\n",
       "4  15804002    Male   19            76000          0\n",
       "5  15728773    Male   27            58000          0\n",
       "6  15598044  Female   27            84000          0\n",
       "7  15694829  Female   32           150000          1\n",
       "8  15600575    Male   25            33000          0\n",
       "9  15727311  Female   35            65000          0"
      ]
     },
     "execution_count": 2,
     "metadata": {},
     "output_type": "execute_result"
    }
   ],
   "source": [
    "SNA.head(10)"
   ]
  },
  {
   "cell_type": "markdown",
   "metadata": {},
   "source": [
    "Question 1.2: Drop the User Id column from the SNA dataframe using [drop](https://pandas.pydata.org/docs/reference/api/pandas.DataFrame.drop.html) method"
   ]
  },
  {
   "cell_type": "code",
   "execution_count": 3,
   "metadata": {},
   "outputs": [],
   "source": [
    "SNA.drop(labels='User ID', axis=1, inplace=True)"
   ]
  },
  {
   "cell_type": "markdown",
   "metadata": {},
   "source": [
    "Question 2.1: Within the Gender column, replace the text Male and Female with 0 and 1 respectively. You can use [replace](https://pandas.pydata.org/pandas-docs/stable/reference/api/pandas.DataFrame.replace.html) method."
   ]
  },
  {
   "cell_type": "code",
   "execution_count": 4,
   "metadata": {},
   "outputs": [],
   "source": [
    "SNA_edited = SNA.replace(to_replace='Male', value=0)\n",
    "SNA_edited = SNA_edited.replace(to_replace='Female', value=1)"
   ]
  },
  {
   "cell_type": "markdown",
   "metadata": {},
   "source": [
    "Question 2.2: Check if successful by printing top 10 rows"
   ]
  },
  {
   "cell_type": "code",
   "execution_count": 5,
   "metadata": {},
   "outputs": [
    {
     "data": {
      "text/html": [
       "<div>\n",
       "<style scoped>\n",
       "    .dataframe tbody tr th:only-of-type {\n",
       "        vertical-align: middle;\n",
       "    }\n",
       "\n",
       "    .dataframe tbody tr th {\n",
       "        vertical-align: top;\n",
       "    }\n",
       "\n",
       "    .dataframe thead th {\n",
       "        text-align: right;\n",
       "    }\n",
       "</style>\n",
       "<table border=\"1\" class=\"dataframe\">\n",
       "  <thead>\n",
       "    <tr style=\"text-align: right;\">\n",
       "      <th></th>\n",
       "      <th>Gender</th>\n",
       "      <th>Age</th>\n",
       "      <th>EstimatedSalary</th>\n",
       "      <th>Purchased</th>\n",
       "    </tr>\n",
       "  </thead>\n",
       "  <tbody>\n",
       "    <tr>\n",
       "      <th>0</th>\n",
       "      <td>0</td>\n",
       "      <td>19</td>\n",
       "      <td>19000</td>\n",
       "      <td>0</td>\n",
       "    </tr>\n",
       "    <tr>\n",
       "      <th>1</th>\n",
       "      <td>0</td>\n",
       "      <td>35</td>\n",
       "      <td>20000</td>\n",
       "      <td>0</td>\n",
       "    </tr>\n",
       "    <tr>\n",
       "      <th>2</th>\n",
       "      <td>1</td>\n",
       "      <td>26</td>\n",
       "      <td>43000</td>\n",
       "      <td>0</td>\n",
       "    </tr>\n",
       "    <tr>\n",
       "      <th>3</th>\n",
       "      <td>1</td>\n",
       "      <td>27</td>\n",
       "      <td>57000</td>\n",
       "      <td>0</td>\n",
       "    </tr>\n",
       "    <tr>\n",
       "      <th>4</th>\n",
       "      <td>0</td>\n",
       "      <td>19</td>\n",
       "      <td>76000</td>\n",
       "      <td>0</td>\n",
       "    </tr>\n",
       "    <tr>\n",
       "      <th>5</th>\n",
       "      <td>0</td>\n",
       "      <td>27</td>\n",
       "      <td>58000</td>\n",
       "      <td>0</td>\n",
       "    </tr>\n",
       "    <tr>\n",
       "      <th>6</th>\n",
       "      <td>1</td>\n",
       "      <td>27</td>\n",
       "      <td>84000</td>\n",
       "      <td>0</td>\n",
       "    </tr>\n",
       "    <tr>\n",
       "      <th>7</th>\n",
       "      <td>1</td>\n",
       "      <td>32</td>\n",
       "      <td>150000</td>\n",
       "      <td>1</td>\n",
       "    </tr>\n",
       "    <tr>\n",
       "      <th>8</th>\n",
       "      <td>0</td>\n",
       "      <td>25</td>\n",
       "      <td>33000</td>\n",
       "      <td>0</td>\n",
       "    </tr>\n",
       "    <tr>\n",
       "      <th>9</th>\n",
       "      <td>1</td>\n",
       "      <td>35</td>\n",
       "      <td>65000</td>\n",
       "      <td>0</td>\n",
       "    </tr>\n",
       "  </tbody>\n",
       "</table>\n",
       "</div>"
      ],
      "text/plain": [
       "   Gender  Age  EstimatedSalary  Purchased\n",
       "0       0   19            19000          0\n",
       "1       0   35            20000          0\n",
       "2       1   26            43000          0\n",
       "3       1   27            57000          0\n",
       "4       0   19            76000          0\n",
       "5       0   27            58000          0\n",
       "6       1   27            84000          0\n",
       "7       1   32           150000          1\n",
       "8       0   25            33000          0\n",
       "9       1   35            65000          0"
      ]
     },
     "execution_count": 5,
     "metadata": {},
     "output_type": "execute_result"
    }
   ],
   "source": [
    "SNA_edited.head(10)"
   ]
  },
  {
   "cell_type": "markdown",
   "metadata": {},
   "source": [
    "As part of any machine learning problem, we need to explore the data and perform exploratory data analysis. For the next set of questions, we will be using [seaborn](https://seaborn.pydata.org/index.html) library for visualization."
   ]
  },
  {
   "cell_type": "markdown",
   "metadata": {},
   "source": [
    "Question 3.1: Using Seaboard [scatterplot](https://seaborn.pydata.org/generated/seaborn.scatterplot.html), create three pairwise scatter plots using Purchased column as hue for the following pairs:\n",
    "1. Age & EstimatedSalary\n",
    "2. Age & Gender\n",
    "3. Gender & EstimatedSalary"
   ]
  },
  {
   "cell_type": "code",
   "execution_count": 35,
   "metadata": {},
   "outputs": [
    {
     "data": {
      "text/plain": [
       "<AxesSubplot:xlabel='Age', ylabel='EstimatedSalary'>"
      ]
     },
     "execution_count": 35,
     "metadata": {},
     "output_type": "execute_result"
    },
    {
     "data": {
      "image/png": "[encoded data removed]",
      "text/plain": [
       "<Figure size 432x288 with 1 Axes>"
      ]
     },
     "metadata": {
      "needs_background": "light"
     },
     "output_type": "display_data"
    }
   ],
   "source": [
    "import seaborn as sns\n",
    "\n",
    "sns.scatterplot(data=SNA_edited, x=\"Age\", y=\"EstimatedSalary\", hue=\"Purchased\")\n"
   ]
  },
  {
   "cell_type": "code",
   "execution_count": 36,
   "metadata": {},
   "outputs": [
    {
     "data": {
      "text/plain": [
       "<AxesSubplot:xlabel='Gender', ylabel='EstimatedSalary'>"
      ]
     },
     "execution_count": 36,
     "metadata": {},
     "output_type": "execute_result"
    },
    {
     "data": {
      "image/png": "[encoded data removed]",
      "text/plain": [
       "<Figure size 432x288 with 1 Axes>"
      ]
     },
     "metadata": {
      "needs_background": "light"
     },
     "output_type": "display_data"
    }
   ],
   "source": [
    "sns.scatterplot(data=SNA_edited, x=\"Gender\", y=\"EstimatedSalary\", hue=\"Purchased\")\n"
   ]
  },
  {
   "cell_type": "code",
   "execution_count": 37,
   "metadata": {},
   "outputs": [
    {
     "data": {
      "text/plain": [
       "<AxesSubplot:xlabel='Age', ylabel='Gender'>"
      ]
     },
     "execution_count": 37,
     "metadata": {},
     "output_type": "execute_result"
    },
    {
     "data": {
      "image/png": "[encoded data removed]",
      "text/plain": [
       "<Figure size 432x288 with 1 Axes>"
      ]
     },
     "metadata": {
      "needs_background": "light"
     },
     "output_type": "display_data"
    }
   ],
   "source": [
    "sns.scatterplot(data=SNA_edited, x=\"Age\", y=\"Gender\", hue=\"Purchased\")\n"
   ]
  },
  {
   "cell_type": "markdown",
   "metadata": {},
   "source": [
    "Question 3.2: Based on the above plots, which feature(s) can be best used to determine if a person will purchase an item based on Ad? "
   ]
  },
  {
   "cell_type": "markdown",
   "metadata": {},
   "source": [
    "Age & EstimatedSalary"
   ]
  },
  {
   "cell_type": "markdown",
   "metadata": {},
   "source": [
    "Question 3.3: Use histogram plots to validate your answer. Set the Hue to be 'Purchased'"
   ]
  },
  {
   "cell_type": "code",
   "execution_count": 38,
   "metadata": {},
   "outputs": [
    {
     "data": {
      "text/plain": [
       "<AxesSubplot:xlabel='Age', ylabel='Count'>"
      ]
     },
     "execution_count": 38,
     "metadata": {},
     "output_type": "execute_result"
    },
    {
     "data": {
      "image/png": "[encoded data removed]",
      "text/plain": [
       "<Figure size 432x288 with 1 Axes>"
      ]
     },
     "metadata": {
      "needs_background": "light"
     },
     "output_type": "display_data"
    }
   ],
   "source": [
    "sns.histplot(data=SNA_edited, x='Age',hue='Purchased')"
   ]
  },
  {
   "cell_type": "code",
   "execution_count": 39,
   "metadata": {},
   "outputs": [
    {
     "data": {
      "text/plain": [
       "<AxesSubplot:xlabel='Gender', ylabel='Count'>"
      ]
     },
     "execution_count": 39,
     "metadata": {},
     "output_type": "execute_result"
    },
    {
     "data": {
      "image/png": "[encoded data removed]",
      "text/plain": [
       "<Figure size 432x288 with 1 Axes>"
      ]
     },
     "metadata": {
      "needs_background": "light"
     },
     "output_type": "display_data"
    }
   ],
   "source": [
    "sns.histplot(data=SNA_edited, x='Gender',hue='Purchased')"
   ]
  },
  {
   "cell_type": "code",
   "execution_count": 40,
   "metadata": {},
   "outputs": [
    {
     "data": {
      "text/plain": [
       "<AxesSubplot:xlabel='EstimatedSalary', ylabel='Count'>"
      ]
     },
     "execution_count": 40,
     "metadata": {},
     "output_type": "execute_result"
    },
    {
     "data": {
      "image/png": "[encoded data removed]",
      "text/plain": [
       "<Figure size 432x288 with 1 Axes>"
      ]
     },
     "metadata": {
      "needs_background": "light"
     },
     "output_type": "display_data"
    }
   ],
   "source": [
    "sns.histplot(data=SNA_edited, x='EstimatedSalary',hue='Purchased')"
   ]
  },
  {
   "cell_type": "markdown",
   "metadata": {},
   "source": [
    "Question 4: Now that we have performed data exploration, lets experiment with k-NN algorithm. But first, we need to split the data into training and testing set. To perform this task, you can use [train_test_split](https://scikit-learn.org/stable/modules/generated/sklearn.model_selection.train_test_split.html) to create a 70/30 split for training and test data respectively."
   ]
  },
  {
   "cell_type": "code",
   "execution_count": 6,
   "metadata": {},
   "outputs": [],
   "source": [
    "from sklearn.model_selection import train_test_split\n",
    "\n",
    "# first split the dataset into its attributes and labels\n",
    "X = SNA_edited.iloc[:, :-1].values  \n",
    "y = SNA_edited.iloc[:, 3].values  \n",
    "\n",
    "X_train, X_test, y_train, y_test = train_test_split(X, y, test_size=.3)"
   ]
  },
  {
   "cell_type": "markdown",
   "metadata": {},
   "source": [
    "Question 5.1: Using [KNeighborsClassifier](https://scikit-learn.org/stable/modules/generated/sklearn.neighbors.KNeighborsClassifier.html), write a k-NN classifier with n=2"
   ]
  },
  {
   "cell_type": "code",
   "execution_count": 7,
   "metadata": {},
   "outputs": [],
   "source": [
    "from sklearn.neighbors import KNeighborsClassifier\n",
    "\n",
    "# Instantiate learning model (k = 2)\n",
    "clf = KNeighborsClassifier(n_neighbors=2)\n",
    "\n",
    "# Fitting the model\n",
    "clf.fit(X=X_train,y=y_train)\n",
    "\n",
    "# Predicting the Test set results\n",
    "y_pred = clf.predict(X=X_test)"
   ]
  },
  {
   "cell_type": "markdown",
   "metadata": {},
   "source": [
    "Using [classification_report](https://scikit-learn.org/stable/modules/generated/sklearn.metrics.classification_report.html), [confusion_matrix](https://scikit-learn.org/stable/modules/generated/sklearn.metrics.confusion_matrix.html), [accuracy_score](https://scikit-learn.org/stable/modules/generated/sklearn.metrics.accuracy_score.html), evaluate and print the classifier output"
   ]
  },
  {
   "cell_type": "code",
   "execution_count": 8,
   "metadata": {},
   "outputs": [
    {
     "name": "stdout",
     "output_type": "stream",
     "text": [
      "[[73  8]\n",
      " [15 24]]\n",
      "              precision    recall  f1-score   support\n",
      "\n",
      "           0       0.83      0.90      0.86        81\n",
      "           1       0.75      0.62      0.68        39\n",
      "\n",
      "    accuracy                           0.81       120\n",
      "   macro avg       0.79      0.76      0.77       120\n",
      "weighted avg       0.80      0.81      0.80       120\n",
      "\n",
      "0.8083333333333333\n"
     ]
    }
   ],
   "source": [
    "from sklearn.metrics import classification_report, confusion_matrix, accuracy_score  \n",
    "\n",
    "print(confusion_matrix(y_test, y_pred))  \n",
    "print(classification_report(y_test, y_pred))\n",
    "print(accuracy_score(y_test, y_pred))"
   ]
  },
  {
   "cell_type": "markdown",
   "metadata": {},
   "source": [
    "Question 5.2: What happens when you increase the value of k from 2 to 10. Iterate over k from 2 to 10, build and evaluate the different KNeighborsClassifier"
   ]
  },
  {
   "cell_type": "code",
   "execution_count": 9,
   "metadata": {},
   "outputs": [
    {
     "name": "stdout",
     "output_type": "stream",
     "text": [
      "K value is  2\n",
      "[[73  8]\n",
      " [15 24]]\n",
      "              precision    recall  f1-score   support\n",
      "\n",
      "           0       0.83      0.90      0.86        81\n",
      "           1       0.75      0.62      0.68        39\n",
      "\n",
      "    accuracy                           0.81       120\n",
      "   macro avg       0.79      0.76      0.77       120\n",
      "weighted avg       0.80      0.81      0.80       120\n",
      "\n",
      "0.8083333333333333\n",
      "K value is  3\n",
      "[[68 13]\n",
      " [ 8 31]]\n",
      "              precision    recall  f1-score   support\n",
      "\n",
      "           0       0.89      0.84      0.87        81\n",
      "           1       0.70      0.79      0.75        39\n",
      "\n",
      "    accuracy                           0.82       120\n",
      "   macro avg       0.80      0.82      0.81       120\n",
      "weighted avg       0.83      0.82      0.83       120\n",
      "\n",
      "0.825\n",
      "K value is  4\n",
      "[[73  8]\n",
      " [ 9 30]]\n",
      "              precision    recall  f1-score   support\n",
      "\n",
      "           0       0.89      0.90      0.90        81\n",
      "           1       0.79      0.77      0.78        39\n",
      "\n",
      "    accuracy                           0.86       120\n",
      "   macro avg       0.84      0.84      0.84       120\n",
      "weighted avg       0.86      0.86      0.86       120\n",
      "\n",
      "0.8583333333333333\n",
      "K value is  5\n",
      "[[72  9]\n",
      " [ 7 32]]\n",
      "              precision    recall  f1-score   support\n",
      "\n",
      "           0       0.91      0.89      0.90        81\n",
      "           1       0.78      0.82      0.80        39\n",
      "\n",
      "    accuracy                           0.87       120\n",
      "   macro avg       0.85      0.85      0.85       120\n",
      "weighted avg       0.87      0.87      0.87       120\n",
      "\n",
      "0.8666666666666667\n",
      "K value is  6\n",
      "[[73  8]\n",
      " [10 29]]\n",
      "              precision    recall  f1-score   support\n",
      "\n",
      "           0       0.88      0.90      0.89        81\n",
      "           1       0.78      0.74      0.76        39\n",
      "\n",
      "    accuracy                           0.85       120\n",
      "   macro avg       0.83      0.82      0.83       120\n",
      "weighted avg       0.85      0.85      0.85       120\n",
      "\n",
      "0.85\n",
      "K value is  7\n",
      "[[70 11]\n",
      " [ 8 31]]\n",
      "              precision    recall  f1-score   support\n",
      "\n",
      "           0       0.90      0.86      0.88        81\n",
      "           1       0.74      0.79      0.77        39\n",
      "\n",
      "    accuracy                           0.84       120\n",
      "   macro avg       0.82      0.83      0.82       120\n",
      "weighted avg       0.85      0.84      0.84       120\n",
      "\n",
      "0.8416666666666667\n",
      "K value is  8\n",
      "[[73  8]\n",
      " [11 28]]\n",
      "              precision    recall  f1-score   support\n",
      "\n",
      "           0       0.87      0.90      0.88        81\n",
      "           1       0.78      0.72      0.75        39\n",
      "\n",
      "    accuracy                           0.84       120\n",
      "   macro avg       0.82      0.81      0.82       120\n",
      "weighted avg       0.84      0.84      0.84       120\n",
      "\n",
      "0.8416666666666667\n",
      "K value is  9\n",
      "[[72  9]\n",
      " [ 9 30]]\n",
      "              precision    recall  f1-score   support\n",
      "\n",
      "           0       0.89      0.89      0.89        81\n",
      "           1       0.77      0.77      0.77        39\n",
      "\n",
      "    accuracy                           0.85       120\n",
      "   macro avg       0.83      0.83      0.83       120\n",
      "weighted avg       0.85      0.85      0.85       120\n",
      "\n",
      "0.85\n",
      "K value is  10\n",
      "[[73  8]\n",
      " [12 27]]\n",
      "              precision    recall  f1-score   support\n",
      "\n",
      "           0       0.86      0.90      0.88        81\n",
      "           1       0.77      0.69      0.73        39\n",
      "\n",
      "    accuracy                           0.83       120\n",
      "   macro avg       0.82      0.80      0.80       120\n",
      "weighted avg       0.83      0.83      0.83       120\n",
      "\n",
      "0.8333333333333334\n"
     ]
    }
   ],
   "source": [
    "for k in range(2,11):\n",
    "    print('K value is ',k)\n",
    "    clf = KNeighborsClassifier(n_neighbors=k)\n",
    "\n",
    "    # Fitting the model\n",
    "    clf.fit(X=X_train,y=y_train)\n",
    "\n",
    "    # Predicting the Test set results\n",
    "    y_pred = clf.predict(X=X_test)\n",
    "    \n",
    "    print(confusion_matrix(y_test, y_pred))  \n",
    "    print(classification_report(y_test, y_pred))\n",
    "    print(accuracy_score(y_test, y_pred))"
   ]
  },
  {
   "cell_type": "markdown",
   "metadata": {},
   "source": [
    "Question 5.3: What happened to the accuracy of the classifier at k>9 and why?"
   ]
  },
  {
   "cell_type": "markdown",
   "metadata": {},
   "source": [
    "Accuracy decreased due to overfitting"
   ]
  },
  {
   "cell_type": "markdown",
   "metadata": {},
   "source": [
    "Question 6.1: Now try eliminating one of the features (Eender) from the dataset"
   ]
  },
  {
   "cell_type": "code",
   "execution_count": 10,
   "metadata": {},
   "outputs": [
    {
     "name": "stdout",
     "output_type": "stream",
     "text": [
      "[[    32 135000]\n",
      " [    25  33000]\n",
      " [    18  52000]\n",
      " [    52  90000]\n",
      " [    37  80000]\n",
      " [    38  50000]\n",
      " [    27  17000]\n",
      " [    21  16000]\n",
      " [    42  65000]\n",
      " [    40  61000]\n",
      " [    35  72000]\n",
      " [    35  50000]\n",
      " [    33  41000]\n",
      " [    29  75000]\n",
      " [    24  55000]\n",
      " [    45  45000]\n",
      " [    45  22000]\n",
      " [    20  23000]\n",
      " [    41  87000]\n",
      " [    37  72000]\n",
      " [    26  17000]\n",
      " [    60 102000]\n",
      " [    60  46000]\n",
      " [    35  20000]\n",
      " [    26  84000]\n",
      " [    40  57000]\n",
      " [    20  82000]\n",
      " [    19  19000]\n",
      " [    54 108000]\n",
      " [    24  32000]\n",
      " [    49  36000]\n",
      " [    26  30000]\n",
      " [    39  42000]\n",
      " [    54 104000]\n",
      " [    46  41000]\n",
      " [    60  34000]\n",
      " [    24  89000]\n",
      " [    31  15000]\n",
      " [    38  61000]\n",
      " [    23  82000]\n",
      " [    35  25000]\n",
      " [    40  47000]\n",
      " [    42  73000]\n",
      " [    51 146000]\n",
      " [    41  51000]\n",
      " [    47 107000]\n",
      " [    30  62000]\n",
      " [    33  69000]\n",
      " [    36  75000]\n",
      " [    31  68000]\n",
      " [    26  86000]\n",
      " [    46  22000]\n",
      " [    37  79000]\n",
      " [    59 130000]\n",
      " [    49  39000]\n",
      " [    30  80000]\n",
      " [    21  68000]\n",
      " [    37  52000]\n",
      " [    27  57000]\n",
      " [    29  83000]\n",
      " [    19  21000]\n",
      " [    47  25000]\n",
      " [    26  35000]\n",
      " [    39  61000]\n",
      " [    42  80000]\n",
      " [    50  20000]\n",
      " [    42 104000]\n",
      " [    35  38000]\n",
      " [    46  82000]\n",
      " [    35  55000]\n",
      " [    57  33000]\n",
      " [    37 146000]\n",
      " [    58  47000]\n",
      " [    24  19000]\n",
      " [    57  60000]\n",
      " [    28  55000]\n",
      " [    41  72000]\n",
      " [    19  25000]\n",
      " [    39 122000]\n",
      " [    19  85000]\n",
      " [    49  89000]\n",
      " [    23  20000]\n",
      " [    38 112000]\n",
      " [    33  28000]\n",
      " [    36  52000]\n",
      " [    36  33000]\n",
      " [    56  60000]\n",
      " [    40  75000]\n",
      " [    50  36000]\n",
      " [    36  50000]\n",
      " [    25  90000]\n",
      " [    35  27000]\n",
      " [    38 113000]\n",
      " [    38  80000]\n",
      " [    32 117000]\n",
      " [    42  80000]\n",
      " [    47  47000]\n",
      " [    32 150000]\n",
      " [    37  71000]\n",
      " [    40  78000]\n",
      " [    35 147000]\n",
      " [    41  59000]\n",
      " [    32  86000]\n",
      " [    49  86000]\n",
      " [    42  70000]\n",
      " [    34 112000]\n",
      " [    59  42000]\n",
      " [    46  59000]\n",
      " [    53  72000]\n",
      " [    19  70000]\n",
      " [    30  49000]\n",
      " [    23  66000]\n",
      " [    48  96000]\n",
      " [    50  88000]\n",
      " [    35  75000]\n",
      " [    38  50000]\n",
      " [    45  26000]\n",
      " [    48  74000]\n",
      " [    54  70000]\n",
      " [    27  89000]\n",
      " [    39  77000]\n",
      " [    34  25000]\n",
      " [    21  88000]\n",
      " [    40 142000]\n",
      " [    59 143000]\n",
      " [    47  51000]\n",
      " [    58 101000]\n",
      " [    45 131000]\n",
      " [    47 113000]\n",
      " [    48  33000]\n",
      " [    59  88000]\n",
      " [    39  79000]\n",
      " [    35  61000]\n",
      " [    41  80000]\n",
      " [    44 139000]\n",
      " [    35  60000]\n",
      " [    28  79000]\n",
      " [    28  87000]\n",
      " [    37  80000]\n",
      " [    46  79000]\n",
      " [    43 129000]\n",
      " [    42  53000]\n",
      " [    35  79000]\n",
      " [    31  74000]\n",
      " [    36  99000]\n",
      " [    47  50000]\n",
      " [    45  79000]\n",
      " [    36 118000]\n",
      " [    48  29000]\n",
      " [    40  57000]\n",
      " [    31  18000]\n",
      " [    31  66000]\n",
      " [    26  43000]\n",
      " [    36  54000]\n",
      " [    30 135000]\n",
      " [    39 134000]\n",
      " [    37  70000]\n",
      " [    23  28000]\n",
      " [    38  71000]\n",
      " [    60  42000]\n",
      " [    48  30000]\n",
      " [    24  55000]\n",
      " [    41  72000]\n",
      " [    28 123000]\n",
      " [    33 149000]\n",
      " [    42  64000]\n",
      " [    21  72000]\n",
      " [    54  26000]\n",
      " [    47 144000]\n",
      " [    46  23000]\n",
      " [    48 141000]\n",
      " [    30  87000]\n",
      " [    47 105000]\n",
      " [    36 144000]\n",
      " [    26  15000]\n",
      " [    30  89000]\n",
      " [    48  33000]\n",
      " [    25  79000]\n",
      " [    35  23000]\n",
      " [    38  65000]\n",
      " [    39 134000]\n",
      " [    45  32000]\n",
      " [    28  44000]\n",
      " [    35  71000]\n",
      " [    26  15000]\n",
      " [    26  80000]\n",
      " [    28  85000]\n",
      " [    37  62000]\n",
      " [    49  88000]\n",
      " [    32  18000]\n",
      " [    49  74000]\n",
      " [    60  42000]\n",
      " [    39  71000]\n",
      " [    18  68000]\n",
      " [    36  63000]\n",
      " [    41  79000]\n",
      " [    27  54000]\n",
      " [    42  79000]\n",
      " [    47  49000]\n",
      " [    35  47000]\n",
      " [    47  23000]\n",
      " [    20  49000]\n",
      " [    38  71000]\n",
      " [    33  51000]\n",
      " [    42  90000]\n",
      " [    53  82000]\n",
      " [    51  23000]\n",
      " [    52 138000]\n",
      " [    37  78000]\n",
      " [    28  37000]\n",
      " [    28  32000]\n",
      " [    40  59000]\n",
      " [    35  44000]\n",
      " [    47  43000]\n",
      " [    38  59000]\n",
      " [    24  23000]\n",
      " [    26  52000]\n",
      " [    35  72000]\n",
      " [    23  48000]\n",
      " [    32 100000]\n",
      " [    35  75000]\n",
      " [    18  44000]\n",
      " [    28  89000]\n",
      " [    30  79000]\n",
      " [    37  77000]\n",
      " [    22  27000]\n",
      " [    41  72000]\n",
      " [    43 133000]\n",
      " [    38  61000]\n",
      " [    35  65000]\n",
      " [    46 117000]\n",
      " [    31 118000]\n",
      " [    40  75000]\n",
      " [    35  22000]\n",
      " [    49  28000]\n",
      " [    27  58000]\n",
      " [    29  61000]\n",
      " [    48 131000]\n",
      " [    52 114000]\n",
      " [    41  30000]\n",
      " [    35  91000]\n",
      " [    42 108000]\n",
      " [    58  23000]\n",
      " [    38  55000]\n",
      " [    49 141000]\n",
      " [    26  72000]\n",
      " [    31  89000]\n",
      " [    52  21000]\n",
      " [    35  88000]\n",
      " [    35  77000]\n",
      " [    42 149000]\n",
      " [    40  60000]\n",
      " [    36 126000]\n",
      " [    37  93000]\n",
      " [    24  84000]\n",
      " [    42  54000]\n",
      " [    47  20000]\n",
      " [    29  47000]\n",
      " [    31  76000]\n",
      " [    25  22000]\n",
      " [    26 118000]\n",
      " [    37 137000]\n",
      " [    31  71000]\n",
      " [    26  32000]\n",
      " [    55 125000]\n",
      " [    37  75000]\n",
      " [    60  83000]\n",
      " [    37  57000]\n",
      " [    39  59000]\n",
      " [    27  88000]\n",
      " [    49  28000]\n",
      " [    46  96000]\n",
      " [    52  38000]\n",
      " [    58  38000]\n",
      " [    58 144000]\n",
      " [    36 125000]\n",
      " [    27 137000]\n",
      " [    50  44000]\n",
      " [    40  65000]\n",
      " [    22  63000]]\n"
     ]
    }
   ],
   "source": [
    "X_train_no_gender=X_train[:,1:4]\n",
    "X_test_no_gender=X_test[:,1:4]\n",
    "print(X_train_no_gender)"
   ]
  },
  {
   "cell_type": "markdown",
   "metadata": {},
   "source": [
    "Question 6.2: Perform the same task from question 5.2 with the updated data"
   ]
  },
  {
   "cell_type": "code",
   "execution_count": 11,
   "metadata": {},
   "outputs": [
    {
     "name": "stdout",
     "output_type": "stream",
     "text": [
      "K value is  2\n",
      "[[73  8]\n",
      " [15 24]]\n",
      "              precision    recall  f1-score   support\n",
      "\n",
      "           0       0.83      0.90      0.86        81\n",
      "           1       0.75      0.62      0.68        39\n",
      "\n",
      "    accuracy                           0.81       120\n",
      "   macro avg       0.79      0.76      0.77       120\n",
      "weighted avg       0.80      0.81      0.80       120\n",
      "\n",
      "0.8083333333333333\n",
      "K value is  3\n",
      "[[68 13]\n",
      " [ 8 31]]\n",
      "              precision    recall  f1-score   support\n",
      "\n",
      "           0       0.89      0.84      0.87        81\n",
      "           1       0.70      0.79      0.75        39\n",
      "\n",
      "    accuracy                           0.82       120\n",
      "   macro avg       0.80      0.82      0.81       120\n",
      "weighted avg       0.83      0.82      0.83       120\n",
      "\n",
      "0.825\n",
      "K value is  4\n",
      "[[73  8]\n",
      " [ 9 30]]\n",
      "              precision    recall  f1-score   support\n",
      "\n",
      "           0       0.89      0.90      0.90        81\n",
      "           1       0.79      0.77      0.78        39\n",
      "\n",
      "    accuracy                           0.86       120\n",
      "   macro avg       0.84      0.84      0.84       120\n",
      "weighted avg       0.86      0.86      0.86       120\n",
      "\n",
      "0.8583333333333333\n",
      "K value is  5\n",
      "[[72  9]\n",
      " [ 7 32]]\n",
      "              precision    recall  f1-score   support\n",
      "\n",
      "           0       0.91      0.89      0.90        81\n",
      "           1       0.78      0.82      0.80        39\n",
      "\n",
      "    accuracy                           0.87       120\n",
      "   macro avg       0.85      0.85      0.85       120\n",
      "weighted avg       0.87      0.87      0.87       120\n",
      "\n",
      "0.8666666666666667\n",
      "K value is  6\n",
      "[[73  8]\n",
      " [10 29]]\n",
      "              precision    recall  f1-score   support\n",
      "\n",
      "           0       0.88      0.90      0.89        81\n",
      "           1       0.78      0.74      0.76        39\n",
      "\n",
      "    accuracy                           0.85       120\n",
      "   macro avg       0.83      0.82      0.83       120\n",
      "weighted avg       0.85      0.85      0.85       120\n",
      "\n",
      "0.85\n",
      "K value is  7\n",
      "[[70 11]\n",
      " [ 7 32]]\n",
      "              precision    recall  f1-score   support\n",
      "\n",
      "           0       0.91      0.86      0.89        81\n",
      "           1       0.74      0.82      0.78        39\n",
      "\n",
      "    accuracy                           0.85       120\n",
      "   macro avg       0.83      0.84      0.83       120\n",
      "weighted avg       0.86      0.85      0.85       120\n",
      "\n",
      "0.85\n",
      "K value is  8\n",
      "[[73  8]\n",
      " [11 28]]\n",
      "              precision    recall  f1-score   support\n",
      "\n",
      "           0       0.87      0.90      0.88        81\n",
      "           1       0.78      0.72      0.75        39\n",
      "\n",
      "    accuracy                           0.84       120\n",
      "   macro avg       0.82      0.81      0.82       120\n",
      "weighted avg       0.84      0.84      0.84       120\n",
      "\n",
      "0.8416666666666667\n",
      "K value is  9\n",
      "[[72  9]\n",
      " [ 9 30]]\n",
      "              precision    recall  f1-score   support\n",
      "\n",
      "           0       0.89      0.89      0.89        81\n",
      "           1       0.77      0.77      0.77        39\n",
      "\n",
      "    accuracy                           0.85       120\n",
      "   macro avg       0.83      0.83      0.83       120\n",
      "weighted avg       0.85      0.85      0.85       120\n",
      "\n",
      "0.85\n",
      "K value is  10\n",
      "[[73  8]\n",
      " [12 27]]\n",
      "              precision    recall  f1-score   support\n",
      "\n",
      "           0       0.86      0.90      0.88        81\n",
      "           1       0.77      0.69      0.73        39\n",
      "\n",
      "    accuracy                           0.83       120\n",
      "   macro avg       0.82      0.80      0.80       120\n",
      "weighted avg       0.83      0.83      0.83       120\n",
      "\n",
      "0.8333333333333334\n"
     ]
    }
   ],
   "source": [
    "for k in range(2,11):\n",
    "    print('K value is ',k)\n",
    "    clf = KNeighborsClassifier(n_neighbors=k)\n",
    "\n",
    "    # Fitting the model\n",
    "    clf.fit(X=X_train_no_gender,y=y_train)\n",
    "\n",
    "    # Predicting the Test set results\n",
    "    y_pred = clf.predict(X=X_test_no_gender)\n",
    "    \n",
    "    print(confusion_matrix(y_test, y_pred))  \n",
    "    print(classification_report(y_test, y_pred))\n",
    "    print(accuracy_score(y_test, y_pred))"
   ]
  },
  {
   "cell_type": "markdown",
   "metadata": {},
   "source": [
    "Question 6.3: What happened to the results? What's your conclusion? Plot accuracy vs k."
   ]
  },
  {
   "cell_type": "markdown",
   "metadata": {},
   "source": [
    "Results remained the same. Thus Gender was not a major influencer to the classifier"
   ]
  },
  {
   "cell_type": "markdown",
   "metadata": {},
   "source": [
    "Question 7: Repeat steps 6.1-6.3 with another distance metric. Comment on what happens to the results?"
   ]
  },
  {
   "cell_type": "code",
   "execution_count": 12,
   "metadata": {},
   "outputs": [
    {
     "name": "stdout",
     "output_type": "stream",
     "text": [
      "K value is  2\n",
      "[[73  8]\n",
      " [15 24]]\n",
      "              precision    recall  f1-score   support\n",
      "\n",
      "           0       0.83      0.90      0.86        81\n",
      "           1       0.75      0.62      0.68        39\n",
      "\n",
      "    accuracy                           0.81       120\n",
      "   macro avg       0.79      0.76      0.77       120\n",
      "weighted avg       0.80      0.81      0.80       120\n",
      "\n",
      "0.8083333333333333\n",
      "K value is  3\n",
      "[[68 13]\n",
      " [ 8 31]]\n",
      "              precision    recall  f1-score   support\n",
      "\n",
      "           0       0.89      0.84      0.87        81\n",
      "           1       0.70      0.79      0.75        39\n",
      "\n",
      "    accuracy                           0.82       120\n",
      "   macro avg       0.80      0.82      0.81       120\n",
      "weighted avg       0.83      0.82      0.83       120\n",
      "\n",
      "0.825\n",
      "K value is  4\n",
      "[[73  8]\n",
      " [ 9 30]]\n",
      "              precision    recall  f1-score   support\n",
      "\n",
      "           0       0.89      0.90      0.90        81\n",
      "           1       0.79      0.77      0.78        39\n",
      "\n",
      "    accuracy                           0.86       120\n",
      "   macro avg       0.84      0.84      0.84       120\n",
      "weighted avg       0.86      0.86      0.86       120\n",
      "\n",
      "0.8583333333333333\n",
      "K value is  5\n",
      "[[72  9]\n",
      " [ 7 32]]\n",
      "              precision    recall  f1-score   support\n",
      "\n",
      "           0       0.91      0.89      0.90        81\n",
      "           1       0.78      0.82      0.80        39\n",
      "\n",
      "    accuracy                           0.87       120\n",
      "   macro avg       0.85      0.85      0.85       120\n",
      "weighted avg       0.87      0.87      0.87       120\n",
      "\n",
      "0.8666666666666667\n",
      "K value is  6\n",
      "[[73  8]\n",
      " [10 29]]\n",
      "              precision    recall  f1-score   support\n",
      "\n",
      "           0       0.88      0.90      0.89        81\n",
      "           1       0.78      0.74      0.76        39\n",
      "\n",
      "    accuracy                           0.85       120\n",
      "   macro avg       0.83      0.82      0.83       120\n",
      "weighted avg       0.85      0.85      0.85       120\n",
      "\n",
      "0.85\n",
      "K value is  7\n",
      "[[70 11]\n",
      " [ 7 32]]\n",
      "              precision    recall  f1-score   support\n",
      "\n",
      "           0       0.91      0.86      0.89        81\n",
      "           1       0.74      0.82      0.78        39\n",
      "\n",
      "    accuracy                           0.85       120\n",
      "   macro avg       0.83      0.84      0.83       120\n",
      "weighted avg       0.86      0.85      0.85       120\n",
      "\n",
      "0.85\n",
      "K value is  8\n",
      "[[73  8]\n",
      " [11 28]]\n",
      "              precision    recall  f1-score   support\n",
      "\n",
      "           0       0.87      0.90      0.88        81\n",
      "           1       0.78      0.72      0.75        39\n",
      "\n",
      "    accuracy                           0.84       120\n",
      "   macro avg       0.82      0.81      0.82       120\n",
      "weighted avg       0.84      0.84      0.84       120\n",
      "\n",
      "0.8416666666666667\n",
      "K value is  9\n",
      "[[72  9]\n",
      " [ 9 30]]\n",
      "              precision    recall  f1-score   support\n",
      "\n",
      "           0       0.89      0.89      0.89        81\n",
      "           1       0.77      0.77      0.77        39\n",
      "\n",
      "    accuracy                           0.85       120\n",
      "   macro avg       0.83      0.83      0.83       120\n",
      "weighted avg       0.85      0.85      0.85       120\n",
      "\n",
      "0.85\n",
      "K value is  10\n",
      "[[73  8]\n",
      " [12 27]]\n",
      "              precision    recall  f1-score   support\n",
      "\n",
      "           0       0.86      0.90      0.88        81\n",
      "           1       0.77      0.69      0.73        39\n",
      "\n",
      "    accuracy                           0.83       120\n",
      "   macro avg       0.82      0.80      0.80       120\n",
      "weighted avg       0.83      0.83      0.83       120\n",
      "\n",
      "0.8333333333333334\n"
     ]
    }
   ],
   "source": [
    "for k in range(2,11):\n",
    "    print('K value is ',k)\n",
    "    clf = KNeighborsClassifier(algorithm='auto', leaf_size=30, metric='minkowski',\n",
    "                     metric_params=None, n_jobs=None, n_neighbors=k, p=2,\n",
    "                     weights='uniform')\n",
    "\n",
    "    # Fitting the model\n",
    "    clf.fit(X=X_train_no_gender,y=y_train)\n",
    "\n",
    "    # Predicting the Test set results\n",
    "    y_pred = clf.predict(X=X_test_no_gender)\n",
    "    \n",
    "    print(confusion_matrix(y_test, y_pred))  \n",
    "    print(classification_report(y_test, y_pred))\n",
    "    print(accuracy_score(y_test, y_pred))"
   ]
  },
  {
   "cell_type": "code",
   "execution_count": 13,
   "metadata": {},
   "outputs": [
    {
     "name": "stdout",
     "output_type": "stream",
     "text": [
      "K value is  2\n",
      "[[71 10]\n",
      " [17 22]]\n",
      "              precision    recall  f1-score   support\n",
      "\n",
      "           0       0.81      0.88      0.84        81\n",
      "           1       0.69      0.56      0.62        39\n",
      "\n",
      "    accuracy                           0.78       120\n",
      "   macro avg       0.75      0.72      0.73       120\n",
      "weighted avg       0.77      0.78      0.77       120\n",
      "\n",
      "0.775\n",
      "K value is  3\n",
      "[[66 15]\n",
      " [ 7 32]]\n",
      "              precision    recall  f1-score   support\n",
      "\n",
      "           0       0.90      0.81      0.86        81\n",
      "           1       0.68      0.82      0.74        39\n",
      "\n",
      "    accuracy                           0.82       120\n",
      "   macro avg       0.79      0.82      0.80       120\n",
      "weighted avg       0.83      0.82      0.82       120\n",
      "\n",
      "0.8166666666666667\n",
      "K value is  4\n",
      "[[71 10]\n",
      " [11 28]]\n",
      "              precision    recall  f1-score   support\n",
      "\n",
      "           0       0.87      0.88      0.87        81\n",
      "           1       0.74      0.72      0.73        39\n",
      "\n",
      "    accuracy                           0.82       120\n",
      "   macro avg       0.80      0.80      0.80       120\n",
      "weighted avg       0.82      0.82      0.82       120\n",
      "\n",
      "0.825\n",
      "K value is  5\n",
      "[[66 15]\n",
      " [ 9 30]]\n",
      "              precision    recall  f1-score   support\n",
      "\n",
      "           0       0.88      0.81      0.85        81\n",
      "           1       0.67      0.77      0.71        39\n",
      "\n",
      "    accuracy                           0.80       120\n",
      "   macro avg       0.77      0.79      0.78       120\n",
      "weighted avg       0.81      0.80      0.80       120\n",
      "\n",
      "0.8\n",
      "K value is  6\n",
      "[[71 10]\n",
      " [15 24]]\n",
      "              precision    recall  f1-score   support\n",
      "\n",
      "           0       0.83      0.88      0.85        81\n",
      "           1       0.71      0.62      0.66        39\n",
      "\n",
      "    accuracy                           0.79       120\n",
      "   macro avg       0.77      0.75      0.75       120\n",
      "weighted avg       0.79      0.79      0.79       120\n",
      "\n",
      "0.7916666666666666\n",
      "K value is  7\n",
      "[[68 13]\n",
      " [10 29]]\n",
      "              precision    recall  f1-score   support\n",
      "\n",
      "           0       0.87      0.84      0.86        81\n",
      "           1       0.69      0.74      0.72        39\n",
      "\n",
      "    accuracy                           0.81       120\n",
      "   macro avg       0.78      0.79      0.79       120\n",
      "weighted avg       0.81      0.81      0.81       120\n",
      "\n",
      "0.8083333333333333\n",
      "K value is  8\n",
      "[[70 11]\n",
      " [14 25]]\n",
      "              precision    recall  f1-score   support\n",
      "\n",
      "           0       0.83      0.86      0.85        81\n",
      "           1       0.69      0.64      0.67        39\n",
      "\n",
      "    accuracy                           0.79       120\n",
      "   macro avg       0.76      0.75      0.76       120\n",
      "weighted avg       0.79      0.79      0.79       120\n",
      "\n",
      "0.7916666666666666\n",
      "K value is  9\n",
      "[[70 11]\n",
      " [12 27]]\n",
      "              precision    recall  f1-score   support\n",
      "\n",
      "           0       0.85      0.86      0.86        81\n",
      "           1       0.71      0.69      0.70        39\n",
      "\n",
      "    accuracy                           0.81       120\n",
      "   macro avg       0.78      0.78      0.78       120\n",
      "weighted avg       0.81      0.81      0.81       120\n",
      "\n",
      "0.8083333333333333\n",
      "K value is  10\n",
      "[[71 10]\n",
      " [13 26]]\n",
      "              precision    recall  f1-score   support\n",
      "\n",
      "           0       0.85      0.88      0.86        81\n",
      "           1       0.72      0.67      0.69        39\n",
      "\n",
      "    accuracy                           0.81       120\n",
      "   macro avg       0.78      0.77      0.78       120\n",
      "weighted avg       0.81      0.81      0.81       120\n",
      "\n",
      "0.8083333333333333\n"
     ]
    }
   ],
   "source": [
    "for k in range(2,11):\n",
    "    print('K value is ',k)\n",
    "    clf = KNeighborsClassifier(algorithm='auto', leaf_size=30, metric='chebyshev',\n",
    "                     metric_params=None, n_jobs=None, n_neighbors=k, p=2,\n",
    "                     weights='uniform')\n",
    "\n",
    "    # Fitting the model\n",
    "    clf.fit(X=X_train_no_gender,y=y_train)\n",
    "\n",
    "    # Predicting the Test set results\n",
    "    y_pred = clf.predict(X=X_test_no_gender)\n",
    "    \n",
    "    print(confusion_matrix(y_test, y_pred))  \n",
    "    print(classification_report(y_test, y_pred))\n",
    "    print(accuracy_score(y_test, y_pred))"
   ]
  },
  {
   "cell_type": "code",
   "execution_count": null,
   "metadata": {},
   "outputs": [],
   "source": []
  }
 ],
 "metadata": {
  "kernelspec": {
   "display_name": "Python 3",
   "language": "python",
   "name": "python3"
  },
  "language_info": {
   "codemirror_mode": {
    "name": "ipython",
    "version": 3
   },
   "file_extension": ".py",
   "mimetype": "text/x-python",
   "name": "python",
   "nbconvert_exporter": "python",
   "pygments_lexer": "ipython3",
   "version": "3.7.3"
  }
 },
 "nbformat": 4,
 "nbformat_minor": 5
}
