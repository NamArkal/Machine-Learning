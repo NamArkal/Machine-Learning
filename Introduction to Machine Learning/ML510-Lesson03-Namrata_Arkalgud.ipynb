{
 "cells": [
  {
   "cell_type": "markdown",
   "metadata": {},
   "source": [
    "<h1>Lesson 3. Classification: Credit worthiness from German bank</h1>"
   ]
  },
  {
   "cell_type": "markdown",
   "metadata": {},
   "source": [
    "<img src=\"https://upload.wikimedia.org/wikipedia/commons/8/8e/Flag_map_of_Germany.svg\" style=\"height:200px;\">\n",
    "  \n",
    "  <p>In this exercise you will predict credit worthiness of customers of a German bank (<a href=\"https://archive.ics.uci.edu/ml/datasets/statlog+(german+credit+data)\">provided by Hans Hofmann from Univeristy of Hamburg</a>). The data we will be working with here is a reduced version of the full dataset.</p>\n",
    "<p>The following features are available for the 1000-row dataset:</p>\n",
    "<ul>\n",
    "<li>Class: Credit worthiness (what you are trying to predict)</li>\n",
    "<li>Duration: Duration of the credit (in months) </li>\n",
    "<li>Amount: Amount of money asked for (in Deutche Marks (DM))</li>\n",
    "<li>InstallmentRatePercentage: Installment rate in percentage of disposable income </li>\n",
    "<li>ResidenceDuration: Number of years at current residence</li>\n",
    "<li>Age: Person's age</li>\n",
    "<li>NumberExistingCredits: Number of credit accounts</li>\n",
    "<li>NumberPeopleMaintenance: Number of people being liable to provide maintenance for the credit</li>\n",
    "<li>Telephone: Is there a phone number associated with the customer name?  </li>\n",
    "<li>ForeignWorker: Is the person a foreign worker?</li>\n",
    "<li>CheckingAccountStatus: Amount of money in the checking account (in DM)<ul>\n",
    "<li>CheckingAccountStatus.lt.0</li>\n",
    "<li>CheckingAccountStatus.0.to.200</li>\n",
    "<li>CheckingAccountStatus.gt.200</li>\n",
    "</ul></li>\n",
    "<li>CreditHistory: Past credit history<ul>\n",
    "<li>CreditHistory.ThisBank.AllPaid</li>\n",
    "<li>CreditHistory.PaidDuly</li>\n",
    "<li>CreditHistory.Delay</li>\n",
    "<li>CreditHistory.Critical</li>\n",
    "</ul></li>\n",
    "</ul>\n",
    "\n",
    "<p>This dataset is available in <a href=\"http://caret.r-forge.r-project.org/\">'caret'</a> library. Let's load it and see how it looks:</p>"
   ]
  },
  {
   "cell_type": "code",
   "execution_count": 1,
   "metadata": {},
   "outputs": [
    {
     "data": {
      "text/html": [
       "<div>\n",
       "<style scoped>\n",
       "    .dataframe tbody tr th:only-of-type {\n",
       "        vertical-align: middle;\n",
       "    }\n",
       "\n",
       "    .dataframe tbody tr th {\n",
       "        vertical-align: top;\n",
       "    }\n",
       "\n",
       "    .dataframe thead th {\n",
       "        text-align: right;\n",
       "    }\n",
       "</style>\n",
       "<table border=\"1\" class=\"dataframe\">\n",
       "  <thead>\n",
       "    <tr style=\"text-align: right;\">\n",
       "      <th></th>\n",
       "      <th>Class</th>\n",
       "      <th>Duration</th>\n",
       "      <th>Amount</th>\n",
       "      <th>InstallmentRatePercentage</th>\n",
       "      <th>ResidenceDuration</th>\n",
       "      <th>Age</th>\n",
       "      <th>NumberExistingCredits</th>\n",
       "      <th>NumberPeopleMaintenance</th>\n",
       "      <th>Telephone</th>\n",
       "      <th>ForeignWorker</th>\n",
       "      <th>CheckingAccountStatus.lt.0</th>\n",
       "      <th>CheckingAccountStatus.0.to.200</th>\n",
       "      <th>CheckingAccountStatus.gt.200</th>\n",
       "      <th>CreditHistory.ThisBank.AllPaid</th>\n",
       "      <th>CreditHistory.PaidDuly</th>\n",
       "      <th>CreditHistory.Delay</th>\n",
       "      <th>CreditHistory.Critical</th>\n",
       "    </tr>\n",
       "  </thead>\n",
       "  <tbody>\n",
       "    <tr>\n",
       "      <th>0</th>\n",
       "      <td>Good</td>\n",
       "      <td>6</td>\n",
       "      <td>1169</td>\n",
       "      <td>4</td>\n",
       "      <td>4</td>\n",
       "      <td>67</td>\n",
       "      <td>2</td>\n",
       "      <td>1</td>\n",
       "      <td>0</td>\n",
       "      <td>1</td>\n",
       "      <td>1</td>\n",
       "      <td>0</td>\n",
       "      <td>0</td>\n",
       "      <td>0</td>\n",
       "      <td>0</td>\n",
       "      <td>0</td>\n",
       "      <td>1</td>\n",
       "    </tr>\n",
       "    <tr>\n",
       "      <th>1</th>\n",
       "      <td>Bad</td>\n",
       "      <td>48</td>\n",
       "      <td>5951</td>\n",
       "      <td>2</td>\n",
       "      <td>2</td>\n",
       "      <td>22</td>\n",
       "      <td>1</td>\n",
       "      <td>1</td>\n",
       "      <td>1</td>\n",
       "      <td>1</td>\n",
       "      <td>0</td>\n",
       "      <td>1</td>\n",
       "      <td>0</td>\n",
       "      <td>0</td>\n",
       "      <td>1</td>\n",
       "      <td>0</td>\n",
       "      <td>0</td>\n",
       "    </tr>\n",
       "    <tr>\n",
       "      <th>2</th>\n",
       "      <td>Good</td>\n",
       "      <td>12</td>\n",
       "      <td>2096</td>\n",
       "      <td>2</td>\n",
       "      <td>3</td>\n",
       "      <td>49</td>\n",
       "      <td>1</td>\n",
       "      <td>2</td>\n",
       "      <td>1</td>\n",
       "      <td>1</td>\n",
       "      <td>0</td>\n",
       "      <td>0</td>\n",
       "      <td>0</td>\n",
       "      <td>0</td>\n",
       "      <td>0</td>\n",
       "      <td>0</td>\n",
       "      <td>1</td>\n",
       "    </tr>\n",
       "    <tr>\n",
       "      <th>3</th>\n",
       "      <td>Good</td>\n",
       "      <td>36</td>\n",
       "      <td>9055</td>\n",
       "      <td>2</td>\n",
       "      <td>4</td>\n",
       "      <td>35</td>\n",
       "      <td>1</td>\n",
       "      <td>2</td>\n",
       "      <td>0</td>\n",
       "      <td>1</td>\n",
       "      <td>0</td>\n",
       "      <td>0</td>\n",
       "      <td>0</td>\n",
       "      <td>0</td>\n",
       "      <td>1</td>\n",
       "      <td>0</td>\n",
       "      <td>0</td>\n",
       "    </tr>\n",
       "    <tr>\n",
       "      <th>4</th>\n",
       "      <td>Good</td>\n",
       "      <td>24</td>\n",
       "      <td>2835</td>\n",
       "      <td>3</td>\n",
       "      <td>4</td>\n",
       "      <td>53</td>\n",
       "      <td>1</td>\n",
       "      <td>1</td>\n",
       "      <td>1</td>\n",
       "      <td>1</td>\n",
       "      <td>0</td>\n",
       "      <td>0</td>\n",
       "      <td>0</td>\n",
       "      <td>0</td>\n",
       "      <td>1</td>\n",
       "      <td>0</td>\n",
       "      <td>0</td>\n",
       "    </tr>\n",
       "  </tbody>\n",
       "</table>\n",
       "</div>"
      ],
      "text/plain": [
       "  Class  Duration  Amount  InstallmentRatePercentage  ResidenceDuration  Age  \\\n",
       "0  Good         6    1169                          4                  4   67   \n",
       "1   Bad        48    5951                          2                  2   22   \n",
       "2  Good        12    2096                          2                  3   49   \n",
       "3  Good        36    9055                          2                  4   35   \n",
       "4  Good        24    2835                          3                  4   53   \n",
       "\n",
       "   NumberExistingCredits  NumberPeopleMaintenance  Telephone  ForeignWorker  \\\n",
       "0                      2                        1          0              1   \n",
       "1                      1                        1          1              1   \n",
       "2                      1                        2          1              1   \n",
       "3                      1                        2          0              1   \n",
       "4                      1                        1          1              1   \n",
       "\n",
       "   CheckingAccountStatus.lt.0  CheckingAccountStatus.0.to.200  \\\n",
       "0                           1                               0   \n",
       "1                           0                               1   \n",
       "2                           0                               0   \n",
       "3                           0                               0   \n",
       "4                           0                               0   \n",
       "\n",
       "   CheckingAccountStatus.gt.200  CreditHistory.ThisBank.AllPaid  \\\n",
       "0                             0                               0   \n",
       "1                             0                               0   \n",
       "2                             0                               0   \n",
       "3                             0                               0   \n",
       "4                             0                               0   \n",
       "\n",
       "   CreditHistory.PaidDuly  CreditHistory.Delay  CreditHistory.Critical  \n",
       "0                       0                    0                       1  \n",
       "1                       1                    0                       0  \n",
       "2                       0                    0                       1  \n",
       "3                       1                    0                       0  \n",
       "4                       1                    0                       0  "
      ]
     },
     "execution_count": 1,
     "metadata": {},
     "output_type": "execute_result"
    }
   ],
   "source": [
    "import pandas as pd\n",
    "\n",
    "# loading the training and test dataset\n",
    "credit_train = pd.read_csv('credit_train.csv')\n",
    "credit_test = pd.read_csv('credit_test.csv')\n",
    "\n",
    "credit_train.head()"
   ]
  },
  {
   "cell_type": "markdown",
   "metadata": {},
   "source": [
    "<h3>Q.0. Write code to display the count of null values in each column<h3>"
   ]
  },
  {
   "cell_type": "code",
   "execution_count": 4,
   "metadata": {},
   "outputs": [
    {
     "data": {
      "text/plain": [
       "Class                             0\n",
       "Duration                          0\n",
       "Amount                            0\n",
       "InstallmentRatePercentage         0\n",
       "ResidenceDuration                 0\n",
       "Age                               0\n",
       "NumberExistingCredits             0\n",
       "NumberPeopleMaintenance           0\n",
       "Telephone                         0\n",
       "ForeignWorker                     0\n",
       "CheckingAccountStatus.lt.0        0\n",
       "CheckingAccountStatus.0.to.200    0\n",
       "CheckingAccountStatus.gt.200      0\n",
       "CreditHistory.ThisBank.AllPaid    0\n",
       "CreditHistory.PaidDuly            0\n",
       "CreditHistory.Delay               0\n",
       "CreditHistory.Critical            0\n",
       "dtype: int64"
      ]
     },
     "execution_count": 4,
     "metadata": {},
     "output_type": "execute_result"
    }
   ],
   "source": [
    "# Command: using isna() and sum()\n",
    "\n",
    "# One sentance summary:\n",
    "# applies is na on all columns and then sums the result\n",
    "\n",
    "credit_train.isna().sum()\n",
    "credit_test.isna().sum()"
   ]
  },
  {
   "cell_type": "markdown",
   "metadata": {},
   "source": [
    "<h3>Q.1. How does the distribution of credit amount look like? (Use a histogram plot to answer this question)</h3>"
   ]
  },
  {
   "cell_type": "code",
   "execution_count": 8,
   "metadata": {},
   "outputs": [
    {
     "data": {
      "text/plain": [
       "<AxesSubplot:xlabel='Amount', ylabel='Count'>"
      ]
     },
     "execution_count": 8,
     "metadata": {},
     "output_type": "execute_result"
    },
    {
     "data": {
      "image/png": "[encoded data removed]",
      "text/plain": [
       "<Figure size 640x480 with 1 Axes>"
      ]
     },
     "metadata": {},
     "output_type": "display_data"
    }
   ],
   "source": [
    "# Put the command (or commands) here that would give an answer to the above question.\n",
    "import matplotlib.pyplot as plt\n",
    "import seaborn as sn\n",
    "%matplotlib inline\n",
    "\n",
    "#TODO\n",
    "sn.histplot(data=credit_train, x=\"Amount\", kde=True)"
   ]
  },
  {
   "cell_type": "markdown",
   "metadata": {},
   "source": [
    "<h3>Q.2. Can you generate a plot that shows CreditHistory.Critical vs. Credit Worthiness for the training data. Can you comment whether person with critical credit history is more credit worthy?</h3> "
   ]
  },
  {
   "cell_type": "code",
   "execution_count": 96,
   "metadata": {},
   "outputs": [
    {
     "data": {
      "text/plain": [
       "<AxesSubplot:xlabel='CreditHistory.Critical', ylabel='Count'>"
      ]
     },
     "execution_count": 96,
     "metadata": {},
     "output_type": "execute_result"
    },
    {
     "data": {
      "image/png": "[encoded data removed]",
      "text/plain": [
       "<Figure size 640x480 with 1 Axes>"
      ]
     },
     "metadata": {},
     "output_type": "display_data"
    }
   ],
   "source": [
    "# Command:\n",
    "\n",
    "# One sentence summary:\n",
    "sn.histplot(data=credit_train, x=\"CreditHistory.Critical\", hue=\"Class\")\n",
    "\n",
    "# Comment: From the plot below, people with no critical credit history are more than 50% and are classified as bad classes. For people with critical credit history, majority of them are classified as good classes. This could mean that good/bad classification depends not only on critical credit history, but other factors. Critical credit history alone won't give us the whole picture. p-values calculated at the end with all predictors give a better picture of the more important predictors."
   ]
  },
  {
   "cell_type": "markdown",
   "metadata": {},
   "source": [
    "<h3>Q.3. Binarize the y output for e.g. 0 = 'bad' credit; 1 = 'good' credit. </h3>"
   ]
  },
  {
   "cell_type": "code",
   "execution_count": 12,
   "metadata": {},
   "outputs": [
    {
     "data": {
      "text/html": [
       "<div>\n",
       "<style scoped>\n",
       "    .dataframe tbody tr th:only-of-type {\n",
       "        vertical-align: middle;\n",
       "    }\n",
       "\n",
       "    .dataframe tbody tr th {\n",
       "        vertical-align: top;\n",
       "    }\n",
       "\n",
       "    .dataframe thead th {\n",
       "        text-align: right;\n",
       "    }\n",
       "</style>\n",
       "<table border=\"1\" class=\"dataframe\">\n",
       "  <thead>\n",
       "    <tr style=\"text-align: right;\">\n",
       "      <th></th>\n",
       "      <th>Class</th>\n",
       "      <th>Duration</th>\n",
       "      <th>Amount</th>\n",
       "      <th>InstallmentRatePercentage</th>\n",
       "      <th>ResidenceDuration</th>\n",
       "      <th>Age</th>\n",
       "      <th>NumberExistingCredits</th>\n",
       "      <th>NumberPeopleMaintenance</th>\n",
       "      <th>Telephone</th>\n",
       "      <th>ForeignWorker</th>\n",
       "      <th>CheckingAccountStatus.lt.0</th>\n",
       "      <th>CheckingAccountStatus.0.to.200</th>\n",
       "      <th>CheckingAccountStatus.gt.200</th>\n",
       "      <th>CreditHistory.ThisBank.AllPaid</th>\n",
       "      <th>CreditHistory.PaidDuly</th>\n",
       "      <th>CreditHistory.Delay</th>\n",
       "      <th>CreditHistory.Critical</th>\n",
       "    </tr>\n",
       "  </thead>\n",
       "  <tbody>\n",
       "    <tr>\n",
       "      <th>0</th>\n",
       "      <td>1</td>\n",
       "      <td>42</td>\n",
       "      <td>7882</td>\n",
       "      <td>2</td>\n",
       "      <td>4</td>\n",
       "      <td>45</td>\n",
       "      <td>1</td>\n",
       "      <td>2</td>\n",
       "      <td>1</td>\n",
       "      <td>1</td>\n",
       "      <td>1</td>\n",
       "      <td>0</td>\n",
       "      <td>0</td>\n",
       "      <td>0</td>\n",
       "      <td>1</td>\n",
       "      <td>0</td>\n",
       "      <td>0</td>\n",
       "    </tr>\n",
       "    <tr>\n",
       "      <th>1</th>\n",
       "      <td>0</td>\n",
       "      <td>24</td>\n",
       "      <td>4870</td>\n",
       "      <td>3</td>\n",
       "      <td>4</td>\n",
       "      <td>53</td>\n",
       "      <td>2</td>\n",
       "      <td>2</td>\n",
       "      <td>1</td>\n",
       "      <td>1</td>\n",
       "      <td>1</td>\n",
       "      <td>0</td>\n",
       "      <td>0</td>\n",
       "      <td>0</td>\n",
       "      <td>0</td>\n",
       "      <td>1</td>\n",
       "      <td>0</td>\n",
       "    </tr>\n",
       "    <tr>\n",
       "      <th>2</th>\n",
       "      <td>1</td>\n",
       "      <td>36</td>\n",
       "      <td>6948</td>\n",
       "      <td>2</td>\n",
       "      <td>2</td>\n",
       "      <td>35</td>\n",
       "      <td>1</td>\n",
       "      <td>1</td>\n",
       "      <td>0</td>\n",
       "      <td>1</td>\n",
       "      <td>0</td>\n",
       "      <td>1</td>\n",
       "      <td>0</td>\n",
       "      <td>0</td>\n",
       "      <td>1</td>\n",
       "      <td>0</td>\n",
       "      <td>0</td>\n",
       "    </tr>\n",
       "    <tr>\n",
       "      <th>3</th>\n",
       "      <td>0</td>\n",
       "      <td>12</td>\n",
       "      <td>1295</td>\n",
       "      <td>3</td>\n",
       "      <td>1</td>\n",
       "      <td>25</td>\n",
       "      <td>1</td>\n",
       "      <td>1</td>\n",
       "      <td>1</td>\n",
       "      <td>1</td>\n",
       "      <td>0</td>\n",
       "      <td>1</td>\n",
       "      <td>0</td>\n",
       "      <td>0</td>\n",
       "      <td>1</td>\n",
       "      <td>0</td>\n",
       "      <td>0</td>\n",
       "    </tr>\n",
       "    <tr>\n",
       "      <th>4</th>\n",
       "      <td>0</td>\n",
       "      <td>24</td>\n",
       "      <td>1282</td>\n",
       "      <td>4</td>\n",
       "      <td>2</td>\n",
       "      <td>32</td>\n",
       "      <td>1</td>\n",
       "      <td>1</td>\n",
       "      <td>1</td>\n",
       "      <td>1</td>\n",
       "      <td>1</td>\n",
       "      <td>0</td>\n",
       "      <td>0</td>\n",
       "      <td>0</td>\n",
       "      <td>1</td>\n",
       "      <td>0</td>\n",
       "      <td>0</td>\n",
       "    </tr>\n",
       "  </tbody>\n",
       "</table>\n",
       "</div>"
      ],
      "text/plain": [
       "   Class  Duration  Amount  InstallmentRatePercentage  ResidenceDuration  Age  \\\n",
       "0      1        42    7882                          2                  4   45   \n",
       "1      0        24    4870                          3                  4   53   \n",
       "2      1        36    6948                          2                  2   35   \n",
       "3      0        12    1295                          3                  1   25   \n",
       "4      0        24    1282                          4                  2   32   \n",
       "\n",
       "   NumberExistingCredits  NumberPeopleMaintenance  Telephone  ForeignWorker  \\\n",
       "0                      1                        2          1              1   \n",
       "1                      2                        2          1              1   \n",
       "2                      1                        1          0              1   \n",
       "3                      1                        1          1              1   \n",
       "4                      1                        1          1              1   \n",
       "\n",
       "   CheckingAccountStatus.lt.0  CheckingAccountStatus.0.to.200  \\\n",
       "0                           1                               0   \n",
       "1                           1                               0   \n",
       "2                           0                               1   \n",
       "3                           0                               1   \n",
       "4                           1                               0   \n",
       "\n",
       "   CheckingAccountStatus.gt.200  CreditHistory.ThisBank.AllPaid  \\\n",
       "0                             0                               0   \n",
       "1                             0                               0   \n",
       "2                             0                               0   \n",
       "3                             0                               0   \n",
       "4                             0                               0   \n",
       "\n",
       "   CreditHistory.PaidDuly  CreditHistory.Delay  CreditHistory.Critical  \n",
       "0                       1                    0                       0  \n",
       "1                       0                    1                       0  \n",
       "2                       1                    0                       0  \n",
       "3                       1                    0                       0  \n",
       "4                       1                    0                       0  "
      ]
     },
     "execution_count": 12,
     "metadata": {},
     "output_type": "execute_result"
    }
   ],
   "source": [
    "# Used map function to use numeric 1's and 0's\n",
    "credit_train['Class'] = credit_train['Class'].map({'Good': 1, 'Bad': 0})\n",
    "# credit_train.head()\n",
    "credit_test['Class'] = credit_test['Class'].map({'Good': 1, 'Bad': 0})\n",
    "# credit_test.head()"
   ]
  },
  {
   "cell_type": "markdown",
   "metadata": {},
   "source": [
    "<h3>Q.4. Generate a logistic regression model that uses the one predictor CreditHistory.Critical. Provide a summary of the model. </h3>"
   ]
  },
  {
   "cell_type": "code",
   "execution_count": 34,
   "metadata": {},
   "outputs": [],
   "source": [
    "from sklearn.linear_model import LogisticRegression\n",
    "\n",
    "# Get the first and last columns\n",
    "X_train_credit_critical = credit_train.iloc[:,-1:]\n",
    "y_train_credit_critical = credit_train.iloc[:, 0]\n",
    "X_test_credit_critical = credit_test.iloc[:,-1:]\n",
    "y_test_credit_critical = credit_test.iloc[:, 0]\n",
    "# X_test_credit_critical.head()\n",
    "# y_train_credit_critical.head()"
   ]
  },
  {
   "cell_type": "code",
   "execution_count": 35,
   "metadata": {},
   "outputs": [],
   "source": [
    "credit_critical_model = LogisticRegression(random_state=0).fit(X_train_credit_critical, y_train_credit_critical)"
   ]
  },
  {
   "cell_type": "markdown",
   "metadata": {},
   "source": [
    "<h3>Q.5. Using the developed model, predict the values in credit_test and use it to output a confusion matrix.</h3>"
   ]
  },
  {
   "cell_type": "code",
   "execution_count": 36,
   "metadata": {},
   "outputs": [
    {
     "name": "stdout",
     "output_type": "stream",
     "text": [
      "Train score:  0.6955445544554455\n"
     ]
    }
   ],
   "source": [
    "y_pred_critical_credit = credit_critical_model.predict(X_test_credit_critical)\n",
    "# y_pred_critical_credit_proba = credit_critical_model.predict_proba(X_test_credit_critical)\n",
    "train_score = credit_critical_model.score(X_train_credit_critical, y_train_credit_critical)\n",
    "print(\"Train score: \", train_score)"
   ]
  },
  {
   "cell_type": "code",
   "execution_count": 40,
   "metadata": {},
   "outputs": [
    {
     "name": "stdout",
     "output_type": "stream",
     "text": [
      "[[  0  54]\n",
      " [  0 138]]\n"
     ]
    }
   ],
   "source": [
    "# Produce confusion matrix\n",
    "from sklearn.metrics import confusion_matrix\n",
    "from sklearn.metrics import classification_report\n",
    "\n",
    "cm = confusion_matrix(y_test_credit_critical, y_pred_critical_credit)\n",
    "print(\"Confusion matrix: \", cm)"
   ]
  },
  {
   "cell_type": "markdown",
   "metadata": {},
   "source": [
    "<h3>Q.6. What is the accuracy of the model on the test data?</h3>"
   ]
  },
  {
   "cell_type": "code",
   "execution_count": 41,
   "metadata": {},
   "outputs": [
    {
     "data": {
      "text/plain": [
       "0.71875"
      ]
     },
     "execution_count": 41,
     "metadata": {},
     "output_type": "execute_result"
    }
   ],
   "source": [
    "# Command that outputs acccuracy\n",
    "from sklearn.metrics import accuracy_score\n",
    "accuracy_score(y_test_credit_critical, y_pred_critical_credit)"
   ]
  },
  {
   "cell_type": "markdown",
   "metadata": {},
   "source": [
    "<h3>Q.7. Generate the ROC curve.</h3>"
   ]
  },
  {
   "cell_type": "code",
   "execution_count": 46,
   "metadata": {},
   "outputs": [
    {
     "data": {
      "image/png": "[encoded data removed]",
      "text/plain": [
       "<Figure size 640x480 with 1 Axes>"
      ]
     },
     "metadata": {},
     "output_type": "display_data"
    }
   ],
   "source": [
    "from sklearn import metrics\n",
    "\n",
    "fpr, tpr, thresholds = metrics.roc_curve(y_test_credit_critical, y_pred_critical_credit)\n",
    "roc_auc = metrics.auc(fpr, tpr)\n",
    "display = metrics.RocCurveDisplay(fpr=fpr, tpr=tpr, roc_auc=roc_auc, estimator_name='ROC Curve: Logistic Regression')\n",
    "display.plot()\n",
    "plt.show()"
   ]
  },
  {
   "cell_type": "markdown",
   "metadata": {},
   "source": [
    "<h3>Q.8. What is the ROC AUC of the model on the test data?</h3>"
   ]
  },
  {
   "cell_type": "code",
   "execution_count": 47,
   "metadata": {},
   "outputs": [
    {
     "name": "stdout",
     "output_type": "stream",
     "text": [
      "0.5\n"
     ]
    }
   ],
   "source": [
    "# Command(s):\n",
    "print(roc_auc)"
   ]
  },
  {
   "cell_type": "markdown",
   "metadata": {},
   "source": [
    "<h3>Q.9. Calculate LDA model on credit_train.</h3>"
   ]
  },
  {
   "cell_type": "code",
   "execution_count": 51,
   "metadata": {},
   "outputs": [],
   "source": [
    "from sklearn.discriminant_analysis import LinearDiscriminantAnalysis\n",
    "\n",
    "X_train_lda = credit_train.loc[:, credit_train.columns != 'Class']\n",
    "y_train_lda = credit_train.iloc[:, 0]\n",
    "X_test_lda = credit_test.loc[:, credit_test.columns != 'Class']\n",
    "y_test_lda = credit_test.iloc[:, 0]\n",
    "# X_test_credit_critical.head()\n",
    "# y_train_credit_critical.head()"
   ]
  },
  {
   "cell_type": "code",
   "execution_count": 52,
   "metadata": {},
   "outputs": [],
   "source": [
    "lda_model = LinearDiscriminantAnalysis().fit(X_train_lda, y_train_lda)"
   ]
  },
  {
   "cell_type": "code",
   "execution_count": 53,
   "metadata": {},
   "outputs": [
    {
     "name": "stdout",
     "output_type": "stream",
     "text": [
      "Train score:  0.775990099009901\n"
     ]
    }
   ],
   "source": [
    "y_pred_lda = lda_model.predict(X_test_lda)\n",
    "# y_pred_lda = lda_model.predict_proba(X_test_lda)\n",
    "train_score = lda_model.score(X_train_lda, y_train_lda)\n",
    "print(\"Train score: \", train_score)"
   ]
  },
  {
   "cell_type": "code",
   "execution_count": 54,
   "metadata": {},
   "outputs": [
    {
     "name": "stdout",
     "output_type": "stream",
     "text": [
      "Confusion matrix:  [[ 18  36]\n",
      " [ 24 114]]\n"
     ]
    }
   ],
   "source": [
    "cm = confusion_matrix(y_test_lda, y_pred_lda)\n",
    "print(\"Confusion matrix: \", cm)"
   ]
  },
  {
   "cell_type": "markdown",
   "metadata": {},
   "source": [
    "<h3>Q.10. What is the accuracy of the new model?</h3>"
   ]
  },
  {
   "cell_type": "code",
   "execution_count": 55,
   "metadata": {},
   "outputs": [
    {
     "data": {
      "text/plain": [
       "0.6875"
      ]
     },
     "execution_count": 55,
     "metadata": {},
     "output_type": "execute_result"
    }
   ],
   "source": [
    "accuracy_score(y_test_lda, y_pred_lda)"
   ]
  },
  {
   "cell_type": "code",
   "execution_count": 56,
   "metadata": {},
   "outputs": [
    {
     "data": {
      "image/png": "[encoded data removed]",
      "text/plain": [
       "<Figure size 640x480 with 1 Axes>"
      ]
     },
     "metadata": {},
     "output_type": "display_data"
    }
   ],
   "source": [
    "fpr, tpr, thresholds = metrics.roc_curve(y_test_lda, y_pred_lda)\n",
    "roc_auc = metrics.auc(fpr, tpr)\n",
    "display = metrics.RocCurveDisplay(fpr=fpr, tpr=tpr, roc_auc=roc_auc, estimator_name='ROC Curve: LDA')\n",
    "display.plot()\n",
    "plt.show()"
   ]
  },
  {
   "cell_type": "code",
   "execution_count": 79,
   "metadata": {},
   "outputs": [
    {
     "data": {
      "text/html": [
       "<table class=\"simpletable\">\n",
       "<caption>OLS Regression Results</caption>\n",
       "<tr>\n",
       "  <th>Dep. Variable:</th>          <td>Class</td>      <th>  R-squared (uncentered):</th>      <td>   0.751</td> \n",
       "</tr>\n",
       "<tr>\n",
       "  <th>Model:</th>                   <td>OLS</td>       <th>  Adj. R-squared (uncentered):</th> <td>   0.746</td> \n",
       "</tr>\n",
       "<tr>\n",
       "  <th>Method:</th>             <td>Least Squares</td>  <th>  F-statistic:       </th>          <td>   149.0</td> \n",
       "</tr>\n",
       "<tr>\n",
       "  <th>Date:</th>             <td>Tue, 21 Feb 2023</td> <th>  Prob (F-statistic):</th>          <td>6.70e-226</td>\n",
       "</tr>\n",
       "<tr>\n",
       "  <th>Time:</th>                 <td>14:59:08</td>     <th>  Log-Likelihood:    </th>          <td> -438.82</td> \n",
       "</tr>\n",
       "<tr>\n",
       "  <th>No. Observations:</th>      <td>   808</td>      <th>  AIC:               </th>          <td>   909.6</td> \n",
       "</tr>\n",
       "<tr>\n",
       "  <th>Df Residuals:</th>          <td>   792</td>      <th>  BIC:               </th>          <td>   984.8</td> \n",
       "</tr>\n",
       "<tr>\n",
       "  <th>Df Model:</th>              <td>    16</td>      <th>                     </th>              <td> </td>    \n",
       "</tr>\n",
       "<tr>\n",
       "  <th>Covariance Type:</th>      <td>nonrobust</td>    <th>                     </th>              <td> </td>    \n",
       "</tr>\n",
       "</table>\n",
       "<table class=\"simpletable\">\n",
       "<tr>\n",
       "                 <td></td>                   <th>coef</th>     <th>std err</th>      <th>t</th>      <th>P>|t|</th>  <th>[0.025</th>    <th>0.975]</th>  \n",
       "</tr>\n",
       "<tr>\n",
       "  <th>Duration</th>                       <td>   -0.0045</td> <td>    0.002</td> <td>   -2.597</td> <td> 0.010</td> <td>   -0.008</td> <td>   -0.001</td>\n",
       "</tr>\n",
       "<tr>\n",
       "  <th>Amount</th>                         <td> -2.43e-06</td> <td> 7.79e-06</td> <td>   -0.312</td> <td> 0.755</td> <td>-1.77e-05</td> <td> 1.29e-05</td>\n",
       "</tr>\n",
       "<tr>\n",
       "  <th>InstallmentRatePercentage</th>      <td>   -0.0166</td> <td>    0.014</td> <td>   -1.151</td> <td> 0.250</td> <td>   -0.045</td> <td>    0.012</td>\n",
       "</tr>\n",
       "<tr>\n",
       "  <th>ResidenceDuration</th>              <td>    0.0257</td> <td>    0.014</td> <td>    1.879</td> <td> 0.061</td> <td>   -0.001</td> <td>    0.053</td>\n",
       "</tr>\n",
       "<tr>\n",
       "  <th>Age</th>                            <td>    0.0036</td> <td>    0.001</td> <td>    2.597</td> <td> 0.010</td> <td>    0.001</td> <td>    0.006</td>\n",
       "</tr>\n",
       "<tr>\n",
       "  <th>NumberExistingCredits</th>          <td>    0.0469</td> <td>    0.030</td> <td>    1.573</td> <td> 0.116</td> <td>   -0.012</td> <td>    0.105</td>\n",
       "</tr>\n",
       "<tr>\n",
       "  <th>NumberPeopleMaintenance</th>        <td>    0.0907</td> <td>    0.041</td> <td>    2.236</td> <td> 0.026</td> <td>    0.011</td> <td>    0.170</td>\n",
       "</tr>\n",
       "<tr>\n",
       "  <th>Telephone</th>                      <td>   -0.0049</td> <td>    0.031</td> <td>   -0.157</td> <td> 0.875</td> <td>   -0.066</td> <td>    0.056</td>\n",
       "</tr>\n",
       "<tr>\n",
       "  <th>ForeignWorker</th>                  <td>    0.0896</td> <td>    0.069</td> <td>    1.295</td> <td> 0.196</td> <td>   -0.046</td> <td>    0.225</td>\n",
       "</tr>\n",
       "<tr>\n",
       "  <th>CheckingAccountStatus.lt.0</th>     <td>   -0.3363</td> <td>    0.037</td> <td>   -9.020</td> <td> 0.000</td> <td>   -0.409</td> <td>   -0.263</td>\n",
       "</tr>\n",
       "<tr>\n",
       "  <th>CheckingAccountStatus.0.to.200</th> <td>   -0.1767</td> <td>    0.038</td> <td>   -4.639</td> <td> 0.000</td> <td>   -0.251</td> <td>   -0.102</td>\n",
       "</tr>\n",
       "<tr>\n",
       "  <th>CheckingAccountStatus.gt.200</th>   <td>   -0.0915</td> <td>    0.062</td> <td>   -1.476</td> <td> 0.140</td> <td>   -0.213</td> <td>    0.030</td>\n",
       "</tr>\n",
       "<tr>\n",
       "  <th>CreditHistory.ThisBank.AllPaid</th> <td>    0.3313</td> <td>    0.093</td> <td>    3.564</td> <td> 0.000</td> <td>    0.149</td> <td>    0.514</td>\n",
       "</tr>\n",
       "<tr>\n",
       "  <th>CreditHistory.PaidDuly</th>         <td>    0.5491</td> <td>    0.064</td> <td>    8.519</td> <td> 0.000</td> <td>    0.423</td> <td>    0.676</td>\n",
       "</tr>\n",
       "<tr>\n",
       "  <th>CreditHistory.Delay</th>            <td>    0.4971</td> <td>    0.082</td> <td>    6.094</td> <td> 0.000</td> <td>    0.337</td> <td>    0.657</td>\n",
       "</tr>\n",
       "<tr>\n",
       "  <th>CreditHistory.Critical</th>         <td>    0.6012</td> <td>    0.071</td> <td>    8.519</td> <td> 0.000</td> <td>    0.463</td> <td>    0.740</td>\n",
       "</tr>\n",
       "</table>\n",
       "<table class=\"simpletable\">\n",
       "<tr>\n",
       "  <th>Omnibus:</th>       <td>56.112</td> <th>  Durbin-Watson:     </th> <td>   2.070</td>\n",
       "</tr>\n",
       "<tr>\n",
       "  <th>Prob(Omnibus):</th> <td> 0.000</td> <th>  Jarque-Bera (JB):  </th> <td>  53.461</td>\n",
       "</tr>\n",
       "<tr>\n",
       "  <th>Skew:</th>          <td>-0.572</td> <th>  Prob(JB):          </th> <td>2.46e-12</td>\n",
       "</tr>\n",
       "<tr>\n",
       "  <th>Kurtosis:</th>      <td> 2.472</td> <th>  Cond. No.          </th> <td>3.92e+04</td>\n",
       "</tr>\n",
       "</table><br/><br/>Notes:<br/>[1] R² is computed without centering (uncentered) since the model does not contain a constant.<br/>[2] Standard Errors assume that the covariance matrix of the errors is correctly specified.<br/>[3] The condition number is large, 3.92e+04. This might indicate that there are<br/>strong multicollinearity or other numerical problems."
      ],
      "text/plain": [
       "<class 'statsmodels.iolib.summary.Summary'>\n",
       "\"\"\"\n",
       "                                 OLS Regression Results                                \n",
       "=======================================================================================\n",
       "Dep. Variable:                  Class   R-squared (uncentered):                   0.751\n",
       "Model:                            OLS   Adj. R-squared (uncentered):              0.746\n",
       "Method:                 Least Squares   F-statistic:                              149.0\n",
       "Date:                Tue, 21 Feb 2023   Prob (F-statistic):                   6.70e-226\n",
       "Time:                        14:59:08   Log-Likelihood:                         -438.82\n",
       "No. Observations:                 808   AIC:                                      909.6\n",
       "Df Residuals:                     792   BIC:                                      984.8\n",
       "Df Model:                          16                                                  \n",
       "Covariance Type:            nonrobust                                                  \n",
       "==================================================================================================\n",
       "                                     coef    std err          t      P>|t|      [0.025      0.975]\n",
       "--------------------------------------------------------------------------------------------------\n",
       "Duration                          -0.0045      0.002     -2.597      0.010      -0.008      -0.001\n",
       "Amount                          -2.43e-06   7.79e-06     -0.312      0.755   -1.77e-05    1.29e-05\n",
       "InstallmentRatePercentage         -0.0166      0.014     -1.151      0.250      -0.045       0.012\n",
       "ResidenceDuration                  0.0257      0.014      1.879      0.061      -0.001       0.053\n",
       "Age                                0.0036      0.001      2.597      0.010       0.001       0.006\n",
       "NumberExistingCredits              0.0469      0.030      1.573      0.116      -0.012       0.105\n",
       "NumberPeopleMaintenance            0.0907      0.041      2.236      0.026       0.011       0.170\n",
       "Telephone                         -0.0049      0.031     -0.157      0.875      -0.066       0.056\n",
       "ForeignWorker                      0.0896      0.069      1.295      0.196      -0.046       0.225\n",
       "CheckingAccountStatus.lt.0        -0.3363      0.037     -9.020      0.000      -0.409      -0.263\n",
       "CheckingAccountStatus.0.to.200    -0.1767      0.038     -4.639      0.000      -0.251      -0.102\n",
       "CheckingAccountStatus.gt.200      -0.0915      0.062     -1.476      0.140      -0.213       0.030\n",
       "CreditHistory.ThisBank.AllPaid     0.3313      0.093      3.564      0.000       0.149       0.514\n",
       "CreditHistory.PaidDuly             0.5491      0.064      8.519      0.000       0.423       0.676\n",
       "CreditHistory.Delay                0.4971      0.082      6.094      0.000       0.337       0.657\n",
       "CreditHistory.Critical             0.6012      0.071      8.519      0.000       0.463       0.740\n",
       "==============================================================================\n",
       "Omnibus:                       56.112   Durbin-Watson:                   2.070\n",
       "Prob(Omnibus):                  0.000   Jarque-Bera (JB):               53.461\n",
       "Skew:                          -0.572   Prob(JB):                     2.46e-12\n",
       "Kurtosis:                       2.472   Cond. No.                     3.92e+04\n",
       "==============================================================================\n",
       "\n",
       "Notes:\n",
       "[1] R² is computed without centering (uncentered) since the model does not contain a constant.\n",
       "[2] Standard Errors assume that the covariance matrix of the errors is correctly specified.\n",
       "[3] The condition number is large, 3.92e+04. This might indicate that there are\n",
       "strong multicollinearity or other numerical problems.\n",
       "\"\"\""
      ]
     },
     "execution_count": 79,
     "metadata": {},
     "output_type": "execute_result"
    }
   ],
   "source": [
    "# Calculating p-values, code obtained from: https://stackoverflow.com/questions/27928275/find-p-value-significance-in-scikit-learn-linearregression\n",
    "import numpy as np\n",
    "import statsmodels.api as sm\n",
    "from scipy import stats\n",
    "\n",
    "X = X_train_lda\n",
    "y = y_train_lda\n",
    "\n",
    "mod = sm.OLS(y,X)\n",
    "fii = mod.fit()"
   ]
  },
  {
   "cell_type": "code",
   "execution_count": 95,
   "metadata": {},
   "outputs": [
    {
     "data": {
      "text/html": [
       "<div>\n",
       "<style scoped>\n",
       "    .dataframe tbody tr th:only-of-type {\n",
       "        vertical-align: middle;\n",
       "    }\n",
       "\n",
       "    .dataframe tbody tr th {\n",
       "        vertical-align: top;\n",
       "    }\n",
       "\n",
       "    .dataframe thead th {\n",
       "        text-align: right;\n",
       "    }\n",
       "</style>\n",
       "<table border=\"1\" class=\"dataframe\">\n",
       "  <thead>\n",
       "    <tr style=\"text-align: right;\">\n",
       "      <th></th>\n",
       "      <th>coef</th>\n",
       "      <th>std err</th>\n",
       "      <th>t</th>\n",
       "      <th>P&gt;|t|</th>\n",
       "      <th>[0.025</th>\n",
       "      <th>0.975]</th>\n",
       "    </tr>\n",
       "  </thead>\n",
       "  <tbody>\n",
       "    <tr>\n",
       "      <th>Duration</th>\n",
       "      <td>-0.0045</td>\n",
       "      <td>0.002</td>\n",
       "      <td>-2.597</td>\n",
       "      <td>0.010</td>\n",
       "      <td>-0.008</td>\n",
       "      <td>-0.001</td>\n",
       "    </tr>\n",
       "    <tr>\n",
       "      <th>Age</th>\n",
       "      <td>0.0036</td>\n",
       "      <td>0.001</td>\n",
       "      <td>2.597</td>\n",
       "      <td>0.010</td>\n",
       "      <td>0.001</td>\n",
       "      <td>0.006</td>\n",
       "    </tr>\n",
       "    <tr>\n",
       "      <th>NumberPeopleMaintenance</th>\n",
       "      <td>0.0907</td>\n",
       "      <td>0.041</td>\n",
       "      <td>2.236</td>\n",
       "      <td>0.026</td>\n",
       "      <td>0.011</td>\n",
       "      <td>0.170</td>\n",
       "    </tr>\n",
       "    <tr>\n",
       "      <th>CheckingAccountStatus.lt.0</th>\n",
       "      <td>-0.3363</td>\n",
       "      <td>0.037</td>\n",
       "      <td>-9.020</td>\n",
       "      <td>0.000</td>\n",
       "      <td>-0.409</td>\n",
       "      <td>-0.263</td>\n",
       "    </tr>\n",
       "    <tr>\n",
       "      <th>CheckingAccountStatus.0.to.200</th>\n",
       "      <td>-0.1767</td>\n",
       "      <td>0.038</td>\n",
       "      <td>-4.639</td>\n",
       "      <td>0.000</td>\n",
       "      <td>-0.251</td>\n",
       "      <td>-0.102</td>\n",
       "    </tr>\n",
       "    <tr>\n",
       "      <th>CreditHistory.ThisBank.AllPaid</th>\n",
       "      <td>0.3313</td>\n",
       "      <td>0.093</td>\n",
       "      <td>3.564</td>\n",
       "      <td>0.000</td>\n",
       "      <td>0.149</td>\n",
       "      <td>0.514</td>\n",
       "    </tr>\n",
       "    <tr>\n",
       "      <th>CreditHistory.PaidDuly</th>\n",
       "      <td>0.5491</td>\n",
       "      <td>0.064</td>\n",
       "      <td>8.519</td>\n",
       "      <td>0.000</td>\n",
       "      <td>0.423</td>\n",
       "      <td>0.676</td>\n",
       "    </tr>\n",
       "    <tr>\n",
       "      <th>CreditHistory.Delay</th>\n",
       "      <td>0.4971</td>\n",
       "      <td>0.082</td>\n",
       "      <td>6.094</td>\n",
       "      <td>0.000</td>\n",
       "      <td>0.337</td>\n",
       "      <td>0.657</td>\n",
       "    </tr>\n",
       "    <tr>\n",
       "      <th>CreditHistory.Critical</th>\n",
       "      <td>0.6012</td>\n",
       "      <td>0.071</td>\n",
       "      <td>8.519</td>\n",
       "      <td>0.000</td>\n",
       "      <td>0.463</td>\n",
       "      <td>0.740</td>\n",
       "    </tr>\n",
       "  </tbody>\n",
       "</table>\n",
       "</div>"
      ],
      "text/plain": [
       "                                  coef  std err      t  P>|t|  [0.025  0.975]\n",
       "Duration                       -0.0045    0.002 -2.597  0.010  -0.008  -0.001\n",
       "Age                             0.0036    0.001  2.597  0.010   0.001   0.006\n",
       "NumberPeopleMaintenance         0.0907    0.041  2.236  0.026   0.011   0.170\n",
       "CheckingAccountStatus.lt.0     -0.3363    0.037 -9.020  0.000  -0.409  -0.263\n",
       "CheckingAccountStatus.0.to.200 -0.1767    0.038 -4.639  0.000  -0.251  -0.102\n",
       "CreditHistory.ThisBank.AllPaid  0.3313    0.093  3.564  0.000   0.149   0.514\n",
       "CreditHistory.PaidDuly          0.5491    0.064  8.519  0.000   0.423   0.676\n",
       "CreditHistory.Delay             0.4971    0.082  6.094  0.000   0.337   0.657\n",
       "CreditHistory.Critical          0.6012    0.071  8.519  0.000   0.463   0.740"
      ]
     },
     "execution_count": 95,
     "metadata": {},
     "output_type": "execute_result"
    }
   ],
   "source": [
    "results_as_html = fii.summary().tables[1].as_html()\n",
    "results = pd.read_html(results_as_html, header=0, index_col=0)[0]\n",
    "results[results['P>|t|'] < 0.05] "
   ]
  },
  {
   "cell_type": "code",
   "execution_count": 97,
   "metadata": {},
   "outputs": [
    {
     "data": {
      "text/html": [
       "<div>\n",
       "<style scoped>\n",
       "    .dataframe tbody tr th:only-of-type {\n",
       "        vertical-align: middle;\n",
       "    }\n",
       "\n",
       "    .dataframe tbody tr th {\n",
       "        vertical-align: top;\n",
       "    }\n",
       "\n",
       "    .dataframe thead th {\n",
       "        text-align: right;\n",
       "    }\n",
       "</style>\n",
       "<table border=\"1\" class=\"dataframe\">\n",
       "  <thead>\n",
       "    <tr style=\"text-align: right;\">\n",
       "      <th></th>\n",
       "      <th>coef</th>\n",
       "      <th>std err</th>\n",
       "      <th>t</th>\n",
       "      <th>P&gt;|t|</th>\n",
       "      <th>[0.025</th>\n",
       "      <th>0.975]</th>\n",
       "    </tr>\n",
       "  </thead>\n",
       "  <tbody>\n",
       "    <tr>\n",
       "      <th>Amount</th>\n",
       "      <td>-0.000002</td>\n",
       "      <td>0.000008</td>\n",
       "      <td>-0.312</td>\n",
       "      <td>0.755</td>\n",
       "      <td>-0.000018</td>\n",
       "      <td>0.000013</td>\n",
       "    </tr>\n",
       "    <tr>\n",
       "      <th>InstallmentRatePercentage</th>\n",
       "      <td>-0.016600</td>\n",
       "      <td>0.014000</td>\n",
       "      <td>-1.151</td>\n",
       "      <td>0.250</td>\n",
       "      <td>-0.045000</td>\n",
       "      <td>0.012000</td>\n",
       "    </tr>\n",
       "    <tr>\n",
       "      <th>ResidenceDuration</th>\n",
       "      <td>0.025700</td>\n",
       "      <td>0.014000</td>\n",
       "      <td>1.879</td>\n",
       "      <td>0.061</td>\n",
       "      <td>-0.001000</td>\n",
       "      <td>0.053000</td>\n",
       "    </tr>\n",
       "    <tr>\n",
       "      <th>NumberExistingCredits</th>\n",
       "      <td>0.046900</td>\n",
       "      <td>0.030000</td>\n",
       "      <td>1.573</td>\n",
       "      <td>0.116</td>\n",
       "      <td>-0.012000</td>\n",
       "      <td>0.105000</td>\n",
       "    </tr>\n",
       "    <tr>\n",
       "      <th>Telephone</th>\n",
       "      <td>-0.004900</td>\n",
       "      <td>0.031000</td>\n",
       "      <td>-0.157</td>\n",
       "      <td>0.875</td>\n",
       "      <td>-0.066000</td>\n",
       "      <td>0.056000</td>\n",
       "    </tr>\n",
       "    <tr>\n",
       "      <th>ForeignWorker</th>\n",
       "      <td>0.089600</td>\n",
       "      <td>0.069000</td>\n",
       "      <td>1.295</td>\n",
       "      <td>0.196</td>\n",
       "      <td>-0.046000</td>\n",
       "      <td>0.225000</td>\n",
       "    </tr>\n",
       "    <tr>\n",
       "      <th>CheckingAccountStatus.gt.200</th>\n",
       "      <td>-0.091500</td>\n",
       "      <td>0.062000</td>\n",
       "      <td>-1.476</td>\n",
       "      <td>0.140</td>\n",
       "      <td>-0.213000</td>\n",
       "      <td>0.030000</td>\n",
       "    </tr>\n",
       "  </tbody>\n",
       "</table>\n",
       "</div>"
      ],
      "text/plain": [
       "                                  coef   std err      t  P>|t|    [0.025  \\\n",
       "Amount                       -0.000002  0.000008 -0.312  0.755 -0.000018   \n",
       "InstallmentRatePercentage    -0.016600  0.014000 -1.151  0.250 -0.045000   \n",
       "ResidenceDuration             0.025700  0.014000  1.879  0.061 -0.001000   \n",
       "NumberExistingCredits         0.046900  0.030000  1.573  0.116 -0.012000   \n",
       "Telephone                    -0.004900  0.031000 -0.157  0.875 -0.066000   \n",
       "ForeignWorker                 0.089600  0.069000  1.295  0.196 -0.046000   \n",
       "CheckingAccountStatus.gt.200 -0.091500  0.062000 -1.476  0.140 -0.213000   \n",
       "\n",
       "                                0.975]  \n",
       "Amount                        0.000013  \n",
       "InstallmentRatePercentage     0.012000  \n",
       "ResidenceDuration             0.053000  \n",
       "NumberExistingCredits         0.105000  \n",
       "Telephone                     0.056000  \n",
       "ForeignWorker                 0.225000  \n",
       "CheckingAccountStatus.gt.200  0.030000  "
      ]
     },
     "execution_count": 97,
     "metadata": {},
     "output_type": "execute_result"
    }
   ],
   "source": [
    "results[results['P>|t|'] >= 0.05] "
   ]
  },
  {
   "cell_type": "code",
   "execution_count": null,
   "metadata": {},
   "outputs": [],
   "source": [
    "# Some more data exploration\n",
    "sn.pairplot(credit_train, hue = 'Class')"
   ]
  },
  {
   "cell_type": "code",
   "execution_count": 119,
   "metadata": {},
   "outputs": [
    {
     "data": {
      "image/png": "[encoded data removed]",
      "text/plain": [
       "<Figure size 640x480 with 1 Axes>"
      ]
     },
     "metadata": {},
     "output_type": "display_data"
    }
   ],
   "source": [
    "# LDA assumes observations within each class have Gaussian distribution, checking for it below with predictors having continuous values\n",
    "sn.histplot(data=credit_train, x=\"InstallmentRatePercentage\", color=\"gray\", label=\"InstallmentRatePercentage\", kde=True)\n",
    "sn.histplot(data=credit_train, x=\"ResidenceDuration\", color=\"bisque\", label=\"ResidenceDuration\", kde=True)\n",
    "sn.histplot(data=credit_train, x=\"NumberExistingCredits\", color=\"lawngreen\", label=\"NumberExistingCredits\", kde=True)\n",
    "sn.histplot(data=credit_train, x=\"NumberPeopleMaintenance\", color=\"fuchsia\", label=\"NumberPeopleMaintenance\", kde=True)\n",
    "plt.legend() \n",
    "plt.show()"
   ]
  },
  {
   "cell_type": "code",
   "execution_count": 121,
   "metadata": {},
   "outputs": [
    {
     "data": {
      "image/png": "[encoded data removed]",
      "text/plain": [
       "<Figure size 640x480 with 1 Axes>"
      ]
     },
     "metadata": {},
     "output_type": "display_data"
    }
   ],
   "source": [
    "sn.histplot(data=credit_train, x=\"Age\", color=\"skyblue\", label=\"Age\", kde=True)\n",
    "sn.histplot(data=credit_train, x=\"Duration\", color=\"black\", label=\"Duration\", kde=True)\n",
    "plt.legend() \n",
    "plt.show()"
   ]
  },
  {
   "cell_type": "code",
   "execution_count": 132,
   "metadata": {},
   "outputs": [
    {
     "name": "stdout",
     "output_type": "stream",
     "text": [
      "Class  does not look Gaussian (reject H0)\n",
      "Duration  does not look Gaussian (reject H0)\n",
      "Amount  does not look Gaussian (reject H0)\n",
      "InstallmentRatePercentage  does not look Gaussian (reject H0)\n",
      "ResidenceDuration  does not look Gaussian (reject H0)\n",
      "Age  does not look Gaussian (reject H0)\n",
      "NumberExistingCredits  does not look Gaussian (reject H0)\n",
      "NumberPeopleMaintenance  does not look Gaussian (reject H0)\n",
      "Telephone  does not look Gaussian (reject H0)\n",
      "ForeignWorker  does not look Gaussian (reject H0)\n",
      "CheckingAccountStatus.lt.0  does not look Gaussian (reject H0)\n",
      "CheckingAccountStatus.0.to.200  does not look Gaussian (reject H0)\n",
      "CheckingAccountStatus.gt.200  does not look Gaussian (reject H0)\n",
      "CreditHistory.ThisBank.AllPaid  does not look Gaussian (reject H0)\n",
      "CreditHistory.PaidDuly  does not look Gaussian (reject H0)\n",
      "CreditHistory.Delay  does not look Gaussian (reject H0)\n",
      "CreditHistory.Critical  does not look Gaussian (reject H0)\n"
     ]
    }
   ],
   "source": [
    "from scipy.stats import normaltest\n",
    "from numpy.random import seed\n",
    "\n",
    "seed(1)\n",
    "alpha = 0.05\n",
    "# normality test\n",
    "for (name,data) in credit_train.iteritems():\n",
    "    stat, p = normaltest(data.values.tolist())\n",
    "#     print('Statistics=%.3f, p=%.3f' % (stat, p))\n",
    "    # interpret\n",
    "    if p > alpha:\n",
    "         print(name, ' looks Gaussian (fail to reject H0)')\n",
    "    else:\n",
    "         print(name, ' does not look Gaussian (reject H0)')\n",
    "            \n",
    "# Source: https://machinelearningmastery.com/a-gentle-introduction-to-normality-tests-in-python/"
   ]
  },
  {
   "cell_type": "markdown",
   "metadata": {},
   "source": [
    "<h3>Q.11. Create a new text cell in your Notebook: Complete a 50-100 word summary \n",
    "    (or short description of your thinking in applying this week's learning to the solution) \n",
    "     of your experience in this assignment. Include:\n",
    "<br>                                                                       \n",
    "What was your incoming experience with this model, if any?\n",
    "what steps you took, what obstacles you encountered.\n",
    "how you link this exercise to real-world, machine learning problem-solving. (What steps were missing? What else do you need to learn?)\n",
    "This summary allows your instructor to know how you are doing and allot points for your effort in thinking and planning, and making connections to real-world work.\n",
    "</h3>"
   ]
  },
  {
   "cell_type": "markdown",
   "metadata": {
    "collapsed": true
   },
   "source": [
    "Incoming experience: I had no incoming experience\n",
    "\n",
    "Steps I took: I tried to follow the recommended steps (Assignment, Kaggle and the text book) i.e. understand the data and data exploration, transform the data if needed, feature selection, fit, predict, evaluate the model.\n",
    "\n",
    "Obstacles encountered: Nothing major, some problems were transforming data types to what the functions' require, exploring different functions within sklearn, scipy, numpy, stats etc.\n",
    "\n",
    "Link to real world: I'm learning how to approach solving a problem with a data set using machine learning. The main take away so far has been the structure I see that is being followed mentioned under 'Steps I took'.\n",
    "\n",
    "Missing steps: I think we can do more data exploration, check p-values for combinations of predictors to check if they affect the output more, check if assumptions for the particular model are met with regards to the dataset. We can also drop certain features, for example foreign worker and telephone. Transforming input data with log, sqrt etc functions might normally distribute the data too (?). Also, would help to evaluate different classifiers for the same dataset.\n",
    "\n",
    "Comments on LDA for this dataset:\n",
    "1. Normal distribution test fails for predictors and LDA assumes normal distribution for X. LDA might not be a good classifier for this dataset.\n",
    "2. Off the classifiers learnt so far, KNN might work the best since it does not assume any distributions.\n",
    "3. p-values suggest duration, age, credit history, checking account status, no.of people liable for maintenance of credit are important predictors where as amount, installment rate percentage, number of existing credits are not which intuitively in the real world doesn't make sense. I would expect amount, installment rate percentage, number of existing credits to have an impact on the output class."
   ]
  }
 ],
 "metadata": {
  "kernelspec": {
   "display_name": "Python 3 (ipykernel)",
   "language": "python",
   "name": "python3"
  },
  "language_info": {
   "codemirror_mode": {
    "name": "ipython",
    "version": 3
   },
   "file_extension": ".py",
   "mimetype": "text/x-python",
   "name": "python",
   "nbconvert_exporter": "python",
   "pygments_lexer": "ipython3",
   "version": "3.9.13"
  }
 },
 "nbformat": 4,
 "nbformat_minor": 2
}
