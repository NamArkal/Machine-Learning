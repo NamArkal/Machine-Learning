{
 "cells": [
  {
   "cell_type": "markdown",
   "id": "c8c258ac",
   "metadata": {},
   "source": [
    "# Predictive Maintenance "
   ]
  },
  {
   "cell_type": "markdown",
   "id": "33b29ead",
   "metadata": {},
   "source": [
    "This assignment covers the topic of predictive maintenance. Predictive Maintenance problems adress predicting when a machine needs to be maintained ahead of breaking down. This problem can occur anywhere regular maintenance is required for a machine. For example, it can be used in manufacturing, fleet operations, train maintenance, etc."
   ]
  },
  {
   "cell_type": "markdown",
   "id": "662254fd",
   "metadata": {},
   "source": [
    "This assignment will use the [Predictive Maintenance Dataset](https://archive.ics.uci.edu/ml/datasets/AI4I+2020+Predictive+Maintenance+Dataset). The dataset consists of 10 000 data points stored as rows with 14 features in columns. The 'machine failure' label that indicates, whether the machine has failed in this particular datapoint."
   ]
  },
  {
   "cell_type": "markdown",
   "id": "d65b1ff9",
   "metadata": {},
   "source": [
    "# Learning Objectives\n",
    "- Perform model tuning based on hyper parameters.\n",
    "- Select the best model after attempting multiple models.\n",
    "- Perform recursive feature elimination, producing a statistically significant improvement over a model without feature selection."
   ]
  },
  {
   "cell_type": "code",
   "execution_count": 2,
   "id": "2cbdc19b",
   "metadata": {},
   "outputs": [
    {
     "name": "stdout",
     "output_type": "stream",
     "text": [
      "<class 'pandas.core.frame.DataFrame'>\n",
      "RangeIndex: 10000 entries, 0 to 9999\n",
      "Data columns (total 9 columns):\n",
      "UDI                        10000 non-null int64\n",
      "Product ID                 10000 non-null object\n",
      "Type                       10000 non-null object\n",
      "Air temperature [K]        10000 non-null object\n",
      "Process temperature [K]    10000 non-null object\n",
      "Rotational speed [rpm]     10000 non-null int64\n",
      "Torque [Nm]                10000 non-null float64\n",
      "Tool wear [min]            10000 non-null int64\n",
      "Machine failure            10000 non-null int64\n",
      "dtypes: float64(1), int64(4), object(4)\n",
      "memory usage: 703.2+ KB\n",
      "None\n"
     ]
    },
    {
     "data": {
      "text/html": [
       "<div>\n",
       "<style scoped>\n",
       "    .dataframe tbody tr th:only-of-type {\n",
       "        vertical-align: middle;\n",
       "    }\n",
       "\n",
       "    .dataframe tbody tr th {\n",
       "        vertical-align: top;\n",
       "    }\n",
       "\n",
       "    .dataframe thead th {\n",
       "        text-align: right;\n",
       "    }\n",
       "</style>\n",
       "<table border=\"1\" class=\"dataframe\">\n",
       "  <thead>\n",
       "    <tr style=\"text-align: right;\">\n",
       "      <th></th>\n",
       "      <th>UDI</th>\n",
       "      <th>Product ID</th>\n",
       "      <th>Type</th>\n",
       "      <th>Air temperature [K]</th>\n",
       "      <th>Process temperature [K]</th>\n",
       "      <th>Rotational speed [rpm]</th>\n",
       "      <th>Torque [Nm]</th>\n",
       "      <th>Tool wear [min]</th>\n",
       "      <th>Machine failure</th>\n",
       "    </tr>\n",
       "  </thead>\n",
       "  <tbody>\n",
       "    <tr>\n",
       "      <th>0</th>\n",
       "      <td>1</td>\n",
       "      <td>M14860</td>\n",
       "      <td>M</td>\n",
       "      <td>298.1</td>\n",
       "      <td>308.6</td>\n",
       "      <td>1551</td>\n",
       "      <td>42.8</td>\n",
       "      <td>0</td>\n",
       "      <td>0</td>\n",
       "    </tr>\n",
       "    <tr>\n",
       "      <th>1</th>\n",
       "      <td>2</td>\n",
       "      <td>L47181</td>\n",
       "      <td>L</td>\n",
       "      <td>298.2</td>\n",
       "      <td>308.7</td>\n",
       "      <td>1408</td>\n",
       "      <td>46.3</td>\n",
       "      <td>3</td>\n",
       "      <td>0</td>\n",
       "    </tr>\n",
       "    <tr>\n",
       "      <th>2</th>\n",
       "      <td>3</td>\n",
       "      <td>L47182</td>\n",
       "      <td>L</td>\n",
       "      <td>298.1</td>\n",
       "      <td>308.5</td>\n",
       "      <td>1498</td>\n",
       "      <td>49.4</td>\n",
       "      <td>5</td>\n",
       "      <td>0</td>\n",
       "    </tr>\n",
       "    <tr>\n",
       "      <th>3</th>\n",
       "      <td>4</td>\n",
       "      <td>L47183</td>\n",
       "      <td>L</td>\n",
       "      <td>298.2</td>\n",
       "      <td>308.6</td>\n",
       "      <td>1433</td>\n",
       "      <td>39.5</td>\n",
       "      <td>7</td>\n",
       "      <td>0</td>\n",
       "    </tr>\n",
       "    <tr>\n",
       "      <th>4</th>\n",
       "      <td>5</td>\n",
       "      <td>L47184</td>\n",
       "      <td>L</td>\n",
       "      <td>298.2</td>\n",
       "      <td>308.7</td>\n",
       "      <td>1408</td>\n",
       "      <td>40.0</td>\n",
       "      <td>9</td>\n",
       "      <td>0</td>\n",
       "    </tr>\n",
       "    <tr>\n",
       "      <th>5</th>\n",
       "      <td>6</td>\n",
       "      <td>M14865</td>\n",
       "      <td>M</td>\n",
       "      <td>298.1</td>\n",
       "      <td>308.6</td>\n",
       "      <td>1425</td>\n",
       "      <td>41.9</td>\n",
       "      <td>11</td>\n",
       "      <td>0</td>\n",
       "    </tr>\n",
       "    <tr>\n",
       "      <th>6</th>\n",
       "      <td>7</td>\n",
       "      <td>L47186</td>\n",
       "      <td>L</td>\n",
       "      <td>298.1</td>\n",
       "      <td>308.6</td>\n",
       "      <td>1558</td>\n",
       "      <td>42.4</td>\n",
       "      <td>14</td>\n",
       "      <td>0</td>\n",
       "    </tr>\n",
       "    <tr>\n",
       "      <th>7</th>\n",
       "      <td>8</td>\n",
       "      <td>L47187</td>\n",
       "      <td>L</td>\n",
       "      <td>298.1</td>\n",
       "      <td>308.6</td>\n",
       "      <td>1527</td>\n",
       "      <td>40.2</td>\n",
       "      <td>16</td>\n",
       "      <td>0</td>\n",
       "    </tr>\n",
       "    <tr>\n",
       "      <th>8</th>\n",
       "      <td>9</td>\n",
       "      <td>M14868</td>\n",
       "      <td>M</td>\n",
       "      <td>298.3</td>\n",
       "      <td>308.7</td>\n",
       "      <td>1667</td>\n",
       "      <td>28.6</td>\n",
       "      <td>18</td>\n",
       "      <td>0</td>\n",
       "    </tr>\n",
       "    <tr>\n",
       "      <th>9</th>\n",
       "      <td>10</td>\n",
       "      <td>M14869</td>\n",
       "      <td>M</td>\n",
       "      <td>298.5</td>\n",
       "      <td>309</td>\n",
       "      <td>1741</td>\n",
       "      <td>28.0</td>\n",
       "      <td>21</td>\n",
       "      <td>0</td>\n",
       "    </tr>\n",
       "    <tr>\n",
       "      <th>10</th>\n",
       "      <td>11</td>\n",
       "      <td>H29424</td>\n",
       "      <td>H</td>\n",
       "      <td>298.4</td>\n",
       "      <td>308.9</td>\n",
       "      <td>1782</td>\n",
       "      <td>23.9</td>\n",
       "      <td>24</td>\n",
       "      <td>0</td>\n",
       "    </tr>\n",
       "    <tr>\n",
       "      <th>11</th>\n",
       "      <td>12</td>\n",
       "      <td>H29425</td>\n",
       "      <td>H</td>\n",
       "      <td>298.6</td>\n",
       "      <td>309.1</td>\n",
       "      <td>1423</td>\n",
       "      <td>44.3</td>\n",
       "      <td>29</td>\n",
       "      <td>0</td>\n",
       "    </tr>\n",
       "    <tr>\n",
       "      <th>12</th>\n",
       "      <td>13</td>\n",
       "      <td>M14872</td>\n",
       "      <td>M</td>\n",
       "      <td>298.6</td>\n",
       "      <td>309.1</td>\n",
       "      <td>1339</td>\n",
       "      <td>51.1</td>\n",
       "      <td>34</td>\n",
       "      <td>0</td>\n",
       "    </tr>\n",
       "    <tr>\n",
       "      <th>13</th>\n",
       "      <td>14</td>\n",
       "      <td>M14873</td>\n",
       "      <td>M</td>\n",
       "      <td>298.6</td>\n",
       "      <td>309.2</td>\n",
       "      <td>1742</td>\n",
       "      <td>30.0</td>\n",
       "      <td>37</td>\n",
       "      <td>0</td>\n",
       "    </tr>\n",
       "    <tr>\n",
       "      <th>14</th>\n",
       "      <td>15</td>\n",
       "      <td>L47194</td>\n",
       "      <td>L</td>\n",
       "      <td>298.6</td>\n",
       "      <td>309.2</td>\n",
       "      <td>2035</td>\n",
       "      <td>19.6</td>\n",
       "      <td>40</td>\n",
       "      <td>0</td>\n",
       "    </tr>\n",
       "    <tr>\n",
       "      <th>15</th>\n",
       "      <td>16</td>\n",
       "      <td>L47195</td>\n",
       "      <td>L</td>\n",
       "      <td>298.6</td>\n",
       "      <td>309.2</td>\n",
       "      <td>1542</td>\n",
       "      <td>48.4</td>\n",
       "      <td>42</td>\n",
       "      <td>0</td>\n",
       "    </tr>\n",
       "    <tr>\n",
       "      <th>16</th>\n",
       "      <td>17</td>\n",
       "      <td>M14876</td>\n",
       "      <td>M</td>\n",
       "      <td>298.6</td>\n",
       "      <td>309.2</td>\n",
       "      <td>1311</td>\n",
       "      <td>46.6</td>\n",
       "      <td>44</td>\n",
       "      <td>0</td>\n",
       "    </tr>\n",
       "    <tr>\n",
       "      <th>17</th>\n",
       "      <td>18</td>\n",
       "      <td>M14877</td>\n",
       "      <td>M</td>\n",
       "      <td>298.7</td>\n",
       "      <td>309.2</td>\n",
       "      <td>1410</td>\n",
       "      <td>45.6</td>\n",
       "      <td>47</td>\n",
       "      <td>0</td>\n",
       "    </tr>\n",
       "    <tr>\n",
       "      <th>18</th>\n",
       "      <td>19</td>\n",
       "      <td>H29432</td>\n",
       "      <td>H</td>\n",
       "      <td>298.8</td>\n",
       "      <td>309.2</td>\n",
       "      <td>1306</td>\n",
       "      <td>54.5</td>\n",
       "      <td>50</td>\n",
       "      <td>0</td>\n",
       "    </tr>\n",
       "    <tr>\n",
       "      <th>19</th>\n",
       "      <td>20</td>\n",
       "      <td>M14879</td>\n",
       "      <td>M</td>\n",
       "      <td>298.9</td>\n",
       "      <td>309.3</td>\n",
       "      <td>1632</td>\n",
       "      <td>32.5</td>\n",
       "      <td>55</td>\n",
       "      <td>0</td>\n",
       "    </tr>\n",
       "  </tbody>\n",
       "</table>\n",
       "</div>"
      ],
      "text/plain": [
       "    UDI Product ID Type Air temperature [K] Process temperature [K]  \\\n",
       "0     1     M14860    M               298.1                   308.6   \n",
       "1     2     L47181    L               298.2                   308.7   \n",
       "2     3     L47182    L               298.1                   308.5   \n",
       "3     4     L47183    L               298.2                   308.6   \n",
       "4     5     L47184    L               298.2                   308.7   \n",
       "5     6     M14865    M               298.1                   308.6   \n",
       "6     7     L47186    L               298.1                   308.6   \n",
       "7     8     L47187    L               298.1                   308.6   \n",
       "8     9     M14868    M               298.3                   308.7   \n",
       "9    10     M14869    M               298.5                     309   \n",
       "10   11     H29424    H               298.4                   308.9   \n",
       "11   12     H29425    H               298.6                   309.1   \n",
       "12   13     M14872    M               298.6                   309.1   \n",
       "13   14     M14873    M               298.6                   309.2   \n",
       "14   15     L47194    L               298.6                   309.2   \n",
       "15   16     L47195    L               298.6                   309.2   \n",
       "16   17     M14876    M               298.6                   309.2   \n",
       "17   18     M14877    M               298.7                   309.2   \n",
       "18   19     H29432    H               298.8                   309.2   \n",
       "19   20     M14879    M               298.9                   309.3   \n",
       "\n",
       "    Rotational speed [rpm]  Torque [Nm]  Tool wear [min]  Machine failure  \n",
       "0                     1551         42.8                0                0  \n",
       "1                     1408         46.3                3                0  \n",
       "2                     1498         49.4                5                0  \n",
       "3                     1433         39.5                7                0  \n",
       "4                     1408         40.0                9                0  \n",
       "5                     1425         41.9               11                0  \n",
       "6                     1558         42.4               14                0  \n",
       "7                     1527         40.2               16                0  \n",
       "8                     1667         28.6               18                0  \n",
       "9                     1741         28.0               21                0  \n",
       "10                    1782         23.9               24                0  \n",
       "11                    1423         44.3               29                0  \n",
       "12                    1339         51.1               34                0  \n",
       "13                    1742         30.0               37                0  \n",
       "14                    2035         19.6               40                0  \n",
       "15                    1542         48.4               42                0  \n",
       "16                    1311         46.6               44                0  \n",
       "17                    1410         45.6               47                0  \n",
       "18                    1306         54.5               50                0  \n",
       "19                    1632         32.5               55                0  "
      ]
     },
     "execution_count": 2,
     "metadata": {},
     "output_type": "execute_result"
    }
   ],
   "source": [
    "import pandas as pd\n",
    "import numpy as np\n",
    "from sklearn import preprocessing, metrics\n",
    "from sklearn.model_selection import train_test_split\n",
    "\n",
    "\n",
    "ai4i2020 = pd.read_csv('ai4i2020.csv')\n",
    "print(ai4i2020.info())\n",
    "ai4i2020.head(20)"
   ]
  },
  {
   "cell_type": "markdown",
   "id": "87fa1d84",
   "metadata": {},
   "source": [
    "Question 1.1:  Write a command that will calculate the number of unique values for each feature in the training data."
   ]
  },
  {
   "cell_type": "code",
   "execution_count": 3,
   "id": "2637c198",
   "metadata": {},
   "outputs": [
    {
     "name": "stdout",
     "output_type": "stream",
     "text": [
      "UDI :  10000\n",
      "Product ID :  10000\n",
      "Type :  3\n",
      "Air temperature [K] :  93\n",
      "Process temperature [K] :  82\n",
      "Rotational speed [rpm] :  941\n",
      "Torque [Nm] :  577\n",
      "Tool wear [min] :  246\n",
      "Machine failure :  2\n"
     ]
    }
   ],
   "source": [
    "# Command(s)\n",
    "for col in ai4i2020:\n",
    "    print(ai4i2020[col].name, \": \", ai4i2020[col].nunique())"
   ]
  },
  {
   "cell_type": "markdown",
   "id": "9612bbfb",
   "metadata": {},
   "source": [
    "Question 1.2: Determine if the data contains any missing values, and replace the values with np.nan. Missing values would be '?'."
   ]
  },
  {
   "cell_type": "code",
   "execution_count": 4,
   "id": "1445f79e",
   "metadata": {
    "collapsed": true
   },
   "outputs": [],
   "source": [
    "# Check if dataframe has any ?\n",
    "ai4i2020[ai4i2020.eq(\"?\").any(1)]\n",
    "\n",
    "# Strip white spaces before and after each string in all string columns\n",
    "for col in ai4i2020:\n",
    "    if(ai4i2020[col].dtype == object):\n",
    "        ai4i2020[col] = ai4i2020[col].str.strip()"
   ]
  },
  {
   "cell_type": "code",
   "execution_count": 5,
   "id": "f570a98f",
   "metadata": {
    "collapsed": true
   },
   "outputs": [],
   "source": [
    "# Replace ? with np.nan\n",
    "ai4i2020.replace('?', np.NaN, inplace=True)"
   ]
  },
  {
   "cell_type": "code",
   "execution_count": 6,
   "id": "0839a9b7",
   "metadata": {},
   "outputs": [
    {
     "data": {
      "text/plain": [
       "True"
      ]
     },
     "execution_count": 6,
     "metadata": {},
     "output_type": "execute_result"
    }
   ],
   "source": [
    "# Check if dataframe has np.nan, should be true\n",
    "ai4i2020.isnull().values.any()"
   ]
  },
  {
   "cell_type": "markdown",
   "id": "e007885d",
   "metadata": {},
   "source": [
    "Question 1.3: Replace all missing values with the mean. Change column types to numeric."
   ]
  },
  {
   "cell_type": "code",
   "execution_count": 7,
   "id": "36c11575",
   "metadata": {
    "collapsed": true
   },
   "outputs": [],
   "source": [
    "# Convert from string (object) type to float\n",
    "ai4i2020[\"Air temperature [K]\"] = ai4i2020[\"Air temperature [K]\"].astype(float)\n",
    "ai4i2020[\"Process temperature [K]\"] = ai4i2020[\"Process temperature [K]\"].astype(float)"
   ]
  },
  {
   "cell_type": "code",
   "execution_count": 8,
   "id": "200907c8",
   "metadata": {
    "collapsed": true
   },
   "outputs": [],
   "source": [
    "# Replace np.nan with column mean\n",
    "ai4i2020[\"Air temperature [K]\"].fillna(ai4i2020[\"Air temperature [K]\"].mean(), inplace=True)\n",
    "ai4i2020[\"Process temperature [K]\"].fillna(ai4i2020[\"Process temperature [K]\"].mean(), inplace=True)"
   ]
  },
  {
   "cell_type": "code",
   "execution_count": 9,
   "id": "5aad2137",
   "metadata": {},
   "outputs": [
    {
     "data": {
      "text/plain": [
       "False"
      ]
     },
     "execution_count": 9,
     "metadata": {},
     "output_type": "execute_result"
    }
   ],
   "source": [
    "# Check if dataframe has np.nan, should be false\n",
    "ai4i2020.isnull().values.any()"
   ]
  },
  {
   "cell_type": "markdown",
   "id": "dc0cae45",
   "metadata": {},
   "source": [
    "Question 1.4: Drop UDI and 'Product ID' from the data"
   ]
  },
  {
   "cell_type": "code",
   "execution_count": 10,
   "id": "a6f3ddfe",
   "metadata": {},
   "outputs": [
    {
     "data": {
      "text/html": [
       "<div>\n",
       "<style scoped>\n",
       "    .dataframe tbody tr th:only-of-type {\n",
       "        vertical-align: middle;\n",
       "    }\n",
       "\n",
       "    .dataframe tbody tr th {\n",
       "        vertical-align: top;\n",
       "    }\n",
       "\n",
       "    .dataframe thead th {\n",
       "        text-align: right;\n",
       "    }\n",
       "</style>\n",
       "<table border=\"1\" class=\"dataframe\">\n",
       "  <thead>\n",
       "    <tr style=\"text-align: right;\">\n",
       "      <th></th>\n",
       "      <th>Type</th>\n",
       "      <th>Air temperature [K]</th>\n",
       "      <th>Process temperature [K]</th>\n",
       "      <th>Rotational speed [rpm]</th>\n",
       "      <th>Torque [Nm]</th>\n",
       "      <th>Tool wear [min]</th>\n",
       "      <th>Machine failure</th>\n",
       "    </tr>\n",
       "  </thead>\n",
       "  <tbody>\n",
       "    <tr>\n",
       "      <th>0</th>\n",
       "      <td>M</td>\n",
       "      <td>298.1</td>\n",
       "      <td>308.6</td>\n",
       "      <td>1551</td>\n",
       "      <td>42.8</td>\n",
       "      <td>0</td>\n",
       "      <td>0</td>\n",
       "    </tr>\n",
       "    <tr>\n",
       "      <th>1</th>\n",
       "      <td>L</td>\n",
       "      <td>298.2</td>\n",
       "      <td>308.7</td>\n",
       "      <td>1408</td>\n",
       "      <td>46.3</td>\n",
       "      <td>3</td>\n",
       "      <td>0</td>\n",
       "    </tr>\n",
       "    <tr>\n",
       "      <th>2</th>\n",
       "      <td>L</td>\n",
       "      <td>298.1</td>\n",
       "      <td>308.5</td>\n",
       "      <td>1498</td>\n",
       "      <td>49.4</td>\n",
       "      <td>5</td>\n",
       "      <td>0</td>\n",
       "    </tr>\n",
       "    <tr>\n",
       "      <th>3</th>\n",
       "      <td>L</td>\n",
       "      <td>298.2</td>\n",
       "      <td>308.6</td>\n",
       "      <td>1433</td>\n",
       "      <td>39.5</td>\n",
       "      <td>7</td>\n",
       "      <td>0</td>\n",
       "    </tr>\n",
       "    <tr>\n",
       "      <th>4</th>\n",
       "      <td>L</td>\n",
       "      <td>298.2</td>\n",
       "      <td>308.7</td>\n",
       "      <td>1408</td>\n",
       "      <td>40.0</td>\n",
       "      <td>9</td>\n",
       "      <td>0</td>\n",
       "    </tr>\n",
       "  </tbody>\n",
       "</table>\n",
       "</div>"
      ],
      "text/plain": [
       "  Type  Air temperature [K]  Process temperature [K]  Rotational speed [rpm]  \\\n",
       "0    M                298.1                    308.6                    1551   \n",
       "1    L                298.2                    308.7                    1408   \n",
       "2    L                298.1                    308.5                    1498   \n",
       "3    L                298.2                    308.6                    1433   \n",
       "4    L                298.2                    308.7                    1408   \n",
       "\n",
       "   Torque [Nm]  Tool wear [min]  Machine failure  \n",
       "0         42.8                0                0  \n",
       "1         46.3                3                0  \n",
       "2         49.4                5                0  \n",
       "3         39.5                7                0  \n",
       "4         40.0                9                0  "
      ]
     },
     "execution_count": 10,
     "metadata": {},
     "output_type": "execute_result"
    }
   ],
   "source": [
    "ai4i2020.drop('UDI', axis=1, inplace=True)\n",
    "ai4i2020.drop('Product ID', axis=1, inplace=True)\n",
    "ai4i2020.head()"
   ]
  },
  {
   "cell_type": "markdown",
   "id": "dc5a7d75",
   "metadata": {},
   "source": [
    "Question 2.1: Split the data into training and testing taking into consideration 'Machine failure' as the target (y)"
   ]
  },
  {
   "cell_type": "code",
   "execution_count": 11,
   "id": "15dbfe99",
   "metadata": {
    "collapsed": true
   },
   "outputs": [],
   "source": [
    "X = ai4i2020.iloc[:,:-1]\n",
    "y = ai4i2020.iloc[:,-1:]\n",
    "\n",
    "X_train, X_test, y_train, y_test = train_test_split(X, y, test_size=0.33, random_state=42)"
   ]
  },
  {
   "cell_type": "markdown",
   "id": "2fe1b23e",
   "metadata": {},
   "source": [
    "Question 2.2: Apply [One-Hot Encoding](https://scikit-learn.org/stable/modules/generated/sklearn.preprocessing.OneHotEncoder.html) to data. Make sure to Fit the training data and transform both training and test data. "
   ]
  },
  {
   "cell_type": "code",
   "execution_count": 12,
   "id": "01d98189",
   "metadata": {},
   "outputs": [
    {
     "data": {
      "text/plain": [
       "OneHotEncoder(handle_unknown='ignore')"
      ]
     },
     "execution_count": 12,
     "metadata": {},
     "output_type": "execute_result"
    }
   ],
   "source": [
    "from sklearn.preprocessing import OneHotEncoder\n",
    "\n",
    "enc = OneHotEncoder(handle_unknown='ignore')\n",
    "enc.fit(X_train)"
   ]
  },
  {
   "cell_type": "code",
   "execution_count": 13,
   "id": "3c00ea68",
   "metadata": {
    "collapsed": true
   },
   "outputs": [],
   "source": [
    "X_train_ohe = pd.DataFrame(enc.transform(X_train).toarray())\n",
    "X_test_ohe = pd.DataFrame(enc.transform(X_test).toarray())"
   ]
  },
  {
   "cell_type": "markdown",
   "id": "c7435a85",
   "metadata": {},
   "source": [
    "Question 2.3: Apply [SMOTE](https://imbalanced-learn.org/stable/references/generated/imblearn.over_sampling.SMOTE.html) to the training data since there is class imbalance."
   ]
  },
  {
   "cell_type": "code",
   "execution_count": 14,
   "id": "498fcee1",
   "metadata": {
    "collapsed": true
   },
   "outputs": [],
   "source": [
    "# ! pip install --upgrade pip --user\n",
    "# ! pip install --upgrade imbalanced-learn --user\n",
    "# ! pip install seaborn --upgrade --user\n",
    "# Restart kernel"
   ]
  },
  {
   "cell_type": "code",
   "execution_count": 15,
   "id": "a503bfc3",
   "metadata": {
    "collapsed": true
   },
   "outputs": [],
   "source": [
    "from imblearn.over_sampling import SMOTE\n",
    "\n",
    "sm = SMOTE(random_state=42)\n",
    "X_train_res, y_train_res = sm.fit_resample(X_train_ohe, y_train)"
   ]
  },
  {
   "cell_type": "markdown",
   "id": "af67a439",
   "metadata": {},
   "source": [
    "Question 3.1: Train five machine learning [LogisticRegression](https://scikit-learn.org/stable/modules/generated/sklearn.linear_model.LogisticRegression.html), [SVC](https://scikit-learn.org/stable/modules/generated/sklearn.svm.SVC.html), [KNeighborsClassifier](https://scikit-learn.org/stable/modules/generated/sklearn.neighbors.KNeighborsClassifier.html), [DecisionTreeClassifier](https://scikit-learn.org/stable/modules/generated/sklearn.tree.DecisionTreeClassifier.html), and [XGBClassifier](https://xgboost.readthedocs.io/en/latest/python/python_api.html#xgboost.XGBClassifier) based on the training data, and evaluate their performance on the test dataset. Use default hyperparameter values."
   ]
  },
  {
   "cell_type": "code",
   "execution_count": 16,
   "id": "bc137015",
   "metadata": {
    "collapsed": true
   },
   "outputs": [],
   "source": [
    "from sklearn.linear_model import LogisticRegression\n",
    "from sklearn.svm import SVC\n",
    "from sklearn.neighbors import KNeighborsClassifier\n",
    "from sklearn.tree import DecisionTreeClassifier\n",
    "from xgboost.sklearn import XGBClassifier\n",
    "from sklearn.metrics import classification_report\n",
    "from sklearn.metrics import confusion_matrix"
   ]
  },
  {
   "cell_type": "code",
   "execution_count": 17,
   "id": "f1b5a690",
   "metadata": {
    "collapsed": true
   },
   "outputs": [],
   "source": [
    "#Build models (You can either do it combined or separate)\n",
    "models = {'Logistic Regresion': LogisticRegression(), 'Support Vector Machine': SVC(), 'K-NN': KNeighborsClassifier(), 'Decision Tree':DecisionTreeClassifier(),'XGBoost': XGBClassifier()}"
   ]
  },
  {
   "cell_type": "code",
   "execution_count": 18,
   "id": "b2fd0973",
   "metadata": {},
   "outputs": [
    {
     "name": "stdout",
     "output_type": "stream",
     "text": [
      "Accuracy:  0.9393939393939394\n",
      "Confusion matrix:  [[3070  129]\n",
      " [  71   30]]\n",
      "              precision    recall  f1-score   support\n",
      "\n",
      "     class 0       0.98      0.96      0.97      3199\n",
      "     class 1       0.19      0.30      0.23       101\n",
      "\n",
      "    accuracy                           0.94      3300\n",
      "   macro avg       0.58      0.63      0.60      3300\n",
      "weighted avg       0.95      0.94      0.95      3300\n",
      "\n"
     ]
    }
   ],
   "source": [
    "# Logistic regression\n",
    "models['Logistic Regresion'].fit(X_train_res, y_train_res.values.ravel())\n",
    "y_pred_lr = models['Logistic Regresion'].predict(X_test_ohe)\n",
    "acc_lr = models['Logistic Regresion'].score(X_test_ohe, y_test)\n",
    "print(\"Accuracy: \", acc_lr)\n",
    "print(\"Confusion matrix: \", confusion_matrix(y_test, y_pred_lr))\n",
    "target_names = ['class 0', 'class 1']\n",
    "print(classification_report(y_test, y_pred_lr, target_names=target_names))"
   ]
  },
  {
   "cell_type": "code",
   "execution_count": 19,
   "id": "fa37a2ee",
   "metadata": {
    "collapsed": true
   },
   "outputs": [],
   "source": [
    "lr_coef = models['Logistic Regresion'].coef_\n",
    "lr_intercept = models['Logistic Regresion'].intercept_"
   ]
  },
  {
   "cell_type": "code",
   "execution_count": 20,
   "id": "44882090",
   "metadata": {},
   "outputs": [
    {
     "name": "stdout",
     "output_type": "stream",
     "text": [
      "Accuracy:  0.9675757575757575\n",
      "Confusion matrix:  [[3191    8]\n",
      " [  99    2]]\n",
      "              precision    recall  f1-score   support\n",
      "\n",
      "     class 0       0.97      1.00      0.98      3199\n",
      "     class 1       0.20      0.02      0.04       101\n",
      "\n",
      "    accuracy                           0.97      3300\n",
      "   macro avg       0.58      0.51      0.51      3300\n",
      "weighted avg       0.95      0.97      0.95      3300\n",
      "\n"
     ]
    }
   ],
   "source": [
    "# SVC\n",
    "models['Support Vector Machine'].fit(X_train_res, y_train_res.values.ravel())\n",
    "y_pred_svc = models['Support Vector Machine'].predict(X_test_ohe)\n",
    "acc_svc = models['Support Vector Machine'].score(X_test_ohe, y_test)\n",
    "print(\"Accuracy: \", acc_svc)\n",
    "print(\"Confusion matrix: \", confusion_matrix(y_test, y_pred_svc))\n",
    "print(classification_report(y_test, y_pred_svc, target_names=target_names))"
   ]
  },
  {
   "cell_type": "code",
   "execution_count": 21,
   "id": "915d69a4",
   "metadata": {},
   "outputs": [
    {
     "name": "stdout",
     "output_type": "stream",
     "text": [
      "Accuracy:  0.5236363636363637\n",
      "Confusion matrix:  [[1658 1541]\n",
      " [  31   70]]\n",
      "              precision    recall  f1-score   support\n",
      "\n",
      "     class 0       0.98      0.52      0.68      3199\n",
      "     class 1       0.04      0.69      0.08       101\n",
      "\n",
      "    accuracy                           0.52      3300\n",
      "   macro avg       0.51      0.61      0.38      3300\n",
      "weighted avg       0.95      0.52      0.66      3300\n",
      "\n"
     ]
    }
   ],
   "source": [
    "# KNN\n",
    "models['K-NN'].fit(X_train_res, y_train_res.values.ravel())\n",
    "y_pred_knn = models['K-NN'].predict(X_test_ohe)\n",
    "acc_knn = models['K-NN'].score(X_test_ohe, y_test)\n",
    "print(\"Accuracy: \", acc_knn)\n",
    "print(\"Confusion matrix: \", confusion_matrix(y_test, y_pred_knn))\n",
    "print(classification_report(y_test, y_pred_knn, target_names=target_names))"
   ]
  },
  {
   "cell_type": "code",
   "execution_count": 22,
   "id": "a2bf7d59",
   "metadata": {},
   "outputs": [
    {
     "name": "stdout",
     "output_type": "stream",
     "text": [
      "Accuracy:  0.9536363636363636\n",
      "Confusion matrix:  [[3138   61]\n",
      " [  92    9]]\n",
      "              precision    recall  f1-score   support\n",
      "\n",
      "     class 0       0.97      0.98      0.98      3199\n",
      "     class 1       0.13      0.09      0.11       101\n",
      "\n",
      "    accuracy                           0.95      3300\n",
      "   macro avg       0.55      0.54      0.54      3300\n",
      "weighted avg       0.95      0.95      0.95      3300\n",
      "\n"
     ]
    }
   ],
   "source": [
    "# Decision tree\n",
    "models['Decision Tree'].fit(X_train_res, y_train_res.values.ravel())\n",
    "y_pred_dt = models['Decision Tree'].predict(X_test_ohe)\n",
    "acc_dt = models['Decision Tree'].score(X_test_ohe, y_test)\n",
    "print(\"Accuracy: \", acc_dt)\n",
    "print(\"Confusion matrix: \", confusion_matrix(y_test, y_pred_dt))\n",
    "print(classification_report(y_test, y_pred_dt, target_names=target_names))"
   ]
  },
  {
   "cell_type": "code",
   "execution_count": 23,
   "id": "797619df",
   "metadata": {},
   "outputs": [
    {
     "name": "stdout",
     "output_type": "stream",
     "text": [
      "Accuracy:  0.9321212121212121\n",
      "Confusion matrix:  [[3061  138]\n",
      " [  86   15]]\n",
      "              precision    recall  f1-score   support\n",
      "\n",
      "     class 0       0.97      0.96      0.96      3199\n",
      "     class 1       0.10      0.15      0.12       101\n",
      "\n",
      "    accuracy                           0.93      3300\n",
      "   macro avg       0.54      0.55      0.54      3300\n",
      "weighted avg       0.95      0.93      0.94      3300\n",
      "\n"
     ]
    }
   ],
   "source": [
    "# XGB\n",
    "models['XGBoost'].fit(X_train_res, y_train_res.values.ravel())\n",
    "y_pred_xgb = models['XGBoost'].predict(X_test_ohe)\n",
    "acc_xgb = models['XGBoost'].score(X_test_ohe, y_test)\n",
    "print(\"Accuracy: \", acc_xgb)\n",
    "print(\"Confusion matrix: \", confusion_matrix(y_test, y_pred_xgb))\n",
    "print(classification_report(y_test, y_pred_xgb, target_names=target_names))"
   ]
  },
  {
   "cell_type": "markdown",
   "id": "b3ea64ed",
   "metadata": {},
   "source": [
    "Questions 3.2:  Perform recursive feature elimination (3 features) on the dataset using a logistic regression classifier with max_iter= 1000, random_state=5.  Any difference in the results? Explain."
   ]
  },
  {
   "cell_type": "code",
   "execution_count": 24,
   "id": "620181d4",
   "metadata": {
    "collapsed": true
   },
   "outputs": [],
   "source": [
    "from sklearn.feature_selection import RFE\n",
    "\n",
    "estimator = LogisticRegression(max_iter= 1000, random_state=5)\n",
    "selector = RFE(estimator, n_features_to_select=1815) # 1818 features in total, 1815 after eliminating 3 \n",
    "selector = selector.fit(X_train_res, y_train_res.values.ravel())"
   ]
  },
  {
   "cell_type": "code",
   "execution_count": 25,
   "id": "c61e7b04",
   "metadata": {
    "collapsed": true
   },
   "outputs": [],
   "source": [
    "# print(selector.support_)\n",
    "# print(selector.ranking_)\n",
    "# X_train_res.columns[selector.support_]"
   ]
  },
  {
   "cell_type": "code",
   "execution_count": 26,
   "id": "d2488c49",
   "metadata": {},
   "outputs": [
    {
     "name": "stdout",
     "output_type": "stream",
     "text": [
      "Accuracy:  0.9393939393939394\n",
      "Confusion matrix:  [[3070  129]\n",
      " [  71   30]]\n",
      "              precision    recall  f1-score   support\n",
      "\n",
      "     class 0       0.98      0.96      0.97      3199\n",
      "     class 1       0.19      0.30      0.23       101\n",
      "\n",
      "    accuracy                           0.94      3300\n",
      "   macro avg       0.58      0.63      0.60      3300\n",
      "weighted avg       0.95      0.94      0.95      3300\n",
      "\n"
     ]
    }
   ],
   "source": [
    "y_pred_rfe_lr = selector.predict(X_test_ohe)\n",
    "acc_rfe_lr = selector.score(X_test_ohe, y_test)\n",
    "print(\"Accuracy: \", acc_rfe_lr)\n",
    "print(\"Confusion matrix: \", confusion_matrix(y_test, y_pred_rfe_lr))\n",
    "print(classification_report(y_test, y_pred_rfe_lr, target_names=target_names))"
   ]
  },
  {
   "cell_type": "code",
   "execution_count": 27,
   "id": "1e9b107a",
   "metadata": {
    "collapsed": true
   },
   "outputs": [],
   "source": [
    "lr_rfe_coef = selector.estimator_.coef_\n",
    "lr_rfe_intercept = selector.estimator_.intercept_"
   ]
  },
  {
   "cell_type": "code",
   "execution_count": 28,
   "id": "5383ae66",
   "metadata": {},
   "outputs": [
    {
     "name": "stdout",
     "output_type": "stream",
     "text": [
      "Logistic Regression co-efficients. Intercept:  [-3.20898707]\n",
      "0 :  -0.7517238912501732\n",
      "1 :  0.5329982824036124\n",
      "2 :  0.21692766380727432\n",
      "3 :  -0.27697786535270785\n",
      "4 :  -0.03204550710200951\n",
      "Logistic Regression with RFE co-efficients. Intercept:  [-3.20890309]\n",
      "0 :  -0.751775752375468\n",
      "1 :  0.5328355218990842\n",
      "2 :  0.21681282482155034\n",
      "3 :  -0.27693365683845794\n",
      "4 :  -0.03206307601032872\n"
     ]
    }
   ],
   "source": [
    "# Co-efficient comparison of first 5 features for logistic regression without RFE and with RFE for last iteration\n",
    "print(\"Logistic Regression co-efficients. Intercept: \", lr_intercept)\n",
    "for i in range(0,5):\n",
    "    print(i, \": \", lr_coef[-1][i])\n",
    "    \n",
    "print(\"Logistic Regression with RFE co-efficients. Intercept: \", lr_rfe_intercept)\n",
    "for i in range(0,5):\n",
    "    print(i, \": \", lr_rfe_coef[-1][i])"
   ]
  },
  {
   "cell_type": "markdown",
   "id": "2ef0e1d0",
   "metadata": {},
   "source": [
    "Comment: There is no difference in performance and coefficients between logistic regression without RFE and logistic regression with RFE. I decreased the number of features to select from 1818 to 1815 to 1750 and the classification report remained the same. This may be because the selector's estimator and l2, the default feature selector are effectively selecting the same features."
   ]
  },
  {
   "cell_type": "markdown",
   "id": "433fe67e",
   "metadata": {},
   "source": [
    "One hot encoding only the 'Type' column, using pipeline, scaling, cross validating, hyperparameter tuning and redoing steps from 2.2"
   ]
  },
  {
   "cell_type": "code",
   "execution_count": 29,
   "id": "183502e0",
   "metadata": {},
   "outputs": [
    {
     "data": {
      "image/png": "[encoded data removed]",
      "text/plain": [
       "<Figure size 432x288 with 1 Axes>"
      ]
     },
     "metadata": {},
     "output_type": "display_data"
    }
   ],
   "source": [
    "# Distribution graph for the features with numeric values\n",
    "import seaborn as sn\n",
    "import matplotlib.pyplot as plt\n",
    "%matplotlib inline\n",
    "\n",
    "sn.histplot(data=ai4i2020, x=\"Air temperature [K]\", color=\"bisque\", label=\"Air temperature [K]\", kde=True)\n",
    "sn.histplot(data=ai4i2020, x=\"Process temperature [K]\", color=\"lawngreen\", label=\"Process temperature [K]\", kde=True)\n",
    "sn.histplot(data=ai4i2020, x=\"Rotational speed [rpm]\", color=\"fuchsia\", label=\"Rotational speed [rpm]\", kde=True)\n",
    "sn.histplot(data=ai4i2020, x=\"Torque [Nm]\", color=\"orange\", label=\"Torque [Nm]\", kde=True)\n",
    "sn.histplot(data=ai4i2020, x=\"Tool wear [min]\", color=\"black\", label=\"Tool wear [min]\", kde=True)\n",
    "plt.legend() \n",
    "plt.show()"
   ]
  },
  {
   "cell_type": "code",
   "execution_count": 30,
   "id": "6fb9171f",
   "metadata": {
    "collapsed": true
   },
   "outputs": [],
   "source": [
    "# Make buckets of features into categorical and numerical\n",
    "numeric_features = ['Air temperature [K]', 'Process temperature [K]', 'Rotational speed [rpm]', 'Torque [Nm]', 'Tool wear [min]']\n",
    "categorical_features = ['Type']"
   ]
  },
  {
   "cell_type": "code",
   "execution_count": 31,
   "id": "528f913f",
   "metadata": {
    "collapsed": true
   },
   "outputs": [],
   "source": [
    "# Encoding and scaling in the pipeline\n",
    "from sklearn.preprocessing import StandardScaler\n",
    "from sklearn.pipeline import Pipeline\n",
    "from sklearn.compose import ColumnTransformer\n",
    "\n",
    "numeric_transformer = Pipeline(\n",
    "    steps=[(\"scaler\", StandardScaler())]\n",
    ")\n",
    "\n",
    "categorical_transformer = Pipeline(\n",
    "    steps=[(\"encoder\", OneHotEncoder(handle_unknown=\"ignore\"))]\n",
    ")\n",
    "\n",
    "preprocessor = ColumnTransformer(\n",
    "    transformers=[\n",
    "        (\"num\", numeric_transformer, numeric_features),\n",
    "        (\"cat\", categorical_transformer, categorical_features),\n",
    "    ]\n",
    ")"
   ]
  },
  {
   "cell_type": "code",
   "execution_count": 50,
   "id": "e6e6f8e5",
   "metadata": {},
   "outputs": [
    {
     "name": "stdout",
     "output_type": "stream",
     "text": [
      "Accuracy:  0.965\n",
      "Confusion matrix:  [[1918    7]\n",
      " [  63   12]]\n",
      "              precision    recall  f1-score   support\n",
      "\n",
      "     class 0       0.97      1.00      0.98      1925\n",
      "     class 1       0.63      0.16      0.26        75\n",
      "\n",
      "    accuracy                           0.96      2000\n",
      "   macro avg       0.80      0.58      0.62      2000\n",
      "weighted avg       0.96      0.96      0.95      2000\n",
      "\n"
     ]
    }
   ],
   "source": [
    "# Fit and evaluate the logistic regression\n",
    "pl_lr = Pipeline(\n",
    "    steps=[(\"preprocessor\", preprocessor), (\"classifier\", LogisticRegression())]\n",
    ")\n",
    "\n",
    "X_train, X_test, y_train, y_test = train_test_split(X, y, test_size=0.2, random_state=0)\n",
    "\n",
    "pl_lr.fit(X_train, y_train.values.ravel())\n",
    "\n",
    "y_pred_pl_lr = pl_lr.predict(X_test)\n",
    "acc_pl_lr = pl_lr.score(X_test, y_test)\n",
    "print(\"Accuracy: \", acc_pl_lr)\n",
    "print(\"Confusion matrix: \", confusion_matrix(y_test, y_pred_pl_lr))\n",
    "print(classification_report(y_test, y_pred_pl_lr, target_names=target_names))"
   ]
  },
  {
   "cell_type": "code",
   "execution_count": 33,
   "id": "28e24db5",
   "metadata": {},
   "outputs": [
    {
     "name": "stdout",
     "output_type": "stream",
     "text": [
      "Accuracy:  0.971\n",
      "Confusion matrix:  [[1922    3]\n",
      " [  55   20]]\n",
      "              precision    recall  f1-score   support\n",
      "\n",
      "     class 0       0.97      1.00      0.99      1925\n",
      "     class 1       0.87      0.27      0.41        75\n",
      "\n",
      "    accuracy                           0.97      2000\n",
      "   macro avg       0.92      0.63      0.70      2000\n",
      "weighted avg       0.97      0.97      0.96      2000\n",
      "\n"
     ]
    }
   ],
   "source": [
    "# Fit and evaluate the SVC\n",
    "pl_svc = Pipeline(\n",
    "    steps=[(\"preprocessor\", preprocessor), (\"classifier\", SVC())]\n",
    ")\n",
    "\n",
    "pl_svc.fit(X_train, y_train.values.ravel())\n",
    "\n",
    "y_pred_pl_svc = pl_svc.predict(X_test)\n",
    "acc_pl_svc = pl_svc.score(X_test, y_test)\n",
    "print(\"Accuracy: \", acc_pl_svc)\n",
    "print(\"Confusion matrix: \", confusion_matrix(y_test, y_pred_pl_svc))\n",
    "print(classification_report(y_test, y_pred_pl_svc, target_names=target_names))"
   ]
  },
  {
   "cell_type": "code",
   "execution_count": 34,
   "id": "7434fb7c",
   "metadata": {},
   "outputs": [
    {
     "name": "stdout",
     "output_type": "stream",
     "text": [
      "Accuracy:  0.972\n",
      "Confusion matrix:  [[1922    3]\n",
      " [  53   22]]\n",
      "              precision    recall  f1-score   support\n",
      "\n",
      "     class 0       0.97      1.00      0.99      1925\n",
      "     class 1       0.88      0.29      0.44        75\n",
      "\n",
      "    accuracy                           0.97      2000\n",
      "   macro avg       0.93      0.65      0.71      2000\n",
      "weighted avg       0.97      0.97      0.97      2000\n",
      "\n"
     ]
    }
   ],
   "source": [
    "# Fit and evaluate the KNN\n",
    "pl_knn = Pipeline(\n",
    "    steps=[(\"preprocessor\", preprocessor), (\"classifier\", KNeighborsClassifier())]\n",
    ")\n",
    "\n",
    "pl_knn.fit(X_train, y_train.values.ravel())\n",
    "\n",
    "y_pred_pl_knn = pl_knn.predict(X_test)\n",
    "acc_pl_knn = pl_knn.score(X_test, y_test)\n",
    "print(\"Accuracy: \", acc_pl_knn)\n",
    "print(\"Confusion matrix: \", confusion_matrix(y_test, y_pred_pl_knn))\n",
    "print(classification_report(y_test, y_pred_pl_knn, target_names=target_names))"
   ]
  },
  {
   "cell_type": "code",
   "execution_count": 35,
   "id": "eb0b5fe3",
   "metadata": {},
   "outputs": [
    {
     "name": "stdout",
     "output_type": "stream",
     "text": [
      "Accuracy:  0.9715\n",
      "Confusion matrix:  [[1891   34]\n",
      " [  23   52]]\n",
      "              precision    recall  f1-score   support\n",
      "\n",
      "     class 0       0.99      0.98      0.99      1925\n",
      "     class 1       0.60      0.69      0.65        75\n",
      "\n",
      "    accuracy                           0.97      2000\n",
      "   macro avg       0.80      0.84      0.82      2000\n",
      "weighted avg       0.97      0.97      0.97      2000\n",
      "\n"
     ]
    }
   ],
   "source": [
    "# Fit and evaluate the decision tree\n",
    "pl_dt = Pipeline(\n",
    "    steps=[(\"preprocessor\", preprocessor), (\"classifier\", DecisionTreeClassifier())]\n",
    ")\n",
    "\n",
    "pl_dt.fit(X_train, y_train.values.ravel())\n",
    "\n",
    "y_pred_pl_dt = pl_dt.predict(X_test)\n",
    "acc_pl_dt = pl_dt.score(X_test, y_test)\n",
    "print(\"Accuracy: \", acc_pl_dt)\n",
    "print(\"Confusion matrix: \", confusion_matrix(y_test, y_pred_pl_dt))\n",
    "print(classification_report(y_test, y_pred_pl_dt, target_names=target_names))"
   ]
  },
  {
   "cell_type": "code",
   "execution_count": 36,
   "id": "f531aefc",
   "metadata": {},
   "outputs": [
    {
     "name": "stdout",
     "output_type": "stream",
     "text": [
      "Accuracy:  0.982\n",
      "Confusion matrix:  [[1920    5]\n",
      " [  31   44]]\n",
      "              precision    recall  f1-score   support\n",
      "\n",
      "     class 0       0.98      1.00      0.99      1925\n",
      "     class 1       0.90      0.59      0.71        75\n",
      "\n",
      "    accuracy                           0.98      2000\n",
      "   macro avg       0.94      0.79      0.85      2000\n",
      "weighted avg       0.98      0.98      0.98      2000\n",
      "\n"
     ]
    }
   ],
   "source": [
    "# Fit and evaluate the XGB\n",
    "pl_xgb = Pipeline(\n",
    "    steps=[(\"preprocessor\", preprocessor), (\"classifier\", XGBClassifier())]\n",
    ")\n",
    "\n",
    "pl_xgb.fit(X_train, y_train.values.ravel())\n",
    "\n",
    "y_pred_pl_xgb = pl_xgb.predict(X_test)\n",
    "acc_pl_xgb = pl_xgb.score(X_test, y_test)\n",
    "print(\"Accuracy: \", acc_pl_xgb)\n",
    "print(\"Confusion matrix: \", confusion_matrix(y_test, y_pred_pl_xgb))\n",
    "print(classification_report(y_test, y_pred_pl_xgb, target_names=target_names))"
   ]
  },
  {
   "cell_type": "code",
   "execution_count": 37,
   "id": "b3eff4c2",
   "metadata": {},
   "outputs": [
    {
     "data": {
      "image/png": "[encoded data removed]",
      "text/plain": [
       "<Figure size 3000x3000 with 1 Axes>"
      ]
     },
     "metadata": {},
     "output_type": "display_data"
    }
   ],
   "source": [
    "# Compare performance\n",
    "plt.rcParams['figure.figsize'] = [15, 15]\n",
    "plt.rcParams['figure.dpi'] = 200\n",
    "\n",
    "models = (\"LR\", \"SVC\", \"KNN\", \"Decision Tree\", \"XGB\")\n",
    "accuracy1 = [acc_lr, acc_svc, acc_knn, acc_dt, acc_xgb]\n",
    "accuracy2 = [acc_pl_lr, acc_pl_svc, acc_pl_knn, acc_pl_dt, acc_pl_xgb]\n",
    "\n",
    "x = np.arange(len(models))  # the label locations\n",
    "width = 0.15  # the width of the bars\n",
    "\n",
    "fig, ax = plt.subplots()\n",
    "rects1 = ax.bar(x - width/2, accuracy1, width, label='Acc')\n",
    "rects2 = ax.bar(x + width/2, accuracy2, width, label='Acc pipeline')\n",
    "\n",
    "# Add some text for labels, title and custom x-axis tick labels, etc.\n",
    "ax.set_ylabel('Scores')\n",
    "ax.set_title('Performance metrics for each model')\n",
    "ax.set_xticks(x)\n",
    "ax.set_xticklabels(models)\n",
    "ax.legend()\n",
    "\n",
    "\n",
    "def autolabel(rects):\n",
    "    \"\"\"Attach a text label above each bar in *rects*, displaying its height.\"\"\"\n",
    "    for rect in rects:\n",
    "        height = rect.get_height()\n",
    "        ax.annotate('{}'.format(height),\n",
    "                    xy=(rect.get_x() + rect.get_width() / 2, height),\n",
    "                    xytext=(0, 3),  # 3 points vertical offset\n",
    "                    textcoords=\"offset points\",\n",
    "                    ha='center', va='bottom')\n",
    "\n",
    "\n",
    "autolabel(rects1)\n",
    "autolabel(rects2)\n",
    "\n",
    "fig.tight_layout()\n",
    "\n",
    "plt.show()"
   ]
  },
  {
   "cell_type": "code",
   "execution_count": 58,
   "id": "ef28c9fc",
   "metadata": {},
   "outputs": [
    {
     "name": "stderr",
     "output_type": "stream",
     "text": [
      "/mnt/vocwork5/ccc_v1_w_MTM3N_80465/asn1392908_5/asn1392909_1/work/.local/lib/python3.6/site-packages/sklearn/linear_model/_logistic.py:1323: UserWarning: Setting penalty='none' will ignore the C and l1_ratio parameters\n",
      "  \"Setting penalty='none' will ignore the C and l1_ratio \"\n",
      "/mnt/vocwork5/ccc_v1_w_MTM3N_80465/asn1392908_5/asn1392909_1/work/.local/lib/python3.6/site-packages/sklearn/linear_model/_logistic.py:1323: UserWarning: Setting penalty='none' will ignore the C and l1_ratio parameters\n",
      "  \"Setting penalty='none' will ignore the C and l1_ratio \"\n",
      "/mnt/vocwork5/ccc_v1_w_MTM3N_80465/asn1392908_5/asn1392909_1/work/.local/lib/python3.6/site-packages/sklearn/linear_model/_logistic.py:1323: UserWarning: Setting penalty='none' will ignore the C and l1_ratio parameters\n",
      "  \"Setting penalty='none' will ignore the C and l1_ratio \"\n",
      "/mnt/vocwork5/ccc_v1_w_MTM3N_80465/asn1392908_5/asn1392909_1/work/.local/lib/python3.6/site-packages/sklearn/linear_model/_logistic.py:1323: UserWarning: Setting penalty='none' will ignore the C and l1_ratio parameters\n",
      "  \"Setting penalty='none' will ignore the C and l1_ratio \"\n",
      "/mnt/vocwork5/ccc_v1_w_MTM3N_80465/asn1392908_5/asn1392909_1/work/.local/lib/python3.6/site-packages/sklearn/linear_model/_logistic.py:765: ConvergenceWarning: lbfgs failed to converge (status=1):\n",
      "STOP: TOTAL NO. of ITERATIONS REACHED LIMIT.\n",
      "\n",
      "Increase the number of iterations (max_iter) or scale the data as shown in:\n",
      "    https://scikit-learn.org/stable/modules/preprocessing.html\n",
      "Please also refer to the documentation for alternative solver options:\n",
      "    https://scikit-learn.org/stable/modules/linear_model.html#logistic-regression\n",
      "  extra_warning_msg=_LOGISTIC_SOLVER_CONVERGENCE_MSG)\n",
      "/mnt/vocwork5/ccc_v1_w_MTM3N_80465/asn1392908_5/asn1392909_1/work/.local/lib/python3.6/site-packages/sklearn/linear_model/_logistic.py:1323: UserWarning: Setting penalty='none' will ignore the C and l1_ratio parameters\n",
      "  \"Setting penalty='none' will ignore the C and l1_ratio \"\n",
      "/mnt/vocwork5/ccc_v1_w_MTM3N_80465/asn1392908_5/asn1392909_1/work/.local/lib/python3.6/site-packages/sklearn/linear_model/_logistic.py:1323: UserWarning: Setting penalty='none' will ignore the C and l1_ratio parameters\n",
      "  \"Setting penalty='none' will ignore the C and l1_ratio \"\n",
      "/mnt/vocwork5/ccc_v1_w_MTM3N_80465/asn1392908_5/asn1392909_1/work/.local/lib/python3.6/site-packages/sklearn/linear_model/_logistic.py:1323: UserWarning: Setting penalty='none' will ignore the C and l1_ratio parameters\n",
      "  \"Setting penalty='none' will ignore the C and l1_ratio \"\n",
      "/mnt/vocwork5/ccc_v1_w_MTM3N_80465/asn1392908_5/asn1392909_1/work/.local/lib/python3.6/site-packages/sklearn/linear_model/_logistic.py:1323: UserWarning: Setting penalty='none' will ignore the C and l1_ratio parameters\n",
      "  \"Setting penalty='none' will ignore the C and l1_ratio \"\n",
      "/mnt/vocwork5/ccc_v1_w_MTM3N_80465/asn1392908_5/asn1392909_1/work/.local/lib/python3.6/site-packages/sklearn/linear_model/_logistic.py:1323: UserWarning: Setting penalty='none' will ignore the C and l1_ratio parameters\n",
      "  \"Setting penalty='none' will ignore the C and l1_ratio \"\n",
      "/mnt/vocwork5/ccc_v1_w_MTM3N_80465/asn1392908_5/asn1392909_1/work/.local/lib/python3.6/site-packages/sklearn/linear_model/_logistic.py:765: ConvergenceWarning: lbfgs failed to converge (status=1):\n",
      "STOP: TOTAL NO. of ITERATIONS REACHED LIMIT.\n",
      "\n",
      "Increase the number of iterations (max_iter) or scale the data as shown in:\n",
      "    https://scikit-learn.org/stable/modules/preprocessing.html\n",
      "Please also refer to the documentation for alternative solver options:\n",
      "    https://scikit-learn.org/stable/modules/linear_model.html#logistic-regression\n",
      "  extra_warning_msg=_LOGISTIC_SOLVER_CONVERGENCE_MSG)\n",
      "/mnt/vocwork5/ccc_v1_w_MTM3N_80465/asn1392908_5/asn1392909_1/work/.local/lib/python3.6/site-packages/sklearn/linear_model/_logistic.py:1323: UserWarning: Setting penalty='none' will ignore the C and l1_ratio parameters\n",
      "  \"Setting penalty='none' will ignore the C and l1_ratio \"\n",
      "/mnt/vocwork5/ccc_v1_w_MTM3N_80465/asn1392908_5/asn1392909_1/work/.local/lib/python3.6/site-packages/sklearn/linear_model/_logistic.py:1323: UserWarning: Setting penalty='none' will ignore the C and l1_ratio parameters\n",
      "  \"Setting penalty='none' will ignore the C and l1_ratio \"\n",
      "/mnt/vocwork5/ccc_v1_w_MTM3N_80465/asn1392908_5/asn1392909_1/work/.local/lib/python3.6/site-packages/sklearn/linear_model/_logistic.py:1323: UserWarning: Setting penalty='none' will ignore the C and l1_ratio parameters\n",
      "  \"Setting penalty='none' will ignore the C and l1_ratio \"\n",
      "/mnt/vocwork5/ccc_v1_w_MTM3N_80465/asn1392908_5/asn1392909_1/work/.local/lib/python3.6/site-packages/sklearn/linear_model/_logistic.py:1323: UserWarning: Setting penalty='none' will ignore the C and l1_ratio parameters\n",
      "  \"Setting penalty='none' will ignore the C and l1_ratio \"\n",
      "/mnt/vocwork5/ccc_v1_w_MTM3N_80465/asn1392908_5/asn1392909_1/work/.local/lib/python3.6/site-packages/sklearn/linear_model/_logistic.py:1323: UserWarning: Setting penalty='none' will ignore the C and l1_ratio parameters\n",
      "  \"Setting penalty='none' will ignore the C and l1_ratio \"\n",
      "/mnt/vocwork5/ccc_v1_w_MTM3N_80465/asn1392908_5/asn1392909_1/work/.local/lib/python3.6/site-packages/sklearn/linear_model/_logistic.py:765: ConvergenceWarning: lbfgs failed to converge (status=1):\n",
      "STOP: TOTAL NO. of ITERATIONS REACHED LIMIT.\n",
      "\n",
      "Increase the number of iterations (max_iter) or scale the data as shown in:\n",
      "    https://scikit-learn.org/stable/modules/preprocessing.html\n",
      "Please also refer to the documentation for alternative solver options:\n",
      "    https://scikit-learn.org/stable/modules/linear_model.html#logistic-regression\n",
      "  extra_warning_msg=_LOGISTIC_SOLVER_CONVERGENCE_MSG)\n",
      "/mnt/vocwork5/ccc_v1_w_MTM3N_80465/asn1392908_5/asn1392909_1/work/.local/lib/python3.6/site-packages/sklearn/linear_model/_logistic.py:1323: UserWarning: Setting penalty='none' will ignore the C and l1_ratio parameters\n",
      "  \"Setting penalty='none' will ignore the C and l1_ratio \"\n",
      "/mnt/vocwork5/ccc_v1_w_MTM3N_80465/asn1392908_5/asn1392909_1/work/.local/lib/python3.6/site-packages/sklearn/linear_model/_logistic.py:765: ConvergenceWarning: lbfgs failed to converge (status=1):\n",
      "STOP: TOTAL NO. of ITERATIONS REACHED LIMIT.\n",
      "\n",
      "Increase the number of iterations (max_iter) or scale the data as shown in:\n",
      "    https://scikit-learn.org/stable/modules/preprocessing.html\n",
      "Please also refer to the documentation for alternative solver options:\n",
      "    https://scikit-learn.org/stable/modules/linear_model.html#logistic-regression\n",
      "  extra_warning_msg=_LOGISTIC_SOLVER_CONVERGENCE_MSG)\n",
      "/mnt/vocwork5/ccc_v1_w_MTM3N_80465/asn1392908_5/asn1392909_1/work/.local/lib/python3.6/site-packages/sklearn/linear_model/_logistic.py:765: ConvergenceWarning: lbfgs failed to converge (status=1):\n",
      "STOP: TOTAL NO. of ITERATIONS REACHED LIMIT.\n",
      "\n",
      "Increase the number of iterations (max_iter) or scale the data as shown in:\n",
      "    https://scikit-learn.org/stable/modules/preprocessing.html\n",
      "Please also refer to the documentation for alternative solver options:\n",
      "    https://scikit-learn.org/stable/modules/linear_model.html#logistic-regression\n",
      "  extra_warning_msg=_LOGISTIC_SOLVER_CONVERGENCE_MSG)\n",
      "/mnt/vocwork5/ccc_v1_w_MTM3N_80465/asn1392908_5/asn1392909_1/work/.local/lib/python3.6/site-packages/sklearn/linear_model/_logistic.py:765: ConvergenceWarning: lbfgs failed to converge (status=1):\n",
      "STOP: TOTAL NO. of ITERATIONS REACHED LIMIT.\n",
      "\n",
      "Increase the number of iterations (max_iter) or scale the data as shown in:\n",
      "    https://scikit-learn.org/stable/modules/preprocessing.html\n",
      "Please also refer to the documentation for alternative solver options:\n",
      "    https://scikit-learn.org/stable/modules/linear_model.html#logistic-regression\n",
      "  extra_warning_msg=_LOGISTIC_SOLVER_CONVERGENCE_MSG)\n",
      "/mnt/vocwork5/ccc_v1_w_MTM3N_80465/asn1392908_5/asn1392909_1/work/.local/lib/python3.6/site-packages/sklearn/linear_model/_logistic.py:765: ConvergenceWarning: lbfgs failed to converge (status=1):\n",
      "STOP: TOTAL NO. of ITERATIONS REACHED LIMIT.\n",
      "\n",
      "Increase the number of iterations (max_iter) or scale the data as shown in:\n",
      "    https://scikit-learn.org/stable/modules/preprocessing.html\n",
      "Please also refer to the documentation for alternative solver options:\n",
      "    https://scikit-learn.org/stable/modules/linear_model.html#logistic-regression\n",
      "  extra_warning_msg=_LOGISTIC_SOLVER_CONVERGENCE_MSG)\n"
     ]
    },
    {
     "name": "stderr",
     "output_type": "stream",
     "text": [
      "/mnt/vocwork5/ccc_v1_w_MTM3N_80465/asn1392908_5/asn1392909_1/work/.local/lib/python3.6/site-packages/sklearn/linear_model/_logistic.py:1323: UserWarning: Setting penalty='none' will ignore the C and l1_ratio parameters\n",
      "  \"Setting penalty='none' will ignore the C and l1_ratio \"\n",
      "/mnt/vocwork5/ccc_v1_w_MTM3N_80465/asn1392908_5/asn1392909_1/work/.local/lib/python3.6/site-packages/sklearn/linear_model/_logistic.py:1323: UserWarning: Setting penalty='none' will ignore the C and l1_ratio parameters\n",
      "  \"Setting penalty='none' will ignore the C and l1_ratio \"\n",
      "/mnt/vocwork5/ccc_v1_w_MTM3N_80465/asn1392908_5/asn1392909_1/work/.local/lib/python3.6/site-packages/sklearn/linear_model/_logistic.py:1323: UserWarning: Setting penalty='none' will ignore the C and l1_ratio parameters\n",
      "  \"Setting penalty='none' will ignore the C and l1_ratio \"\n",
      "/mnt/vocwork5/ccc_v1_w_MTM3N_80465/asn1392908_5/asn1392909_1/work/.local/lib/python3.6/site-packages/sklearn/linear_model/_logistic.py:1323: UserWarning: Setting penalty='none' will ignore the C and l1_ratio parameters\n",
      "  \"Setting penalty='none' will ignore the C and l1_ratio \"\n",
      "/mnt/vocwork5/ccc_v1_w_MTM3N_80465/asn1392908_5/asn1392909_1/work/.local/lib/python3.6/site-packages/sklearn/linear_model/_logistic.py:765: ConvergenceWarning: lbfgs failed to converge (status=1):\n",
      "STOP: TOTAL NO. of ITERATIONS REACHED LIMIT.\n",
      "\n",
      "Increase the number of iterations (max_iter) or scale the data as shown in:\n",
      "    https://scikit-learn.org/stable/modules/preprocessing.html\n",
      "Please also refer to the documentation for alternative solver options:\n",
      "    https://scikit-learn.org/stable/modules/linear_model.html#logistic-regression\n",
      "  extra_warning_msg=_LOGISTIC_SOLVER_CONVERGENCE_MSG)\n",
      "/mnt/vocwork5/ccc_v1_w_MTM3N_80465/asn1392908_5/asn1392909_1/work/.local/lib/python3.6/site-packages/sklearn/linear_model/_logistic.py:1323: UserWarning: Setting penalty='none' will ignore the C and l1_ratio parameters\n",
      "  \"Setting penalty='none' will ignore the C and l1_ratio \"\n",
      "/mnt/vocwork5/ccc_v1_w_MTM3N_80465/asn1392908_5/asn1392909_1/work/.local/lib/python3.6/site-packages/sklearn/linear_model/_logistic.py:765: ConvergenceWarning: lbfgs failed to converge (status=1):\n",
      "STOP: TOTAL NO. of ITERATIONS REACHED LIMIT.\n",
      "\n",
      "Increase the number of iterations (max_iter) or scale the data as shown in:\n",
      "    https://scikit-learn.org/stable/modules/preprocessing.html\n",
      "Please also refer to the documentation for alternative solver options:\n",
      "    https://scikit-learn.org/stable/modules/linear_model.html#logistic-regression\n",
      "  extra_warning_msg=_LOGISTIC_SOLVER_CONVERGENCE_MSG)\n"
     ]
    },
    {
     "data": {
      "text/plain": [
       "{'C': 0.22685190926977272, 'penalty': 'l2'}"
      ]
     },
     "execution_count": 58,
     "metadata": {},
     "output_type": "execute_result"
    }
   ],
   "source": [
    "# Hyperparameter tuning on logistic regression\n",
    "from sklearn.model_selection import RandomizedSearchCV\n",
    "from scipy.stats import uniform\n",
    "\n",
    "ai4i2020_df = ai4i2020.copy()\n",
    "ai4i2020_df = pd.get_dummies(ai4i2020_df, columns=['Type'], prefix='Type')\n",
    "ai4i2020_df.head()\n",
    "\n",
    "logistic = LogisticRegression(random_state=0)\n",
    "\n",
    "X =  ai4i2020_df[[\"Air temperature [K]\", \"Process temperature [K]\", \"Rotational speed [rpm]\", \"Torque [Nm]\", \"Tool wear [min]\", \"Type_H\", \"Type_L\", \"Type_M\"]]\n",
    "y = ai4i2020_df[[\"Machine failure\"]]\n",
    "\n",
    "params = dict(C=uniform(loc=0, scale=4), penalty=['l2', 'none'])\n",
    "clf = RandomizedSearchCV(logistic, params, random_state=0)\n",
    "search = clf.fit(X, y.values.ravel())\n",
    "search.best_params_"
   ]
  },
  {
   "cell_type": "code",
   "execution_count": 39,
   "id": "d11ae468",
   "metadata": {},
   "outputs": [
    {
     "name": "stdout",
     "output_type": "stream",
     "text": [
      "Cross value score:  [0.97750281 0.98012748 0.97861965]\n"
     ]
    },
    {
     "data": {
      "text/plain": [
       "array([0.97750281, 0.97712786, 0.97711928])"
      ]
     },
     "execution_count": 39,
     "metadata": {},
     "output_type": "execute_result"
    }
   ],
   "source": [
    "# Cross validation\n",
    "from sklearn.model_selection import cross_val_score\n",
    "from sklearn.model_selection import cross_validate\n",
    "\n",
    "print(\"Cross value score: \", cross_val_score(pl_dt, X_train, y_train, cv=3))\n",
    "\n",
    "cv_results = cross_validate(pl_dt, X_train, y_train, cv=3)\n",
    "cv_results['test_score']"
   ]
  },
  {
   "cell_type": "markdown",
   "id": "43e53de1",
   "metadata": {},
   "source": [
    "Q.4. Create a new text cell in your Notebook: Complete a 50-100 word summary (or short description of your thinking in applying this week's learning to the solution) of your experience in this assignment. Include:\n",
    "What was your incoming experience with this model, if any? what steps you took, what obstacles you encountered. how you link this exercise to real-world, machine learning problem-solving. (What steps were missing? What else do you need to learn?) This summary allows your instructor to know how you are doing and allot points for your effort in thinking and planning, and making connections to real-world work. "
   ]
  },
  {
   "cell_type": "markdown",
   "id": "8e42737e",
   "metadata": {
    "collapsed": true
   },
   "source": [
    "I came in with no experience apart from the previous assignments w.r.t regression and penalties. I was initially surprised by the suggestion of one hot encoding the entire dataset which means for columns like rotational speed which has 941 unique values, it would add 941 more columns. It doesn't really make sense to me to one hot encode all the columns, the data is unreadable. But through the process of this and the previous assignments, I've come to understand how to approach and treat the data for a machine learning problem. There is one one shoe fits all solution and it all depends on the data. Exploring data is key. When would normalization help? It always helps to scale data. It always helps to cross validate and hypertune the parameters to check for the best model. Helps to perform feature selection and check for feature combinations. Metrics such as p-values, F1 scores, R-squared, accuracy, confusion matrix help gauge the direction in which I'm going (am I choosing the right model? etc). Commenting on this particular assignment, I was surprised by how much better the models performed after scaling, especially KNN. "
   ]
  },
  {
   "cell_type": "code",
   "execution_count": null,
   "id": "3a467889",
   "metadata": {
    "collapsed": true
   },
   "outputs": [],
   "source": []
  }
 ],
 "metadata": {
  "kernelspec": {
   "display_name": "Python 3 (ipykernel)",
   "language": "python",
   "name": "python3"
  },
  "language_info": {
   "codemirror_mode": {
    "name": "ipython",
    "version": 3
   },
   "file_extension": ".py",
   "mimetype": "text/x-python",
   "name": "python",
   "nbconvert_exporter": "python",
   "pygments_lexer": "ipython3",
   "version": "3.9.13"
  }
 },
 "nbformat": 4,
 "nbformat_minor": 5
}
