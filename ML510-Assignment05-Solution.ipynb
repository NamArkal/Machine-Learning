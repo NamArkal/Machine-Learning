{
 "cells": [
  {
   "cell_type": "markdown",
   "id": "39727e0b",
   "metadata": {},
   "source": [
    "# Predictive Maintenance "
   ]
  },
  {
   "cell_type": "markdown",
   "id": "f38421bd",
   "metadata": {},
   "source": [
    "This assignment covers the topic of predictive maintenance. Predictive Maintenance problems adress predicting when a machine needs to be maintained ahead of breaking down. This problem can occur anywhere regular maintenance is required for a machine. For example, it can be used in manufacturing, fleet operations, train maintenance, etc."
   ]
  },
  {
   "cell_type": "markdown",
   "id": "0204ad97",
   "metadata": {},
   "source": [
    "This assignment will use the [Predictive Maintenance Dataset](https://archive.ics.uci.edu/ml/datasets/AI4I+2020+Predictive+Maintenance+Dataset). The dataset consists of 10 000 data points stored as rows with 14 features in columns. The 'machine failure' label that indicates, whether the machine has failed in this particular datapoint."
   ]
  },
  {
   "cell_type": "markdown",
   "id": "fa29a27a",
   "metadata": {},
   "source": [
    "# Learning Objectives\n",
    "- Perform model tuning based on hyper parameters.\n",
    "- Select the best model after attempting multiple models.\n",
    "- Perform recursive feature elimination, producing a statistically significant improvement over a model without feature selection."
   ]
  },
  {
   "cell_type": "code",
   "execution_count": 116,
   "id": "5e2be95c",
   "metadata": {},
   "outputs": [
    {
     "name": "stdout",
     "output_type": "stream",
     "text": [
      "<class 'pandas.core.frame.DataFrame'>\n",
      "RangeIndex: 10000 entries, 0 to 9999\n",
      "Data columns (total 9 columns):\n",
      " #   Column                   Non-Null Count  Dtype  \n",
      "---  ------                   --------------  -----  \n",
      " 0   UDI                      10000 non-null  int64  \n",
      " 1   Product ID               10000 non-null  object \n",
      " 2   Type                     10000 non-null  object \n",
      " 3   Air temperature [K]      10000 non-null  object \n",
      " 4   Process temperature [K]  10000 non-null  object \n",
      " 5   Rotational speed [rpm]   10000 non-null  int64  \n",
      " 6   Torque [Nm]              10000 non-null  float64\n",
      " 7   Tool wear [min]          10000 non-null  int64  \n",
      " 8   Machine failure          10000 non-null  int64  \n",
      "dtypes: float64(1), int64(4), object(4)\n",
      "memory usage: 703.2+ KB\n",
      "None\n"
     ]
    },
    {
     "data": {
      "text/html": [
       "<div>\n",
       "<style scoped>\n",
       "    .dataframe tbody tr th:only-of-type {\n",
       "        vertical-align: middle;\n",
       "    }\n",
       "\n",
       "    .dataframe tbody tr th {\n",
       "        vertical-align: top;\n",
       "    }\n",
       "\n",
       "    .dataframe thead th {\n",
       "        text-align: right;\n",
       "    }\n",
       "</style>\n",
       "<table border=\"1\" class=\"dataframe\">\n",
       "  <thead>\n",
       "    <tr style=\"text-align: right;\">\n",
       "      <th></th>\n",
       "      <th>UDI</th>\n",
       "      <th>Product ID</th>\n",
       "      <th>Type</th>\n",
       "      <th>Air temperature [K]</th>\n",
       "      <th>Process temperature [K]</th>\n",
       "      <th>Rotational speed [rpm]</th>\n",
       "      <th>Torque [Nm]</th>\n",
       "      <th>Tool wear [min]</th>\n",
       "      <th>Machine failure</th>\n",
       "    </tr>\n",
       "  </thead>\n",
       "  <tbody>\n",
       "    <tr>\n",
       "      <th>0</th>\n",
       "      <td>1</td>\n",
       "      <td>M14860</td>\n",
       "      <td>M</td>\n",
       "      <td>298.1</td>\n",
       "      <td>308.6</td>\n",
       "      <td>1551</td>\n",
       "      <td>42.8</td>\n",
       "      <td>0</td>\n",
       "      <td>0</td>\n",
       "    </tr>\n",
       "    <tr>\n",
       "      <th>1</th>\n",
       "      <td>2</td>\n",
       "      <td>L47181</td>\n",
       "      <td>L</td>\n",
       "      <td>298.2</td>\n",
       "      <td>308.7</td>\n",
       "      <td>1408</td>\n",
       "      <td>46.3</td>\n",
       "      <td>3</td>\n",
       "      <td>0</td>\n",
       "    </tr>\n",
       "    <tr>\n",
       "      <th>2</th>\n",
       "      <td>3</td>\n",
       "      <td>L47182</td>\n",
       "      <td>L</td>\n",
       "      <td>298.1</td>\n",
       "      <td>308.5</td>\n",
       "      <td>1498</td>\n",
       "      <td>49.4</td>\n",
       "      <td>5</td>\n",
       "      <td>0</td>\n",
       "    </tr>\n",
       "    <tr>\n",
       "      <th>3</th>\n",
       "      <td>4</td>\n",
       "      <td>L47183</td>\n",
       "      <td>L</td>\n",
       "      <td>298.2</td>\n",
       "      <td>308.6</td>\n",
       "      <td>1433</td>\n",
       "      <td>39.5</td>\n",
       "      <td>7</td>\n",
       "      <td>0</td>\n",
       "    </tr>\n",
       "    <tr>\n",
       "      <th>4</th>\n",
       "      <td>5</td>\n",
       "      <td>L47184</td>\n",
       "      <td>L</td>\n",
       "      <td>298.2</td>\n",
       "      <td>308.7</td>\n",
       "      <td>1408</td>\n",
       "      <td>40.0</td>\n",
       "      <td>9</td>\n",
       "      <td>0</td>\n",
       "    </tr>\n",
       "    <tr>\n",
       "      <th>5</th>\n",
       "      <td>6</td>\n",
       "      <td>M14865</td>\n",
       "      <td>M</td>\n",
       "      <td>298.1</td>\n",
       "      <td>308.6</td>\n",
       "      <td>1425</td>\n",
       "      <td>41.9</td>\n",
       "      <td>11</td>\n",
       "      <td>0</td>\n",
       "    </tr>\n",
       "    <tr>\n",
       "      <th>6</th>\n",
       "      <td>7</td>\n",
       "      <td>L47186</td>\n",
       "      <td>L</td>\n",
       "      <td>298.1</td>\n",
       "      <td>308.6</td>\n",
       "      <td>1558</td>\n",
       "      <td>42.4</td>\n",
       "      <td>14</td>\n",
       "      <td>0</td>\n",
       "    </tr>\n",
       "    <tr>\n",
       "      <th>7</th>\n",
       "      <td>8</td>\n",
       "      <td>L47187</td>\n",
       "      <td>L</td>\n",
       "      <td>298.1</td>\n",
       "      <td>308.6</td>\n",
       "      <td>1527</td>\n",
       "      <td>40.2</td>\n",
       "      <td>16</td>\n",
       "      <td>0</td>\n",
       "    </tr>\n",
       "    <tr>\n",
       "      <th>8</th>\n",
       "      <td>9</td>\n",
       "      <td>M14868</td>\n",
       "      <td>M</td>\n",
       "      <td>298.3</td>\n",
       "      <td>308.7</td>\n",
       "      <td>1667</td>\n",
       "      <td>28.6</td>\n",
       "      <td>18</td>\n",
       "      <td>0</td>\n",
       "    </tr>\n",
       "    <tr>\n",
       "      <th>9</th>\n",
       "      <td>10</td>\n",
       "      <td>M14869</td>\n",
       "      <td>M</td>\n",
       "      <td>298.5</td>\n",
       "      <td>309</td>\n",
       "      <td>1741</td>\n",
       "      <td>28.0</td>\n",
       "      <td>21</td>\n",
       "      <td>0</td>\n",
       "    </tr>\n",
       "    <tr>\n",
       "      <th>10</th>\n",
       "      <td>11</td>\n",
       "      <td>H29424</td>\n",
       "      <td>H</td>\n",
       "      <td>298.4</td>\n",
       "      <td>308.9</td>\n",
       "      <td>1782</td>\n",
       "      <td>23.9</td>\n",
       "      <td>24</td>\n",
       "      <td>0</td>\n",
       "    </tr>\n",
       "    <tr>\n",
       "      <th>11</th>\n",
       "      <td>12</td>\n",
       "      <td>H29425</td>\n",
       "      <td>H</td>\n",
       "      <td>298.6</td>\n",
       "      <td>309.1</td>\n",
       "      <td>1423</td>\n",
       "      <td>44.3</td>\n",
       "      <td>29</td>\n",
       "      <td>0</td>\n",
       "    </tr>\n",
       "    <tr>\n",
       "      <th>12</th>\n",
       "      <td>13</td>\n",
       "      <td>M14872</td>\n",
       "      <td>M</td>\n",
       "      <td>298.6</td>\n",
       "      <td>309.1</td>\n",
       "      <td>1339</td>\n",
       "      <td>51.1</td>\n",
       "      <td>34</td>\n",
       "      <td>0</td>\n",
       "    </tr>\n",
       "    <tr>\n",
       "      <th>13</th>\n",
       "      <td>14</td>\n",
       "      <td>M14873</td>\n",
       "      <td>M</td>\n",
       "      <td>298.6</td>\n",
       "      <td>309.2</td>\n",
       "      <td>1742</td>\n",
       "      <td>30.0</td>\n",
       "      <td>37</td>\n",
       "      <td>0</td>\n",
       "    </tr>\n",
       "    <tr>\n",
       "      <th>14</th>\n",
       "      <td>15</td>\n",
       "      <td>L47194</td>\n",
       "      <td>L</td>\n",
       "      <td>298.6</td>\n",
       "      <td>309.2</td>\n",
       "      <td>2035</td>\n",
       "      <td>19.6</td>\n",
       "      <td>40</td>\n",
       "      <td>0</td>\n",
       "    </tr>\n",
       "    <tr>\n",
       "      <th>15</th>\n",
       "      <td>16</td>\n",
       "      <td>L47195</td>\n",
       "      <td>L</td>\n",
       "      <td>298.6</td>\n",
       "      <td>309.2</td>\n",
       "      <td>1542</td>\n",
       "      <td>48.4</td>\n",
       "      <td>42</td>\n",
       "      <td>0</td>\n",
       "    </tr>\n",
       "    <tr>\n",
       "      <th>16</th>\n",
       "      <td>17</td>\n",
       "      <td>M14876</td>\n",
       "      <td>M</td>\n",
       "      <td>298.6</td>\n",
       "      <td>309.2</td>\n",
       "      <td>1311</td>\n",
       "      <td>46.6</td>\n",
       "      <td>44</td>\n",
       "      <td>0</td>\n",
       "    </tr>\n",
       "    <tr>\n",
       "      <th>17</th>\n",
       "      <td>18</td>\n",
       "      <td>M14877</td>\n",
       "      <td>M</td>\n",
       "      <td>298.7</td>\n",
       "      <td>309.2</td>\n",
       "      <td>1410</td>\n",
       "      <td>45.6</td>\n",
       "      <td>47</td>\n",
       "      <td>0</td>\n",
       "    </tr>\n",
       "    <tr>\n",
       "      <th>18</th>\n",
       "      <td>19</td>\n",
       "      <td>H29432</td>\n",
       "      <td>H</td>\n",
       "      <td>298.8</td>\n",
       "      <td>309.2</td>\n",
       "      <td>1306</td>\n",
       "      <td>54.5</td>\n",
       "      <td>50</td>\n",
       "      <td>0</td>\n",
       "    </tr>\n",
       "    <tr>\n",
       "      <th>19</th>\n",
       "      <td>20</td>\n",
       "      <td>M14879</td>\n",
       "      <td>M</td>\n",
       "      <td>298.9</td>\n",
       "      <td>309.3</td>\n",
       "      <td>1632</td>\n",
       "      <td>32.5</td>\n",
       "      <td>55</td>\n",
       "      <td>0</td>\n",
       "    </tr>\n",
       "  </tbody>\n",
       "</table>\n",
       "</div>"
      ],
      "text/plain": [
       "    UDI Product ID Type Air temperature [K] Process temperature [K]  \\\n",
       "0     1     M14860    M               298.1                   308.6   \n",
       "1     2     L47181    L               298.2                   308.7   \n",
       "2     3     L47182    L               298.1                   308.5   \n",
       "3     4     L47183    L               298.2                   308.6   \n",
       "4     5     L47184    L               298.2                   308.7   \n",
       "5     6     M14865    M               298.1                   308.6   \n",
       "6     7     L47186    L               298.1                   308.6   \n",
       "7     8     L47187    L               298.1                   308.6   \n",
       "8     9     M14868    M               298.3                   308.7   \n",
       "9    10     M14869    M               298.5                     309   \n",
       "10   11     H29424    H               298.4                   308.9   \n",
       "11   12     H29425    H               298.6                   309.1   \n",
       "12   13     M14872    M               298.6                   309.1   \n",
       "13   14     M14873    M               298.6                   309.2   \n",
       "14   15     L47194    L               298.6                   309.2   \n",
       "15   16     L47195    L               298.6                   309.2   \n",
       "16   17     M14876    M               298.6                   309.2   \n",
       "17   18     M14877    M               298.7                   309.2   \n",
       "18   19     H29432    H               298.8                   309.2   \n",
       "19   20     M14879    M               298.9                   309.3   \n",
       "\n",
       "    Rotational speed [rpm]  Torque [Nm]  Tool wear [min]  Machine failure  \n",
       "0                     1551         42.8                0                0  \n",
       "1                     1408         46.3                3                0  \n",
       "2                     1498         49.4                5                0  \n",
       "3                     1433         39.5                7                0  \n",
       "4                     1408         40.0                9                0  \n",
       "5                     1425         41.9               11                0  \n",
       "6                     1558         42.4               14                0  \n",
       "7                     1527         40.2               16                0  \n",
       "8                     1667         28.6               18                0  \n",
       "9                     1741         28.0               21                0  \n",
       "10                    1782         23.9               24                0  \n",
       "11                    1423         44.3               29                0  \n",
       "12                    1339         51.1               34                0  \n",
       "13                    1742         30.0               37                0  \n",
       "14                    2035         19.6               40                0  \n",
       "15                    1542         48.4               42                0  \n",
       "16                    1311         46.6               44                0  \n",
       "17                    1410         45.6               47                0  \n",
       "18                    1306         54.5               50                0  \n",
       "19                    1632         32.5               55                0  "
      ]
     },
     "execution_count": 116,
     "metadata": {},
     "output_type": "execute_result"
    }
   ],
   "source": [
    "import pandas as pd\n",
    "import numpy as np\n",
    "from sklearn import preprocessing, metrics\n",
    "from sklearn.model_selection import train_test_split\n",
    "\n",
    "\n",
    "ai4i2020 = pd.read_csv('ai4i2020.csv')\n",
    "print(ai4i2020.info())\n",
    "ai4i2020.head(20)"
   ]
  },
  {
   "cell_type": "markdown",
   "id": "e347dccd",
   "metadata": {},
   "source": [
    "Question 1.1:  Write a command that will calculate the number of unique values for each feature in the training data."
   ]
  },
  {
   "cell_type": "code",
   "execution_count": 117,
   "id": "c31eaf88",
   "metadata": {},
   "outputs": [
    {
     "data": {
      "text/plain": [
       "UDI                        10000\n",
       "Product ID                 10000\n",
       "Type                           3\n",
       "Air temperature [K]           93\n",
       "Process temperature [K]       82\n",
       "Rotational speed [rpm]       941\n",
       "Torque [Nm]                  577\n",
       "Tool wear [min]              246\n",
       "Machine failure                2\n",
       "dtype: int64"
      ]
     },
     "execution_count": 117,
     "metadata": {},
     "output_type": "execute_result"
    }
   ],
   "source": [
    "# Command(s)\n",
    "ai4i2020.apply(lambda x: len(x.unique()))"
   ]
  },
  {
   "cell_type": "markdown",
   "id": "661776c4",
   "metadata": {},
   "source": [
    "Question 1.2: Determine if the data contains any missing values, and replace the values with np.nan. Missing values would be '?'."
   ]
  },
  {
   "cell_type": "code",
   "execution_count": 118,
   "id": "3dc6015d",
   "metadata": {},
   "outputs": [
    {
     "data": {
      "text/plain": [
       "UDI                          0\n",
       "Product ID                   0\n",
       "Type                         0\n",
       "Air temperature [K]        140\n",
       "Process temperature [K]    183\n",
       "Rotational speed [rpm]       0\n",
       "Torque [Nm]                  0\n",
       "Tool wear [min]              0\n",
       "Machine failure              0\n",
       "dtype: int64"
      ]
     },
     "execution_count": 118,
     "metadata": {},
     "output_type": "execute_result"
    }
   ],
   "source": [
    "ai4i2020.replace('?', np.nan, inplace=True)\n",
    "ai4i2020.isnull().sum()"
   ]
  },
  {
   "cell_type": "markdown",
   "id": "f9ef36dc",
   "metadata": {},
   "source": [
    "Question 1.3: Replace all missing values with the mean. Change column types to numeric."
   ]
  },
  {
   "cell_type": "code",
   "execution_count": 119,
   "id": "72a3b308",
   "metadata": {},
   "outputs": [
    {
     "data": {
      "text/plain": [
       "UDI                        0\n",
       "Product ID                 0\n",
       "Type                       0\n",
       "Air temperature [K]        0\n",
       "Process temperature [K]    0\n",
       "Rotational speed [rpm]     0\n",
       "Torque [Nm]                0\n",
       "Tool wear [min]            0\n",
       "Machine failure            0\n",
       "dtype: int64"
      ]
     },
     "execution_count": 119,
     "metadata": {},
     "output_type": "execute_result"
    }
   ],
   "source": [
    "\n",
    "ai4i2020['Air temperature [K]'] = pd.to_numeric(ai4i2020['Air temperature [K]'])\n",
    "ai4i2020['Process temperature [K]'] = pd.to_numeric(ai4i2020['Process temperature [K]'])\n",
    "\n",
    "ai4i2020[\"Air temperature [K]\"].fillna(ai4i2020['Air temperature [K]'].mean(), inplace=True)\n",
    "ai4i2020[\"Process temperature [K]\"].fillna(ai4i2020['Process temperature [K]'].mean(), inplace=True)\n",
    "ai4i2020.isnull().sum() #checking the data for NaN values .... should all show 0 now\n",
    "\n",
    "\n"
   ]
  },
  {
   "cell_type": "markdown",
   "id": "75f7518b",
   "metadata": {},
   "source": [
    "Question 1.4: Drop UDI and 'Product ID' from the data"
   ]
  },
  {
   "cell_type": "code",
   "execution_count": 120,
   "id": "8f002fb8",
   "metadata": {},
   "outputs": [],
   "source": [
    "ai4i2020.drop(['UDI', 'Product ID'],axis=1, inplace=True)"
   ]
  },
  {
   "cell_type": "markdown",
   "id": "8f309d1b",
   "metadata": {},
   "source": [
    "Question 2.1: Split the data into training and testing taking into consideration 'Machine failure' as the target"
   ]
  },
  {
   "cell_type": "code",
   "execution_count": 121,
   "id": "d1f4745e",
   "metadata": {},
   "outputs": [],
   "source": [
    "from sklearn.model_selection import train_test_split\n",
    "X = ai4i2020.drop(['Machine failure'],axis=1)\n",
    "y = ai4i2020['Machine failure']\n",
    "X_train, X_test, y_train, y_test = train_test_split(X, y, test_size=0.30, random_state=42)"
   ]
  },
  {
   "cell_type": "markdown",
   "id": "a993adc6",
   "metadata": {},
   "source": [
    "Question 2.2: Apply [One-Hot Encoding](https://scikit-learn.org/stable/modules/generated/sklearn.preprocessing.OneHotEncoder.html) to data. Make sure to Fit the training data and transform both training and test data. "
   ]
  },
  {
   "cell_type": "code",
   "execution_count": 122,
   "id": "76a85f65",
   "metadata": {},
   "outputs": [],
   "source": [
    "from sklearn.preprocessing import OneHotEncoder\n",
    "\n",
    "enc = OneHotEncoder(handle_unknown='ignore')\n",
    "enc.fit(X_train)\n",
    "X_train_enc = enc.transform(X_train)\n",
    "X_test_enc = enc.transform(X_test)"
   ]
  },
  {
   "cell_type": "markdown",
   "id": "2d86fa44",
   "metadata": {},
   "source": [
    "Question 2.3: Apply [SMOTE](https://imbalanced-learn.org/stable/references/generated/imblearn.over_sampling.SMOTE.html) to the training data since there is class imbalance."
   ]
  },
  {
   "cell_type": "code",
   "execution_count": 123,
   "id": "42c0fe28",
   "metadata": {},
   "outputs": [],
   "source": [
    "from imblearn.over_sampling import SMOTE\n",
    "\n",
    "sm = SMOTE(random_state=42)\n",
    "X_res, y_res = sm.fit_resample(X_train_enc, y_train)"
   ]
  },
  {
   "cell_type": "markdown",
   "id": "d3617ad7",
   "metadata": {},
   "source": [
    "Question 3.1: Train five machine learning [LogisticRegression](https://scikit-learn.org/stable/modules/generated/sklearn.linear_model.LogisticRegression.html), [SVC](https://scikit-learn.org/stable/modules/generated/sklearn.svm.SVC.html), [KNeighborsClassifier](https://scikit-learn.org/stable/modules/generated/sklearn.neighbors.KNeighborsClassifier.html), [DecisionTreeClassifier](https://scikit-learn.org/stable/modules/generated/sklearn.tree.DecisionTreeClassifier.html), and [XGBClassifier](https://xgboost.readthedocs.io/en/latest/python/python_api.html#xgboost.XGBClassifier) based on the training data, and evaluate their performance on the test dataset. Use default hyperparameter values."
   ]
  },
  {
   "cell_type": "code",
   "execution_count": 124,
   "id": "d0147a63",
   "metadata": {},
   "outputs": [],
   "source": [
    "from sklearn.linear_model import LogisticRegression\n",
    "from sklearn.svm import SVC\n",
    "from sklearn.neighbors import KNeighborsClassifier\n",
    "from sklearn.tree import DecisionTreeClassifier\n",
    "from xgboost.sklearn import XGBClassifier\n",
    "from sklearn.metrics import classification_report\n",
    "from sklearn.metrics import confusion_matrix\n"
   ]
  },
  {
   "cell_type": "code",
   "execution_count": 125,
   "id": "faef6586",
   "metadata": {},
   "outputs": [
    {
     "name": "stdout",
     "output_type": "stream",
     "text": [
      "Logistic Regresion\n",
      "              precision    recall  f1-score   support\n",
      "\n",
      "           0       0.98      0.96      0.97      2907\n",
      "           1       0.21      0.31      0.25        93\n",
      "\n",
      "    accuracy                           0.94      3000\n",
      "   macro avg       0.59      0.64      0.61      3000\n",
      "weighted avg       0.95      0.94      0.95      3000\n",
      "\n",
      "[[2795  112]\n",
      " [  64   29]]\n",
      "Support Vector Machine\n",
      "              precision    recall  f1-score   support\n",
      "\n",
      "           0       0.97      1.00      0.98      2907\n",
      "           1       0.33      0.03      0.06        93\n",
      "\n",
      "    accuracy                           0.97      3000\n",
      "   macro avg       0.65      0.52      0.52      3000\n",
      "weighted avg       0.95      0.97      0.96      3000\n",
      "\n",
      "[[2901    6]\n",
      " [  90    3]]\n",
      "K-NN\n",
      "              precision    recall  f1-score   support\n",
      "\n",
      "           0       0.98      0.52      0.68      2907\n",
      "           1       0.04      0.69      0.08        93\n",
      "\n",
      "    accuracy                           0.53      3000\n",
      "   macro avg       0.51      0.61      0.38      3000\n",
      "weighted avg       0.95      0.53      0.66      3000\n",
      "\n",
      "[[1519 1388]\n",
      " [  29   64]]\n",
      "Decision Tree\n",
      "              precision    recall  f1-score   support\n",
      "\n",
      "           0       0.97      0.98      0.98      2907\n",
      "           1       0.11      0.06      0.08        93\n",
      "\n",
      "    accuracy                           0.95      3000\n",
      "   macro avg       0.54      0.52      0.53      3000\n",
      "weighted avg       0.94      0.95      0.95      3000\n",
      "\n",
      "[[2858   49]\n",
      " [  87    6]]\n",
      "[19:31:08] WARNING: C:/Users/Administrator/workspace/xgboost-win64_release_1.5.0/src/learner.cc:1115: Starting in XGBoost 1.3.0, the default evaluation metric used with the objective 'binary:logistic' was changed from 'error' to 'logloss'. Explicitly set eval_metric if you'd like to restore the old behavior.\n"
     ]
    },
    {
     "name": "stderr",
     "output_type": "stream",
     "text": [
      "C:\\Users\\mam_0\\anaconda3\\lib\\site-packages\\xgboost\\sklearn.py:1224: UserWarning: The use of label encoder in XGBClassifier is deprecated and will be removed in a future release. To remove this warning, do the following: 1) Pass option use_label_encoder=False when constructing XGBClassifier object; and 2) Encode your labels (y) as integers starting with 0, i.e. 0, 1, 2, ..., [num_class - 1].\n",
      "  warnings.warn(label_encoder_deprecation_msg, UserWarning)\n"
     ]
    },
    {
     "name": "stdout",
     "output_type": "stream",
     "text": [
      "XGBoost\n",
      "              precision    recall  f1-score   support\n",
      "\n",
      "           0       0.97      1.00      0.98      2907\n",
      "           1       0.29      0.02      0.04        93\n",
      "\n",
      "    accuracy                           0.97      3000\n",
      "   macro avg       0.63      0.51      0.51      3000\n",
      "weighted avg       0.95      0.97      0.95      3000\n",
      "\n",
      "[[2902    5]\n",
      " [  91    2]]\n"
     ]
    }
   ],
   "source": [
    "models = {'Logistic Regresion': LogisticRegression(), 'Support Vector Machine': SVC(), 'K-NN': KNeighborsClassifier(), 'Decision Tree':DecisionTreeClassifier(),'XGBoost': XGBClassifier()}\n",
    "\n",
    "for model in models.keys():  # or for i in range(0, len(models)):\n",
    "    models[model].fit(X_res, y_res)\n",
    "    \n",
    "    y_pred = models[model].predict(X_test_enc)\n",
    "    print (model)\n",
    "    print(classification_report(y_test, y_pred))\n",
    "    print(confusion_matrix(y_test, y_pred))"
   ]
  },
  {
   "cell_type": "markdown",
   "id": "857c3230",
   "metadata": {},
   "source": [
    "Questions 3.2:  Perform recursive feature elimination (3 features) on the dataset using a logistic regression classifier with max_iter= 1000. Any difference in the results? Explain."
   ]
  },
  {
   "cell_type": "code",
   "execution_count": 126,
   "id": "65cc0311",
   "metadata": {},
   "outputs": [
    {
     "name": "stdout",
     "output_type": "stream",
     "text": [
      "              precision    recall  f1-score   support\n",
      "\n",
      "           0       0.97      1.00      0.98      2907\n",
      "           1       0.62      0.05      0.10        93\n",
      "\n",
      "    accuracy                           0.97      3000\n",
      "   macro avg       0.80      0.53      0.54      3000\n",
      "weighted avg       0.96      0.97      0.96      3000\n",
      "\n",
      "[[2904    3]\n",
      " [  88    5]]\n"
     ]
    }
   ],
   "source": [
    "from sklearn.feature_selection import RFE\n",
    "\n",
    "log_rgr = LogisticRegression(random_state=5, max_iter=500)\n",
    "\n",
    "rfe = RFE(log_rgr, n_features_to_select=3)\n",
    "rfe.fit(X_res, y_res)\n",
    "\n",
    "y_pred = rfe.predict(X_test_enc)\n",
    "print(classification_report(y_test, y_pred))\n",
    "print(confusion_matrix(y_test, y_pred))"
   ]
  },
  {
   "cell_type": "code",
   "execution_count": null,
   "id": "14031e03",
   "metadata": {},
   "outputs": [],
   "source": []
  }
 ],
 "metadata": {
  "kernelspec": {
   "display_name": "Python 3",
   "language": "python",
   "name": "python3"
  },
  "language_info": {
   "codemirror_mode": {
    "name": "ipython",
    "version": 3
   },
   "file_extension": ".py",
   "mimetype": "text/x-python",
   "name": "python",
   "nbconvert_exporter": "python",
   "pygments_lexer": "ipython3",
   "version": "3.7.10"
  }
 },
 "nbformat": 4,
 "nbformat_minor": 5
}
